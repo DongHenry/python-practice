{
 "cells": [
  {
   "cell_type": "markdown",
   "metadata": {},
   "source": [
    "参考文章： \n",
    "- https://www.edureka.co/blog/interview-questions/python-interview-questions/"
   ]
  },
  {
   "cell_type": "markdown",
   "metadata": {},
   "source": [
    "#### Q.1. Python有哪些特点和优点？\n",
    "##### 作为一门编程入门语言，Python主要有以下特点和优点：\n",
    "- 可解释\n",
    "- 具有动态特性\n",
    "- 面向对象\n",
    "- 简洁\n",
    "- 开源\n",
    "- 具有强大的社区支持"
   ]
  },
  {
   "cell_type": "markdown",
   "metadata": {},
   "source": [
    "#### Q.2. 直接赋值、深拷贝、浅拷贝之前的区别是什么？"
   ]
  },
  {
   "cell_type": "markdown",
   "metadata": {},
   "source": [
    "#####  直接赋值,默认浅拷贝传递对象的引用，原始列表改变，被赋值的对象也会发生改变"
   ]
  },
  {
   "cell_type": "code",
   "execution_count": 1,
   "metadata": {
    "ExecuteTime": {
     "end_time": "2019-05-31T10:43:02.962487Z",
     "start_time": "2019-05-31T10:43:02.953974Z"
    },
    "scrolled": false
   },
   "outputs": [
    {
     "name": "stdout",
     "output_type": "stream",
     "text": [
      "原对象:['xiaoming', 'xiaohua', 'xiaoduan', 'xiaodong', 'xiaoyu']\n",
      "赋值后对象:['xiaoming', 'xiaohua', 'xiaoduan', 'xiaodong', 'xiaoyu']\n"
     ]
    }
   ],
   "source": [
    "\n",
    "\n",
    "\n",
    "\n",
    "name_info = ['xiaoming', 'xiaohua', 'xiaoduan', 'xiaodong']\n",
    "name_info_after = name_info\n",
    "\n",
    "name_info.append('xiaoyu')\n",
    "print(f'原对象:{name_info}')\n",
    "print(f'赋值后对象:{name_info_after}')"
   ]
  },
  {
   "cell_type": "markdown",
   "metadata": {},
   "source": [
    "##### 深拷贝就是将一个对象拷贝到另一个对象，这意味着如何你对一个对象的拷贝做出改动，不会影响原对象。在Python中，使用deepcopy()函数执行深拷贝.\n",
    "深拷贝，包含对象里面的子对象的拷贝，所以原始对象的改变不会改变深拷贝里任何子元素的改变"
   ]
  },
  {
   "cell_type": "code",
   "execution_count": 5,
   "metadata": {
    "ExecuteTime": {
     "end_time": "2019-05-23T02:27:59.654877Z",
     "start_time": "2019-05-23T02:27:59.647899Z"
    }
   },
   "outputs": [
    {
     "name": "stdout",
     "output_type": "stream",
     "text": [
      "原先的对象:['xiaoming', 'xiaohua', 'xiaoduan', 'xiaodong']\n",
      "深拷贝之后的对象：['xiaoming', 'xiaohua', 'xiaoduan', 'xiaodong']\n",
      "\n",
      "执行深拷贝后的对象与原来的对象是独立的，改动不影响彼此对象\n",
      "\n",
      "修改原来的对象:['xiaoming', 'xiaohua', 'xiaoduan', 'xiaodong', 'xiaoyu']\n",
      "修改深拷贝之后的对象:['xiaoming', 'xiaohua', 'xiaoduan']\n"
     ]
    }
   ],
   "source": [
    "import copy \n",
    "\n",
    "name_info = ['xiaoming', 'xiaohua', 'xiaoduan', 'xiaodong']\n",
    "deepcopy_name_info = copy.deepcopy(name_info)\n",
    "\n",
    "print(f'原先的对象:{name_info}')\n",
    "print(f'深拷贝之后的对象：{deepcopy_name_info}\\n')\n",
    "\n",
    "name_info.append('xiaoyu')\n",
    "deepcopy_name_info.remove('xiaodong')\n",
    "\n",
    "print('执行深拷贝后的对象与原来的对象是独立的，改动不影响彼此对象\\n')\n",
    "print(f'修改原来的对象:{name_info}')\n",
    "print(f'修改深拷贝之后的对象:{deepcopy_name_info}')"
   ]
  },
  {
   "cell_type": "markdown",
   "metadata": {},
   "source": [
    "##### 浅拷贝 ，没有拷贝子对象，所以原始数据改变，子对象会改变"
   ]
  },
  {
   "cell_type": "code",
   "execution_count": 17,
   "metadata": {
    "ExecuteTime": {
     "end_time": "2019-05-23T03:07:34.457333Z",
     "start_time": "2019-05-23T03:07:34.451398Z"
    }
   },
   "outputs": [
    {
     "name": "stdout",
     "output_type": "stream",
     "text": [
      "原先的对象:['xiaoming', 'xiaohua', 'xiaoduan', 'xiaodong']\n",
      "深拷贝之后的对象：['xiaoming', 'xiaohua', 'xiaoduan', 'xiaodong']\n",
      "\n",
      "原始对象不包含子对象，原对象改变，浅拷贝后的对象并不改变\n",
      "\n",
      "修改原来的对象:['xiaoming', 'xiaohua', 'xiaoduan', 'xiaodong', 'xiaoyu']\n",
      "修改浅拷贝之后的对象:['xiaoming', 'xiaohua', 'xiaoduan', 'xiaodong']\n"
     ]
    }
   ],
   "source": [
    "import copy \n",
    "\n",
    "name_info = ['xiaoming', 'xiaohua', 'xiaoduan', 'xiaodong']\n",
    "copy_name_info = copy.copy(name_info)\n",
    "\n",
    "print(f'原先的对象:{name_info}')\n",
    "print(f'浅拷贝之后的对象：{copy_name_info}\\n')\n",
    "\n",
    "name_info.append('xiaoyu')\n",
    "\n",
    "print('原始对象不包含子对象，原对象改变，浅拷贝后的对象并不改变\\n')\n",
    "print(f'修改原来的对象:{name_info}')\n",
    "print(f'修改浅拷贝之后的对象:{copy_name_info}')"
   ]
  },
  {
   "cell_type": "code",
   "execution_count": 20,
   "metadata": {
    "ExecuteTime": {
     "end_time": "2019-05-23T03:09:33.562687Z",
     "start_time": "2019-05-23T03:09:33.552746Z"
    }
   },
   "outputs": [
    {
     "name": "stdout",
     "output_type": "stream",
     "text": [
      "原先的对象:['xiaoming', 'xiaohua', ['xiaowang', 'xiaoli'], 'xiaoduan', 'xiaodong']\n",
      "浅拷贝之后的对象：['xiaoming', 'xiaohua', ['xiaowang', 'xiaoli'], 'xiaoduan', 'xiaodong']\n",
      "\n",
      "原始对象不包含子对象，原对象改变，浅拷贝后的对象并不改变\n",
      "\n",
      "修改原来的对象:['xiaoming', 'xiaohua', ['xiaowang', 'xiaoli', 'xiaoyu'], 'xiaoduan', 'xiaodong']\n",
      "修改浅拷贝之后的对象:['xiaoming', 'xiaohua', ['xiaowang', 'xiaoli', 'xiaoyu'], 'xiaoduan', 'xiaodong']\n"
     ]
    }
   ],
   "source": [
    "import copy \n",
    "\n",
    "name_info = ['xiaoming', 'xiaohua', ['xiaowang', 'xiaoli'], 'xiaoduan', 'xiaodong']\n",
    "copy_name_info = copy.copy(name_info)\n",
    "\n",
    "print(f'原先的对象:{name_info}')\n",
    "print(f'浅拷贝之后的对象：{copy_name_info}\\n')\n",
    "\n",
    "name_info[2].append('xiaoyu')\n",
    "\n",
    "print('原始对象不包含子对象，原对象改变，浅拷贝后的对象并不改变\\n')\n",
    "print(f'修改原来的对象:{name_info}')\n",
    "print(f'修改浅拷贝之后的对象:{copy_name_info}')"
   ]
  },
  {
   "cell_type": "markdown",
   "metadata": {},
   "source": [
    "#### Q.3. 列表和元组的区别是？\n",
    "列表是可变的，元组是不可变的"
   ]
  },
  {
   "cell_type": "code",
   "execution_count": 10,
   "metadata": {
    "ExecuteTime": {
     "end_time": "2019-05-23T02:41:11.180055Z",
     "start_time": "2019-05-23T02:41:11.163827Z"
    }
   },
   "outputs": [
    {
     "data": {
      "text/plain": [
       "[1, 2, 6]"
      ]
     },
     "execution_count": 10,
     "metadata": {},
     "output_type": "execute_result"
    }
   ],
   "source": [
    "lists = [1,2,3]\n",
    "lists[2] = 6\n",
    "lists"
   ]
  },
  {
   "cell_type": "code",
   "execution_count": 12,
   "metadata": {
    "ExecuteTime": {
     "end_time": "2019-05-23T02:43:16.996110Z",
     "start_time": "2019-05-23T02:43:16.979383Z"
    }
   },
   "outputs": [
    {
     "ename": "TypeError",
     "evalue": "'tuple' object does not support item assignment",
     "output_type": "error",
     "traceback": [
      "\u001b[0;31m---------------------------------------------------------------------------\u001b[0m",
      "\u001b[0;31mTypeError\u001b[0m                                 Traceback (most recent call last)",
      "\u001b[0;32m<ipython-input-12-c576d147b260>\u001b[0m in \u001b[0;36m<module>\u001b[0;34m\u001b[0m\n\u001b[1;32m      2\u001b[0m \u001b[0;31m# TypeError: 'tuple' object does not support item assignment\u001b[0m\u001b[0;34m\u001b[0m\u001b[0;34m\u001b[0m\u001b[0;34m\u001b[0m\u001b[0m\n\u001b[1;32m      3\u001b[0m \u001b[0mtuples\u001b[0m \u001b[0;34m=\u001b[0m \u001b[0;34m(\u001b[0m\u001b[0;36m1\u001b[0m\u001b[0;34m,\u001b[0m\u001b[0;36m2\u001b[0m\u001b[0;34m,\u001b[0m\u001b[0;36m3\u001b[0m\u001b[0;34m)\u001b[0m\u001b[0;34m\u001b[0m\u001b[0;34m\u001b[0m\u001b[0m\n\u001b[0;32m----> 4\u001b[0;31m \u001b[0mtuples\u001b[0m\u001b[0;34m[\u001b[0m\u001b[0;36m2\u001b[0m\u001b[0;34m]\u001b[0m \u001b[0;34m=\u001b[0m \u001b[0;36m6\u001b[0m\u001b[0;34m\u001b[0m\u001b[0;34m\u001b[0m\u001b[0m\n\u001b[0m\u001b[1;32m      5\u001b[0m \u001b[0mtuples\u001b[0m\u001b[0;34m\u001b[0m\u001b[0;34m\u001b[0m\u001b[0m\n",
      "\u001b[0;31mTypeError\u001b[0m: 'tuple' object does not support item assignment"
     ]
    }
   ],
   "source": [
    "# 元组是不可变对象，修改元组元素会出现如下错误:\n",
    "# TypeError: 'tuple' object does not support item assignment\n",
    "tuples = (1,2,3)\n",
    "tuples[2] = 6\n",
    "tuples"
   ]
  },
  {
   "cell_type": "markdown",
   "metadata": {},
   "source": [
    "#### Q.4. Python的三元表达式\n",
    "[ on true] if [expression] else [on false]"
   ]
  },
  {
   "cell_type": "code",
   "execution_count": 13,
   "metadata": {
    "ExecuteTime": {
     "end_time": "2019-05-23T02:47:12.014002Z",
     "start_time": "2019-05-23T02:47:12.006558Z"
    }
   },
   "outputs": [
    {
     "name": "stdout",
     "output_type": "stream",
     "text": [
      "Xiaohua is 成年人\n"
     ]
    }
   ],
   "source": [
    "age = 22\n",
    "info = '成年人' if age > 18 else '未成年人'\n",
    "print(f'Xiaohua is {info}')"
   ]
  },
  {
   "cell_type": "code",
   "execution_count": 14,
   "metadata": {
    "ExecuteTime": {
     "end_time": "2019-05-23T02:51:38.553124Z",
     "start_time": "2019-05-23T02:51:38.537695Z"
    }
   },
   "outputs": [
    {
     "name": "stdout",
     "output_type": "stream",
     "text": [
      "2\n"
     ]
    }
   ],
   "source": [
    "a, b = 2, 3\n",
    "minvalue = a if a < b else b\n",
    "print(minvalue)"
   ]
  },
  {
   "cell_type": "markdown",
   "metadata": {},
   "source": [
    "#### Q.5. Python中如何实现多线程\n",
    "一个线程就是一个轻量级进程，多线程能让我们一次执行多个线程。Python是多线程语言，其内置有多线程工具包\n",
    "\n",
    "Python中的GIL（全局解释器锁）确保一次执行单个线程。一个线程保存GIL并在将其传递给下个线程之前执行一些操作，这会让我们产生并行执行的错觉。但实际上，只是线程在CPU上轮流运行。"
   ]
  },
  {
   "cell_type": "markdown",
   "metadata": {},
   "source": [
    "#### Q.6. 解释一下Python中的继承\n",
    "当一个类继承自另一个类，它就被称为一个子类/派生类，继承自父类/基类/超类。它会继承/获取所有类成员（属性和方法）\n",
    "\n",
    "继承能让我们重新使用代码，也能更容易的创建和维护应用。Python支持如下种类的继承：\n",
    "\n",
    "- 单继承：一个类继承自单个基类\n",
    "- 多继承： 一个类继承自多个基类\n",
    "- 多级继承： 一个类继承自单个基类，后者则继承自另一个基类\n",
    "- 分层继承： 多个类继承自单个基类\n",
    "- 混合继承： 两种或多种类型继承的混合"
   ]
  },
  {
   "cell_type": "markdown",
   "metadata": {},
   "source": [
    "#### Q.7. 在Python中是如何管理内存的？\n",
    "1. Python有一个私有堆空间来保存所有的对象和数据结构。作为开发者，我们无法访问它，是解释器在管理它。但是有了核心API后，我们可以访问一些工具。Python内存管理器控制内存分配\n",
    "2. Python的内存管理由Python解释器负责，开发人员可以从内存管理事务中解放出来，致力于应用程序的开发，这样就使得开发的程序错误更少，程序更健壮，开发周期更短\n"
   ]
  },
  {
   "cell_type": "markdown",
   "metadata": {},
   "source": [
    "#### Q.8. 解释Python中的help() 和dir()函数\n",
    "\n",
    "help()函数是一个内置函数，用于查看函数或模块用途的详细说明："
   ]
  },
  {
   "cell_type": "code",
   "execution_count": 21,
   "metadata": {
    "ExecuteTime": {
     "end_time": "2019-05-23T03:27:20.601519Z",
     "start_time": "2019-05-23T03:27:20.585205Z"
    }
   },
   "outputs": [
    {
     "name": "stdout",
     "output_type": "stream",
     "text": [
      "Help on function copy in module copy:\n",
      "\n",
      "copy(x)\n",
      "    Shallow copy operation on arbitrary Python objects.\n",
      "    \n",
      "    See the module's __doc__ string for more info.\n",
      "\n"
     ]
    }
   ],
   "source": [
    "import copy\n",
    "\n",
    "help(copy.copy)"
   ]
  },
  {
   "cell_type": "markdown",
   "metadata": {
    "ExecuteTime": {
     "end_time": "2019-05-23T03:27:52.863259Z",
     "start_time": "2019-05-23T03:27:52.852613Z"
    }
   },
   "source": [
    "dir()函数是一个内置函数，dir()不带参数返回当前范围内的变量、方法和定义的类型列表\n",
    "dir()带参数，返回参数的属性、方法列表"
   ]
  },
  {
   "cell_type": "code",
   "execution_count": 24,
   "metadata": {
    "ExecuteTime": {
     "end_time": "2019-05-23T03:29:49.467583Z",
     "start_time": "2019-05-23T03:29:49.456689Z"
    }
   },
   "outputs": [
    {
     "data": {
      "text/plain": [
       "['In',\n",
       " 'Out',\n",
       " '_',\n",
       " '_10',\n",
       " '__',\n",
       " '___',\n",
       " '__builtin__',\n",
       " '__builtins__',\n",
       " '__doc__',\n",
       " '__loader__',\n",
       " '__name__',\n",
       " '__package__',\n",
       " '__spec__',\n",
       " '_dh',\n",
       " '_i',\n",
       " '_i1',\n",
       " '_i10',\n",
       " '_i11',\n",
       " '_i12',\n",
       " '_i13',\n",
       " '_i14',\n",
       " '_i15',\n",
       " '_i16',\n",
       " '_i17',\n",
       " '_i18',\n",
       " '_i19',\n",
       " '_i2',\n",
       " '_i20',\n",
       " '_i21',\n",
       " '_i22',\n",
       " '_i23',\n",
       " '_i24',\n",
       " '_i3',\n",
       " '_i4',\n",
       " '_i5',\n",
       " '_i6',\n",
       " '_i7',\n",
       " '_i8',\n",
       " '_i9',\n",
       " '_ih',\n",
       " '_ii',\n",
       " '_iii',\n",
       " '_oh',\n",
       " 'a',\n",
       " 'age',\n",
       " 'autopep8',\n",
       " 'b',\n",
       " 'copy',\n",
       " 'copy_name_info',\n",
       " 'deepcopy_name_info',\n",
       " 'exit',\n",
       " 'get_ipython',\n",
       " 'info',\n",
       " 'json',\n",
       " 'lists',\n",
       " 'minvalue',\n",
       " 'name_info',\n",
       " 'name_info_after',\n",
       " 'quit',\n",
       " 'tuples']"
      ]
     },
     "execution_count": 24,
     "metadata": {},
     "output_type": "execute_result"
    }
   ],
   "source": [
    "dir()"
   ]
  },
  {
   "cell_type": "code",
   "execution_count": 25,
   "metadata": {
    "ExecuteTime": {
     "end_time": "2019-05-23T03:30:22.072367Z",
     "start_time": "2019-05-23T03:30:22.067080Z"
    }
   },
   "outputs": [
    {
     "data": {
      "text/plain": [
       "['__annotations__',\n",
       " '__call__',\n",
       " '__class__',\n",
       " '__closure__',\n",
       " '__code__',\n",
       " '__defaults__',\n",
       " '__delattr__',\n",
       " '__dict__',\n",
       " '__dir__',\n",
       " '__doc__',\n",
       " '__eq__',\n",
       " '__format__',\n",
       " '__ge__',\n",
       " '__get__',\n",
       " '__getattribute__',\n",
       " '__globals__',\n",
       " '__gt__',\n",
       " '__hash__',\n",
       " '__init__',\n",
       " '__init_subclass__',\n",
       " '__kwdefaults__',\n",
       " '__le__',\n",
       " '__lt__',\n",
       " '__module__',\n",
       " '__name__',\n",
       " '__ne__',\n",
       " '__new__',\n",
       " '__qualname__',\n",
       " '__reduce__',\n",
       " '__reduce_ex__',\n",
       " '__repr__',\n",
       " '__setattr__',\n",
       " '__sizeof__',\n",
       " '__str__',\n",
       " '__subclasshook__']"
      ]
     },
     "execution_count": 25,
     "metadata": {},
     "output_type": "execute_result"
    }
   ],
   "source": [
    "dir(copy.copy)"
   ]
  },
  {
   "cell_type": "markdown",
   "metadata": {},
   "source": [
    "#### Q.9. 当退出Python时，是否释放全部内存?\n",
    "\n",
    "不是，循环引用其他对象或引用自全局命名空间的对象的模块，在Python退出时并非完全释放，另外，也不会释放C库保留的内存部分"
   ]
  },
  {
   "cell_type": "markdown",
   "metadata": {},
   "source": [
    "#### Q.10. 什么是 lambda函数？\n",
    "Python允许定义一个单行的小函数。定义lambda 函数的形式如下:\n",
    "\n",
    "lambda 参数 : 表达式\n",
    "\n",
    "lambda函数默认返回表达式的值，也可以将其赋值给一个变量。lambda函数可以接受任意个参数，包括可选参数，但是表达式只有一个"
   ]
  },
  {
   "cell_type": "code",
   "execution_count": 26,
   "metadata": {
    "ExecuteTime": {
     "end_time": "2019-05-23T03:46:18.985793Z",
     "start_time": "2019-05-23T03:46:18.965137Z"
    }
   },
   "outputs": [
    {
     "data": {
      "text/plain": [
       "2"
      ]
     },
     "execution_count": 26,
     "metadata": {},
     "output_type": "execute_result"
    }
   ],
   "source": [
    "g = lambda x, y : x*y\n",
    "g(1, 2)"
   ]
  },
  {
   "cell_type": "code",
   "execution_count": 27,
   "metadata": {
    "ExecuteTime": {
     "end_time": "2019-05-23T03:47:05.935100Z",
     "start_time": "2019-05-23T03:47:05.926037Z"
    }
   },
   "outputs": [
    {
     "data": {
      "text/plain": [
       "1"
      ]
     },
     "execution_count": 27,
     "metadata": {},
     "output_type": "execute_result"
    }
   ],
   "source": [
    "g = lambda x, y = 0, z = 0: x+y+z\n",
    "g(1)"
   ]
  },
  {
   "cell_type": "code",
   "execution_count": 28,
   "metadata": {
    "ExecuteTime": {
     "end_time": "2019-05-23T03:47:18.610719Z",
     "start_time": "2019-05-23T03:47:18.603310Z"
    }
   },
   "outputs": [
    {
     "data": {
      "text/plain": [
       "11"
      ]
     },
     "execution_count": 28,
     "metadata": {},
     "output_type": "execute_result"
    }
   ],
   "source": [
    "g(1, 3, 7)"
   ]
  },
  {
   "cell_type": "code",
   "execution_count": 29,
   "metadata": {
    "ExecuteTime": {
     "end_time": "2019-05-23T03:48:20.044389Z",
     "start_time": "2019-05-23T03:48:20.036032Z"
    }
   },
   "outputs": [
    {
     "data": {
      "text/plain": [
       "14"
      ]
     },
     "execution_count": 29,
     "metadata": {},
     "output_type": "execute_result"
    }
   ],
   "source": [
    "# 也可以直接使用lambda函数，不把它赋值给变量\n",
    "(lambda x,y = 0,z = 9: x+y+z)(3, 5, 6)"
   ]
  },
  {
   "cell_type": "markdown",
   "metadata": {},
   "source": [
    "#### Q.11.Python是如何进行类型转换的？\n",
    "Python提供了将变量从一种类型转换成另一种类型的内置函数。\n",
    "\n",
    "整数1 和浮点数1.0 在Python中是不同的。虽然他们的值相等，但却属于不同的类型。这两个数在计算机的存储形式也不一样"
   ]
  },
  {
   "cell_type": "code",
   "execution_count": 30,
   "metadata": {
    "ExecuteTime": {
     "end_time": "2019-05-23T03:51:08.484761Z",
     "start_time": "2019-05-23T03:51:08.478575Z"
    }
   },
   "outputs": [
    {
     "data": {
      "text/plain": [
       "24"
      ]
     },
     "execution_count": 30,
     "metadata": {},
     "output_type": "execute_result"
    }
   ],
   "source": [
    "# int() 可以将符合数学格式的字符串转化为整数\n",
    "int('24')"
   ]
  },
  {
   "cell_type": "code",
   "execution_count": 32,
   "metadata": {
    "ExecuteTime": {
     "end_time": "2019-05-23T03:51:59.978344Z",
     "start_time": "2019-05-23T03:51:59.972760Z"
    }
   },
   "outputs": [
    {
     "data": {
      "text/plain": [
       "12.0"
      ]
     },
     "execution_count": 32,
     "metadata": {},
     "output_type": "execute_result"
    }
   ],
   "source": [
    "# float() 可以将整数和字符串转化为浮点数\n",
    "float(12)"
   ]
  },
  {
   "cell_type": "code",
   "execution_count": 33,
   "metadata": {
    "ExecuteTime": {
     "end_time": "2019-05-23T03:52:32.111842Z",
     "start_time": "2019-05-23T03:52:32.106789Z"
    }
   },
   "outputs": [
    {
     "data": {
      "text/plain": [
       "'12'"
      ]
     },
     "execution_count": 33,
     "metadata": {},
     "output_type": "execute_result"
    }
   ],
   "source": [
    "# str() 可以将数字转化为字符串\n",
    "str(12)"
   ]
  },
  {
   "cell_type": "markdown",
   "metadata": {},
   "source": [
    "#### Q.12. What is the difference between list and tuples in Python?\n",
    "\n",
    "List:\n",
    "- Lists are mutable i.e they can be edited\n",
    "- Lists are slower than tuples\n",
    "- Syntax: list_1 = [1, 'test' , 20]\n",
    "\n",
    "Tuples:\n",
    "- tuples are immutable . tuples are lists which can't be edited\n",
    "- Tuples are faster than list\n",
    "- Syntax: tuple_1 = (1, 2, 3)"
   ]
  },
  {
   "cell_type": "markdown",
   "metadata": {},
   "source": [
    "#### Q.13. What are the key features of Python?\n",
    "- Python is an interpreted language.     That means that, unlike languages like C and its variants, Python does not need to be compiled before it is run. Other interpreted languages include PHP and Ruby.\n",
    "- Python is dynamically typed, this means that you don’t need to state the types of variables when you declare them or anything like that. You can do things like x=111 and then x=\"I'm a string\" without error\n",
    "- Python is well suited to object orientated programming in that it allows the definition of classes along with composition and inheritance. Python does not have access specifiers (like C++’s public, private).\n",
    "- In Python, functions are first-class objects. This means that they can be assigned to variables, returned from other functions and passed into functions. Classes are also first class objects\n",
    "- Writing Python code is quick but running it is often slower than compiled languages. Fortunately，Python allows the inclusion of C based extensions so bottlenecks can be optimized away and often are. The numpy package is a good example of this, it’s really quite quick because a lot of the number crunching it does isn’t actually done by Python\n",
    "- Python finds use in many spheres – web applications, automation, scientific modeling, big data applications and many more. It’s also often used as “glue” code to get other languages and components to play nice."
   ]
  },
  {
   "cell_type": "markdown",
   "metadata": {},
   "source": [
    "#### Q.14. What type of language is Python? Programming or scripting?\n",
    "Python is capable of scripting , but in general sense, it is considered as a general-purpose programming language."
   ]
  },
  {
   "cell_type": "markdown",
   "metadata": {},
   "source": [
    "#### Q.15. How is Python an interpreted language?\n",
    "An interpreted language is any programming language which is not in machine level code before runtime. Therefore, Python is an interpreted language.\n",
    "\n"
   ]
  },
  {
   "cell_type": "markdown",
   "metadata": {},
   "source": [
    "#### Q.16. What is pep 8?\n",
    "PEP 8 stands for Python Enhancement Proposal . It is a set of rules that specify how to format Python code for maximum readability"
   ]
  },
  {
   "cell_type": "markdown",
   "metadata": {},
   "source": [
    "#### Q.17. How is memory managed in Python?\n",
    "- Memory management in python is managed by Python private heap space. All Python objects and data structures are located in a private heap. The programmer does not have access to this private heap. The python interpreter takes care of this instead\n",
    "- The allocation of heap space for Python objects is done by Python's memory manager. The core API gives access to some tools for the programmer to code\n",
    "- Python also has an inbuilt garbage collector, which recycles all the unused memory and so that it can be made available to the heap space."
   ]
  },
  {
   "cell_type": "markdown",
   "metadata": {},
   "source": [
    "#### Q.18. What is namespace in Python?\n",
    "A namespace is a naming system used to make sure that names are unique to avoid naming conflicts"
   ]
  },
  {
   "cell_type": "markdown",
   "metadata": {},
   "source": [
    "#### Q.19. What is PYTHONPATH?\n",
    " It is an environment variable which is used when a module is imported. Whenever a module is imported, PYTHONPATH is also looked up to check for the presence of the imported modules in various directories. The interpreter uses it to determine which module to load."
   ]
  },
  {
   "cell_type": "markdown",
   "metadata": {},
   "source": [
    "#### Q.20. What are python modules? Name some commonly used built-in modules in Python?\n",
    "Python modules are files containing Python code. This code can either be functions classes or variables. A Python\n",
    "module is a .py file containing executable code.\n",
    "\n",
    "Some of the commonly used built-in modules are:\n",
    "\n",
    "- os\n",
    "- sys\n",
    "- math\n",
    "- random\n",
    "- data time\n",
    "- JSON"
   ]
  },
  {
   "cell_type": "markdown",
   "metadata": {},
   "source": [
    "#### Q.21. What are local variables and global variables in Python?\n",
    "Global Variables:\n",
    "\n",
    "Variables declared outside a function or in global space are called global variables. These variables can be accessed by any function in the program.\n",
    "\n",
    "Local Variables:\n",
    "\n",
    "Any variable declared inside a function is knowns a local variable. This variable is present in the local space and not in the global space."
   ]
  },
  {
   "cell_type": "code",
   "execution_count": 4,
   "metadata": {
    "ExecuteTime": {
     "end_time": "2019-05-31T12:38:10.230167Z",
     "start_time": "2019-05-31T12:38:10.219579Z"
    }
   },
   "outputs": [
    {
     "name": "stdout",
     "output_type": "stream",
     "text": [
      "loulan-d address:Beijing and his email is loulan-d@gmail.com\n"
     ]
    }
   ],
   "source": [
    "global_var = \"loulan-d\" # global variable\n",
    "def info():\n",
    "    addr = \"Beijing\"     # local variable\n",
    "    email = \"loulan-d@gmail.com\"\n",
    "    print(f'{global_var} address:{addr} and his email is {email}')\n",
    "\n",
    "info()"
   ]
  },
  {
   "cell_type": "markdown",
   "metadata": {},
   "source": [
    "#### Q.22. Is python case sensitive? Python 区分大小写吗？\n",
    "Yes , Python is a case sensitive language .Python 区分大小写"
   ]
  },
  {
   "cell_type": "markdown",
   "metadata": {},
   "source": [
    "#### Q.23. What is type conversion in Python?\n",
    "Type conversion refers to the conversion of one data type into another.\n",
    "- int() – converts any data type into integer type\n",
    "\n",
    "- float() – converts any data type into float type\n",
    "\n",
    "- ord() – converts characters into integer\n",
    "\n",
    "- hex() – converts integers to hexadecimal\n",
    "\n",
    "- oct() – converts integer to octal\n",
    "\n",
    "- tuple() – This function is used to convert to a tuple.\n",
    "\n",
    "- set() – This function returns the type after converting to set.\n",
    "\n",
    "- list() – This function is used to convert any data type to a list type.\n",
    "\n",
    "- dict() – This function is used to convert a tuple of order (key,value) into a dictionary.\n",
    "\n",
    "- str() – Used to convert integer into a string.\n",
    "\n",
    "- complex(real,imag) – This functionconverts real numbers to complex(real,imag) number."
   ]
  },
  {
   "cell_type": "code",
   "execution_count": null,
   "metadata": {},
   "outputs": [],
   "source": []
  }
 ],
 "metadata": {
  "kernelspec": {
   "display_name": "python pratice",
   "language": "python",
   "name": "env_name"
  },
  "language_info": {
   "codemirror_mode": {
    "name": "ipython",
    "version": 3
   },
   "file_extension": ".py",
   "mimetype": "text/x-python",
   "name": "python",
   "nbconvert_exporter": "python",
   "pygments_lexer": "ipython3",
   "version": "3.7.1"
  },
  "toc": {
   "base_numbering": 1,
   "nav_menu": {},
   "number_sections": true,
   "sideBar": true,
   "skip_h1_title": false,
   "title_cell": "Table of Contents",
   "title_sidebar": "Contents",
   "toc_cell": false,
   "toc_position": {
    "height": "calc(100% - 180px)",
    "left": "10px",
    "top": "150px",
    "width": "165px"
   },
   "toc_section_display": true,
   "toc_window_display": false
  }
 },
 "nbformat": 4,
 "nbformat_minor": 2
}
