{
 "cells": [
  {
   "cell_type": "markdown",
   "metadata": {},
   "source": [
    "<big><center>What is the  _ _name_ _ in Python?</center></big>"
   ]
  },
  {
   "cell_type": "markdown",
   "metadata": {},
   "source": [
    "#### 参考链接：https://medium.freecodecamp.org/whats-in-a-python-s-name-506262fe61e8\n",
    "##### An introduction to the __ name __ variable and its usage in Pyhton"
   ]
  },
  {
   "cell_type": "code",
   "execution_count": 2,
   "metadata": {
    "ExecuteTime": {
     "end_time": "2019-04-27T12:12:49.045696Z",
     "start_time": "2019-04-27T12:12:49.041164Z"
    }
   },
   "outputs": [],
   "source": [
    "# The __name__ variable\n",
    "if __name__ == '__main__':\n",
    "    pass"
   ]
  },
  {
   "cell_type": "markdown",
   "metadata": {},
   "source": [
    "##### Scenario1\n",
    "If you run the nameScript.py the process below id fllowed.\n",
    "<img src = \"https://cdn-images-1.medium.com/max/800/1*208zyrMaQhkQK_mw8cE_Lg.png\">\n",
    "Before all other code is run, the __ name __ variable is set to __ main __. After that, the main and myFunction def statements are run. Because the condition evaluates to true, the main function is called. "
   ]
  },
  {
   "cell_type": "code",
   "execution_count": 5,
   "metadata": {
    "ExecuteTime": {
     "end_time": "2019-04-27T12:25:32.105746Z",
     "start_time": "2019-04-27T12:25:32.087040Z"
    }
   },
   "outputs": [
    {
     "name": "stdout",
     "output_type": "stream",
     "text": [
      "The value of the __name__ is __main__\n"
     ]
    }
   ],
   "source": [
    "# scenario1 \n",
    "# suppose we wrote the script nameScript.py as follows:\n",
    "\n",
    "def myFunction():\n",
    "    print(f'The value of the __name__ is {__name__}')\n",
    "\n",
    "def main():\n",
    "    myFunction()\n",
    "\n",
    "if __name__ == '__main__':\n",
    "    main()"
   ]
  },
  {
   "cell_type": "markdown",
   "metadata": {},
   "source": [
    "##### Scenario2 Import the script in another script\n",
    "import nameScript.py as a module in the new importingScript.py file <br>\n",
    "We then have two scopes: one of importingScript and the second scope of nameScript.\n",
    "<img src = \"https://cdn-images-1.medium.com/max/800/1*Xs311ryc0Wfv-cYl6TzNLg.png\">\n",
    "\n",
    "In importingScript.py we call myFunction which outputs nameScript. NameScript is known to myFunction when that function was defined.\n",
    "\n",
    "If you would print __ name __ in the importingScript, this would output __ main __. The reason for this is that Python uses the value known in the scope of importingScript."
   ]
  },
  {
   "cell_type": "code",
   "execution_count": null,
   "metadata": {},
   "outputs": [],
   "source": [
    "# the new file importingScript.py \n",
    "import nameScript as ns\n",
    "ns.myFunction()"
   ]
  },
  {
   "cell_type": "markdown",
   "metadata": {},
   "source": [
    "##### 详解__ name __ 变量 (重点)\n",
    "__ name__是python的内置变量 <br> \n",
    "直接执行时，__ name __ 变量的值是 __ main__ <br>\n",
    "以模块的方式导入执行时, __ name __ 变量的值是 模块的名字"
   ]
  },
  {
   "cell_type": "code",
   "execution_count": 11,
   "metadata": {
    "ExecuteTime": {
     "end_time": "2019-04-27T13:03:17.169023Z",
     "start_time": "2019-04-27T13:03:17.160995Z"
    }
   },
   "outputs": [
    {
     "data": {
      "text/plain": [
       "True"
      ]
     },
     "execution_count": 11,
     "metadata": {},
     "output_type": "execute_result"
    }
   ],
   "source": [
    "# __name__ 是python的内置变量\n",
    "'__name__' in dir(__builtins__)"
   ]
  },
  {
   "cell_type": "markdown",
   "metadata": {},
   "source": [
    "##### __ name__变量在Python中的作用\n",
    "<big>作用一句话:当主模块调用模块文件时不执行模块文件的测试代码</big><br>\n",
    "通常编写模块文件时如何要对该模块文件中的函数进行测试和调试，一般会在所有的类和函数定义的最下面编写测试代码，但这些测试代码在其他调用程序调用该模块时会被执行，于此，我们可以使用__ name__的这个特性让我们在编写模块文件时既能保留测试代码，又可以再其他程序调用此模块时不执行测试代码<br>\n",
    "示例如下"
   ]
  },
  {
   "cell_type": "code",
   "execution_count": 14,
   "metadata": {
    "ExecuteTime": {
     "end_time": "2019-04-27T13:24:20.080950Z",
     "start_time": "2019-04-27T13:24:20.074264Z"
    }
   },
   "outputs": [
    {
     "name": "stdout",
     "output_type": "stream",
     "text": [
      "__main__\n",
      "China\n",
      "He is a good boy\n"
     ]
    }
   ],
   "source": [
    "# nameFile.py\n",
    "# 其实这个py文件真正的目的是创建一个模块让其他主文件去调用\n",
    "class NameInfo():\n",
    "    def __init__(self):\n",
    "        pass\n",
    "    def country(self):\n",
    "        print('China')\n",
    "\n",
    "        \n",
    "def test():\n",
    "    print('He is a good boy')\n",
    "\n",
    "# 一下代码主要是测试这个class和test()函数是否正确\n",
    "# 很明显 __name__ 现在的值是__main__ 条件为真，执行\n",
    "if __name__ == '__main__':\n",
    "    print(__name__)\n",
    "    student = NameInfo()\n",
    "    student.country()\n",
    "    test()"
   ]
  },
  {
   "cell_type": "code",
   "execution_count": null,
   "metadata": {},
   "outputs": [],
   "source": [
    "# mainProject.py \n",
    "# 这是一个主文件，通过调用nameFile.py中的类\n",
    "import nameFile as nf\n",
    "student = nf.NameInfo()   # output : China\n",
    "nf.test()   # output : He is a good boy\n",
    "\n",
    "# 分析 nameFile.py中的以下代码不会被执行，因为此时的__name__ = nameFile \n",
    "# __name__ == '__main__' False\n",
    "# if __name__ == '__main__':\n",
    "#     print(__name__)\n",
    "#     student = NameInfo()\n",
    "#     student.country()\n",
    "#     test()"
   ]
  }
 ],
 "metadata": {
  "kernelspec": {
   "display_name": "Python 3",
   "language": "python",
   "name": "python3"
  },
  "language_info": {
   "codemirror_mode": {
    "name": "ipython",
    "version": 3
   },
   "file_extension": ".py",
   "mimetype": "text/x-python",
   "name": "python",
   "nbconvert_exporter": "python",
   "pygments_lexer": "ipython3",
   "version": "3.7.1"
  },
  "toc": {
   "base_numbering": 1,
   "nav_menu": {},
   "number_sections": true,
   "sideBar": true,
   "skip_h1_title": false,
   "title_cell": "Table of Contents",
   "title_sidebar": "Contents",
   "toc_cell": false,
   "toc_position": {
    "height": "calc(100% - 180px)",
    "left": "10px",
    "top": "150px",
    "width": "266.391px"
   },
   "toc_section_display": true,
   "toc_window_display": false
  }
 },
 "nbformat": 4,
 "nbformat_minor": 2
}
