{
 "cells": [
  {
   "cell_type": "markdown",
   "metadata": {},
   "source": [
    "#### 本文完全摘录自 https://mp.weixin.qq.com/s/xsEQpjAl_2t-hpcNoMFjgg \n",
    "更多内容请点击链接阅读原文"
   ]
  },
  {
   "cell_type": "markdown",
   "metadata": {},
   "source": [
    "#### 一、分析代码运行时间"
   ]
  },
  {
   "cell_type": "markdown",
   "metadata": {},
   "source": [
    "##### 第1式：测试代码运行时间"
   ]
  },
  {
   "cell_type": "code",
   "execution_count": 1,
   "metadata": {
    "ExecuteTime": {
     "end_time": "2019-07-12T02:02:43.285886Z",
     "start_time": "2019-07-12T02:02:43.263721Z"
    }
   },
   "outputs": [
    {
     "name": "stdout",
     "output_type": "stream",
     "text": [
      "Total used:0.012769699096679688\n"
     ]
    }
   ],
   "source": [
    "# 平凡方法\n",
    "import time\n",
    "\n",
    "start = time.time()\n",
    "job = [i**2 for i in range(1, 100000, 3)]\n",
    "end = time.time()\n",
    "print(f\"Total used:{end - start}\")"
   ]
  },
  {
   "cell_type": "code",
   "execution_count": 3,
   "metadata": {
    "ExecuteTime": {
     "end_time": "2019-07-12T02:03:58.146264Z",
     "start_time": "2019-07-12T02:03:58.120073Z"
    }
   },
   "outputs": [
    {
     "name": "stdout",
     "output_type": "stream",
     "text": [
      "CPU times: user 5 µs, sys: 1 µs, total: 6 µs\n",
      "Wall time: 12.2 µs\n"
     ]
    }
   ],
   "source": [
    "# 魔法方法\n",
    "%time\n",
    "job = [i**2 for i in range(1, 100000, 3)]"
   ]
  },
  {
   "cell_type": "markdown",
   "metadata": {},
   "source": [
    "##### 第2式 测试代码多次运行平均时间"
   ]
  },
  {
   "cell_type": "code",
   "execution_count": 4,
   "metadata": {
    "ExecuteTime": {
     "end_time": "2019-07-12T02:09:07.401797Z",
     "start_time": "2019-07-12T02:09:07.386568Z"
    }
   },
   "outputs": [
    {
     "data": {
      "text/plain": [
       "1.4513999985865667e-05"
      ]
     },
     "execution_count": 4,
     "metadata": {},
     "output_type": "execute_result"
    }
   ],
   "source": [
    "# 平凡方法\n",
    "from timeit import timeit\n",
    "\n",
    "g = lambda x:x**2+1\n",
    "\n",
    "def main():\n",
    "    return(g(2)**120)\n",
    "timeit('main()', globals ={'main': main}, number = 10)"
   ]
  },
  {
   "cell_type": "code",
   "execution_count": 7,
   "metadata": {
    "ExecuteTime": {
     "end_time": "2019-07-12T02:10:39.856641Z",
     "start_time": "2019-07-12T02:10:39.849525Z"
    }
   },
   "outputs": [
    {
     "data": {
      "text/plain": [
       "752316384526264005099991383822237233803945956334136013765601092018187046051025390625"
      ]
     },
     "execution_count": 7,
     "metadata": {},
     "output_type": "execute_result"
    }
   ],
   "source": [
    "# 魔法方法\n",
    "%timeit -n 10\n",
    "g = lambda x:x**2+1\n",
    "def main():\n",
    "    return(g(2)**120)\n",
    "main()"
   ]
  },
  {
   "cell_type": "markdown",
   "metadata": {},
   "source": [
    "##### 第3式：按调用函数分析代码运行时间"
   ]
  },
  {
   "cell_type": "code",
   "execution_count": 9,
   "metadata": {
    "ExecuteTime": {
     "end_time": "2019-07-12T02:15:03.270278Z",
     "start_time": "2019-07-12T02:15:03.266080Z"
    }
   },
   "outputs": [],
   "source": [
    "# 平凡方法\n",
    "def relu(x):\n",
    "    return x if x>0 else 0\n",
    "\n",
    "def main():\n",
    "    result = [relu(x) for x in range(-10000, 10000,1)]\n",
    "    return result"
   ]
  },
  {
   "cell_type": "code",
   "execution_count": 10,
   "metadata": {
    "ExecuteTime": {
     "end_time": "2019-07-12T02:15:28.840805Z",
     "start_time": "2019-07-12T02:15:28.601078Z"
    }
   },
   "outputs": [
    {
     "name": "stdout",
     "output_type": "stream",
     "text": [
      "         20006 function calls in 0.134 seconds\n",
      "\n",
      "   Ordered by: standard name\n",
      "\n",
      "   ncalls  tottime  percall  cumtime  percall filename:lineno(function)\n",
      "        1    0.000    0.000    0.133    0.133 :0(exec)\n",
      "        1    0.000    0.000    0.000    0.000 :0(setprofile)\n",
      "    20000    0.062    0.000    0.062    0.000 <ipython-input-9-fb0cd65efd9d>:2(relu)\n",
      "        1    0.000    0.000    0.133    0.133 <ipython-input-9-fb0cd65efd9d>:5(main)\n",
      "        1    0.071    0.071    0.133    0.133 <ipython-input-9-fb0cd65efd9d>:6(<listcomp>)\n",
      "        1    0.000    0.000    0.133    0.133 <string>:1(<module>)\n",
      "        1    0.000    0.000    0.134    0.134 profile:0(main())\n",
      "        0    0.000             0.000          profile:0(profiler)\n",
      "\n",
      "\n"
     ]
    }
   ],
   "source": [
    "import profile\n",
    "profile.run('main()')"
   ]
  },
  {
   "cell_type": "code",
   "execution_count": 11,
   "metadata": {
    "ExecuteTime": {
     "end_time": "2019-07-12T02:17:07.964089Z",
     "start_time": "2019-07-12T02:17:07.951183Z"
    }
   },
   "outputs": [
    {
     "name": "stdout",
     "output_type": "stream",
     "text": [
      " "
     ]
    }
   ],
   "source": [
    "# magic function\n",
    "%prun main()"
   ]
  },
  {
   "cell_type": "markdown",
   "metadata": {},
   "source": [
    "##### 第4式：按行分析代码运行时间"
   ]
  },
  {
   "cell_type": "code",
   "execution_count": 14,
   "metadata": {
    "ExecuteTime": {
     "end_time": "2019-07-12T02:27:10.283212Z",
     "start_time": "2019-07-12T02:27:10.280248Z"
    }
   },
   "outputs": [],
   "source": [
    "# 平凡方法\n",
    "!pip install line_profiler"
   ]
  },
  {
   "cell_type": "code",
   "execution_count": 15,
   "metadata": {
    "ExecuteTime": {
     "end_time": "2019-07-12T02:28:06.669372Z",
     "start_time": "2019-07-12T02:28:06.664871Z"
    }
   },
   "outputs": [],
   "source": [
    "def relu(x):\n",
    "    return x if x>0 else 0\n",
    "\n",
    "def main():\n",
    "    result = [relu(x) for x in range(-10000, 100000,1)]\n",
    "    return result"
   ]
  },
  {
   "cell_type": "code",
   "execution_count": null,
   "metadata": {},
   "outputs": [],
   "source": [
    "from line_profiler import LineProfiler\n",
    "lprofile = LineProfiler(main, relu)\n",
    "lprofile.run('main()')\n",
    "lprofile.print_stats()"
   ]
  },
  {
   "cell_type": "markdown",
   "metadata": {},
   "source": [
    "#### 二 、加速你的查找\n"
   ]
  },
  {
   "cell_type": "markdown",
   "metadata": {},
   "source": [
    "##### 第5式: 用set而非list进行查找"
   ]
  },
  {
   "cell_type": "code",
   "execution_count": 35,
   "metadata": {
    "ExecuteTime": {
     "end_time": "2019-07-12T02:36:39.840025Z",
     "start_time": "2019-07-12T02:36:39.365214Z"
    }
   },
   "outputs": [],
   "source": [
    "# 低速方法\n",
    "data = (i**2 +1 for i in range(1000000))\n",
    "list_data = list(data)\n",
    "set_data = set(data)"
   ]
  },
  {
   "cell_type": "code",
   "execution_count": 36,
   "metadata": {
    "ExecuteTime": {
     "end_time": "2019-07-12T02:36:40.491371Z",
     "start_time": "2019-07-12T02:36:40.464840Z"
    }
   },
   "outputs": [
    {
     "name": "stdout",
     "output_type": "stream",
     "text": [
      "CPU times: user 2 µs, sys: 0 ns, total: 2 µs\n",
      "Wall time: 6.2 µs\n"
     ]
    },
    {
     "data": {
      "text/plain": [
       "False"
      ]
     },
     "execution_count": 36,
     "metadata": {},
     "output_type": "execute_result"
    }
   ],
   "source": [
    "%time \n",
    "19999999 in list_data"
   ]
  },
  {
   "cell_type": "code",
   "execution_count": 37,
   "metadata": {
    "ExecuteTime": {
     "end_time": "2019-07-12T02:36:41.299911Z",
     "start_time": "2019-07-12T02:36:41.292602Z"
    }
   },
   "outputs": [
    {
     "name": "stdout",
     "output_type": "stream",
     "text": [
      "CPU times: user 2 µs, sys: 0 ns, total: 2 µs\n",
      "Wall time: 5.96 µs\n"
     ]
    },
    {
     "data": {
      "text/plain": [
       "False"
      ]
     },
     "execution_count": 37,
     "metadata": {},
     "output_type": "execute_result"
    }
   ],
   "source": [
    "# 高速方法\n",
    "%time \n",
    "19999999 in set_data"
   ]
  },
  {
   "cell_type": "markdown",
   "metadata": {},
   "source": [
    "##### 第6式：用dict而非两个list进行匹配查找"
   ]
  },
  {
   "cell_type": "code",
   "execution_count": 38,
   "metadata": {
    "ExecuteTime": {
     "end_time": "2019-07-12T02:44:07.101148Z",
     "start_time": "2019-07-12T02:44:07.019571Z"
    }
   },
   "outputs": [],
   "source": [
    "# 低速方法\n",
    "list_a = [2*i-1 for i in range(100000)]\n",
    "list_b = [i**2 for i in list_a]\n",
    "dict_ab = dict(zip(list_a, list_b))"
   ]
  },
  {
   "cell_type": "code",
   "execution_count": 46,
   "metadata": {
    "ExecuteTime": {
     "end_time": "2019-07-12T02:45:55.169849Z",
     "start_time": "2019-07-12T02:45:55.160034Z"
    }
   },
   "outputs": [
    {
     "name": "stdout",
     "output_type": "stream",
     "text": [
      "CPU times: user 4 µs, sys: 0 ns, total: 4 µs\n",
      "Wall time: 9.06 µs\n"
     ]
    },
    {
     "data": {
      "text/plain": [
       "102030201"
      ]
     },
     "execution_count": 46,
     "metadata": {},
     "output_type": "execute_result"
    }
   ],
   "source": [
    "# 低速方法\n",
    "%time\n",
    "list_b[list_a.index(10101)]"
   ]
  },
  {
   "cell_type": "code",
   "execution_count": 47,
   "metadata": {
    "ExecuteTime": {
     "end_time": "2019-07-12T02:46:26.712424Z",
     "start_time": "2019-07-12T02:46:26.704837Z"
    }
   },
   "outputs": [
    {
     "name": "stdout",
     "output_type": "stream",
     "text": [
      "CPU times: user 2 µs, sys: 1 µs, total: 3 µs\n",
      "Wall time: 5.96 µs\n"
     ]
    },
    {
     "data": {
      "text/plain": [
       "102030201"
      ]
     },
     "execution_count": 47,
     "metadata": {},
     "output_type": "execute_result"
    }
   ],
   "source": [
    "# 高速方法\n",
    "%time \n",
    "dict_ab.get(10101,None)"
   ]
  },
  {
   "cell_type": "markdown",
   "metadata": {},
   "source": [
    "#### 三、加速你的循环"
   ]
  },
  {
   "cell_type": "markdown",
   "metadata": {},
   "source": [
    "##### 第7式：优先使用for循环而不是while循环"
   ]
  },
  {
   "cell_type": "code",
   "execution_count": 48,
   "metadata": {
    "ExecuteTime": {
     "end_time": "2019-07-12T02:48:27.899408Z",
     "start_time": "2019-07-12T02:48:27.888725Z"
    }
   },
   "outputs": [
    {
     "name": "stdout",
     "output_type": "stream",
     "text": [
      "CPU times: user 3 µs, sys: 1 µs, total: 4 µs\n",
      "Wall time: 5.25 µs\n",
      "50005000\n"
     ]
    }
   ],
   "source": [
    "# 低速方法\n",
    "%time \n",
    "s, i = 0, 0\n",
    "while i<10000:\n",
    "    i += 1\n",
    "    s += i\n",
    "print(s)"
   ]
  },
  {
   "cell_type": "code",
   "execution_count": 50,
   "metadata": {
    "ExecuteTime": {
     "end_time": "2019-07-12T02:49:16.869685Z",
     "start_time": "2019-07-12T02:49:16.862265Z"
    }
   },
   "outputs": [
    {
     "name": "stdout",
     "output_type": "stream",
     "text": [
      "CPU times: user 2 µs, sys: 0 ns, total: 2 µs\n",
      "Wall time: 5.96 µs\n",
      "50005000\n"
     ]
    }
   ],
   "source": [
    "# 高速方法\n",
    "%time\n",
    "s = 0\n",
    "for i in range(1, 10001):\n",
    "    s += i\n",
    "print(s)"
   ]
  },
  {
   "cell_type": "markdown",
   "metadata": {},
   "source": [
    "##### 第8式：在循环体中避免重复计算"
   ]
  },
  {
   "cell_type": "code",
   "execution_count": 62,
   "metadata": {
    "ExecuteTime": {
     "end_time": "2019-07-12T02:54:47.413361Z",
     "start_time": "2019-07-12T02:54:45.376401Z"
    }
   },
   "outputs": [
    {
     "name": "stdout",
     "output_type": "stream",
     "text": [
      "CPU times: user 4 µs, sys: 1 µs, total: 5 µs\n",
      "Wall time: 10 µs\n"
     ]
    }
   ],
   "source": [
    "# 低速\n",
    "a = [i**2 +1 for i in range(20000)]\n",
    "\n",
    "%time\n",
    "b = [i/sum(a) for i in a]"
   ]
  },
  {
   "cell_type": "code",
   "execution_count": 63,
   "metadata": {
    "ExecuteTime": {
     "end_time": "2019-07-12T02:54:47.425360Z",
     "start_time": "2019-07-12T02:54:47.416221Z"
    }
   },
   "outputs": [
    {
     "name": "stdout",
     "output_type": "stream",
     "text": [
      "CPU times: user 3 µs, sys: 1 µs, total: 4 µs\n",
      "Wall time: 6.2 µs\n"
     ]
    }
   ],
   "source": [
    "# 高速\n",
    "sum_a = sum(a)\n",
    "\n",
    "%time\n",
    "b = [i/sum_a for i in a]"
   ]
  },
  {
   "cell_type": "markdown",
   "metadata": {},
   "source": [
    "#### 四、加速你的函数"
   ]
  },
  {
   "cell_type": "markdown",
   "metadata": {},
   "source": [
    "##### 第9式：用循环机制代替递归函数 "
   ]
  },
  {
   "cell_type": "code",
   "execution_count": 74,
   "metadata": {
    "ExecuteTime": {
     "end_time": "2019-07-12T02:59:44.471139Z",
     "start_time": "2019-07-12T02:59:44.209762Z"
    }
   },
   "outputs": [
    {
     "name": "stdout",
     "output_type": "stream",
     "text": [
      "CPU times: user 2 µs, sys: 0 ns, total: 2 µs\n",
      "Wall time: 6.2 µs\n"
     ]
    },
    {
     "data": {
      "text/plain": [
       "832040"
      ]
     },
     "execution_count": 74,
     "metadata": {},
     "output_type": "execute_result"
    }
   ],
   "source": [
    "# 低速\n",
    "%time\n",
    "def fib(n):\n",
    "    return (1 if n in (1, 2) else fib(n-1)+fib(n-2))\n",
    "fib(30)"
   ]
  },
  {
   "cell_type": "code",
   "execution_count": 75,
   "metadata": {
    "ExecuteTime": {
     "end_time": "2019-07-12T02:59:48.933851Z",
     "start_time": "2019-07-12T02:59:48.925390Z"
    }
   },
   "outputs": [
    {
     "name": "stdout",
     "output_type": "stream",
     "text": [
      "CPU times: user 3 µs, sys: 0 ns, total: 3 µs\n",
      "Wall time: 6.2 µs\n"
     ]
    },
    {
     "data": {
      "text/plain": [
       "832040"
      ]
     },
     "execution_count": 75,
     "metadata": {},
     "output_type": "execute_result"
    }
   ],
   "source": [
    "# 高速\n",
    "%time\n",
    "def fib(n):\n",
    "    if n in (1,2):\n",
    "        return 1\n",
    "    a, b = 1, 1\n",
    "    for i in range(2, n):\n",
    "        a, b = b, a+b\n",
    "    return b\n",
    "fib(30)"
   ]
  },
  {
   "cell_type": "markdown",
   "metadata": {},
   "source": [
    "##### 第10式：用缓存机制加速递归函数"
   ]
  },
  {
   "cell_type": "code",
   "execution_count": 81,
   "metadata": {
    "ExecuteTime": {
     "end_time": "2019-07-12T03:04:59.550123Z",
     "start_time": "2019-07-12T03:04:28.803468Z"
    }
   },
   "outputs": [
    {
     "name": "stdout",
     "output_type": "stream",
     "text": [
      "CPU times: user 5 µs, sys: 1e+03 ns, total: 6 µs\n",
      "Wall time: 11 µs\n"
     ]
    },
    {
     "data": {
      "text/plain": [
       "102334155"
      ]
     },
     "execution_count": 81,
     "metadata": {},
     "output_type": "execute_result"
    }
   ],
   "source": [
    "# 低速\n",
    "%time\n",
    "def fib(n):\n",
    "    return 1 if n in (1,2) else fib(n-1)+fib(n-2)\n",
    "fib(40)"
   ]
  },
  {
   "cell_type": "code",
   "execution_count": null,
   "metadata": {
    "ExecuteTime": {
     "end_time": "2019-07-12T03:04:25.899753Z",
     "start_time": "2019-07-12T03:04:12.737Z"
    }
   },
   "outputs": [],
   "source": [
    "# 高速\n",
    "%time\n",
    "from functools import lru_cache\n",
    "\n",
    "@lru_cache(100)\n",
    "def fib(n):\n",
    "    return 1 if 1 in (1, 2) else fib(n-1)+fib(n-2)\n",
    "fib(40)"
   ]
  },
  {
   "cell_type": "markdown",
   "metadata": {},
   "source": [
    "##### 第11式：用numba加速Python函数"
   ]
  },
  {
   "cell_type": "code",
   "execution_count": 82,
   "metadata": {
    "ExecuteTime": {
     "end_time": "2019-07-12T03:06:55.453580Z",
     "start_time": "2019-07-12T03:06:55.374636Z"
    }
   },
   "outputs": [
    {
     "name": "stdout",
     "output_type": "stream",
     "text": [
      "CPU times: user 3 µs, sys: 1e+03 ns, total: 4 µs\n",
      "Wall time: 8.11 µs\n"
     ]
    },
    {
     "data": {
      "text/plain": [
       "333338333350000"
      ]
     },
     "execution_count": 82,
     "metadata": {},
     "output_type": "execute_result"
    }
   ],
   "source": [
    "# 低速\n",
    "%time\n",
    "def my_power(x):\n",
    "    return x**2\n",
    "\n",
    "def my_power_sum(n):\n",
    "    s = 0\n",
    "    for i in range(1, n+1):\n",
    "        s += my_power(i)\n",
    "    return s\n",
    "\n",
    "my_power_sum(100000)"
   ]
  },
  {
   "cell_type": "code",
   "execution_count": 83,
   "metadata": {
    "ExecuteTime": {
     "end_time": "2019-07-12T03:08:02.955368Z",
     "start_time": "2019-07-12T03:08:02.121571Z"
    }
   },
   "outputs": [
    {
     "name": "stdout",
     "output_type": "stream",
     "text": [
      "CPU times: user 2 µs, sys: 0 ns, total: 2 µs\n",
      "Wall time: 5.96 µs\n"
     ]
    },
    {
     "data": {
      "text/plain": [
       "333338333350000"
      ]
     },
     "execution_count": 83,
     "metadata": {},
     "output_type": "execute_result"
    }
   ],
   "source": [
    "# 高速\n",
    "%time\n",
    "from numba import jit\n",
    "\n",
    "@jit\n",
    "def my_power(x):\n",
    "    return x**2\n",
    "\n",
    "@jit\n",
    "def my_power_sum(n):\n",
    "    s = 0\n",
    "    for i in range(1, n+1):\n",
    "        s += my_power(i)\n",
    "    return s\n",
    "\n",
    "my_power_sum(100000)"
   ]
  },
  {
   "cell_type": "markdown",
   "metadata": {},
   "source": [
    "#### 五、使用标准库进行加速"
   ]
  },
  {
   "cell_type": "markdown",
   "metadata": {
    "ExecuteTime": {
     "end_time": "2019-07-12T03:09:46.480379Z",
     "start_time": "2019-07-12T03:09:46.476910Z"
    }
   },
   "source": [
    "##### 第12式：使用collections.Counter加速计数"
   ]
  },
  {
   "cell_type": "code",
   "execution_count": 88,
   "metadata": {
    "ExecuteTime": {
     "end_time": "2019-07-12T03:13:55.749723Z",
     "start_time": "2019-07-12T03:13:54.184255Z"
    }
   },
   "outputs": [
    {
     "name": "stdout",
     "output_type": "stream",
     "text": [
      "CPU times: user 2 µs, sys: 0 ns, total: 2 µs\n",
      "Wall time: 5.72 µs\n"
     ]
    },
    {
     "data": {
      "text/plain": [
       "8044"
      ]
     },
     "execution_count": 88,
     "metadata": {},
     "output_type": "execute_result"
    }
   ],
   "source": [
    "# 低速\n",
    "data = [x**2%1989 for x in range(2000000)]\n",
    "\n",
    "%time\n",
    "values_count = {}\n",
    "for i in data:\n",
    "    i_cnt = values_count.get(1,0)\n",
    "    values_count[i] = i_cnt + 1\n",
    "values_count.get(100, 0)"
   ]
  },
  {
   "cell_type": "code",
   "execution_count": 89,
   "metadata": {
    "ExecuteTime": {
     "end_time": "2019-07-12T03:14:00.857716Z",
     "start_time": "2019-07-12T03:14:00.666775Z"
    }
   },
   "outputs": [
    {
     "name": "stdout",
     "output_type": "stream",
     "text": [
      "CPU times: user 3 µs, sys: 0 ns, total: 3 µs\n",
      "Wall time: 5.96 µs\n"
     ]
    },
    {
     "data": {
      "text/plain": [
       "8044"
      ]
     },
     "execution_count": 89,
     "metadata": {},
     "output_type": "execute_result"
    }
   ],
   "source": [
    "# 高速\n",
    "%time\n",
    "from collections import Counter\n",
    "values_count = Counter(data)\n",
    "values_count.get(100, 0)"
   ]
  },
  {
   "cell_type": "markdown",
   "metadata": {},
   "source": [
    "##### 第13式 使用collections.ChainMap加速字典合并"
   ]
  },
  {
   "cell_type": "code",
   "execution_count": 90,
   "metadata": {
    "ExecuteTime": {
     "end_time": "2019-07-12T03:17:05.847450Z",
     "start_time": "2019-07-12T03:17:05.758712Z"
    }
   },
   "outputs": [
    {
     "name": "stdout",
     "output_type": "stream",
     "text": [
      "CPU times: user 5 µs, sys: 1 µs, total: 6 µs\n",
      "Wall time: 11 µs\n"
     ]
    },
    {
     "data": {
      "text/plain": [
       "10000"
      ]
     },
     "execution_count": 90,
     "metadata": {},
     "output_type": "execute_result"
    }
   ],
   "source": [
    "# 低速\n",
    "dict_a = {i:i+1 for i in range(1, 100000, 2)}\n",
    "dict_b = {i:i+1 for i in range(1, 100000, 2)}\n",
    "dict_c = {i:i+1 for i in range(1, 100000, 2)}\n",
    "dict_d = {i:i+1 for i in range(1, 100000, 2)}\n",
    "\n",
    "%time\n",
    "result = dict_a.copy()\n",
    "result.update(dict_b)\n",
    "result.update(dict_c)\n",
    "result.update(dict_d)\n",
    "result.get(9999,0)"
   ]
  },
  {
   "cell_type": "code",
   "execution_count": 91,
   "metadata": {
    "ExecuteTime": {
     "end_time": "2019-07-12T03:18:01.123033Z",
     "start_time": "2019-07-12T03:18:01.112509Z"
    }
   },
   "outputs": [
    {
     "name": "stdout",
     "output_type": "stream",
     "text": [
      "CPU times: user 3 µs, sys: 1 µs, total: 4 µs\n",
      "Wall time: 7.87 µs\n"
     ]
    },
    {
     "data": {
      "text/plain": [
       "10000"
      ]
     },
     "execution_count": 91,
     "metadata": {},
     "output_type": "execute_result"
    }
   ],
   "source": [
    "# 高速\n",
    "%time\n",
    "from collections import ChainMap\n",
    "\n",
    "chain = ChainMap(dict_a,dict_b, dict_c, dict_d)\n",
    "chain.get(9999,0)"
   ]
  },
  {
   "cell_type": "markdown",
   "metadata": {},
   "source": [
    "#### 六、使用高阶函数进行加速"
   ]
  },
  {
   "cell_type": "markdown",
   "metadata": {},
   "source": [
    "##### 第14式：使用map代替推导式进行加速"
   ]
  },
  {
   "cell_type": "code",
   "execution_count": 99,
   "metadata": {
    "ExecuteTime": {
     "end_time": "2019-07-12T03:23:52.800195Z",
     "start_time": "2019-07-12T03:23:52.790951Z"
    }
   },
   "outputs": [
    {
     "name": "stdout",
     "output_type": "stream",
     "text": [
      "CPU times: user 3 µs, sys: 0 ns, total: 3 µs\n",
      "Wall time: 8.11 µs\n"
     ]
    }
   ],
   "source": [
    "# 低速\n",
    "%time\n",
    "\n",
    "result = [i**2 for i in range(1, 10000,2)]"
   ]
  },
  {
   "cell_type": "code",
   "execution_count": 100,
   "metadata": {
    "ExecuteTime": {
     "end_time": "2019-07-12T03:23:57.014832Z",
     "start_time": "2019-07-12T03:23:57.009346Z"
    }
   },
   "outputs": [
    {
     "name": "stdout",
     "output_type": "stream",
     "text": [
      "CPU times: user 2 µs, sys: 1 µs, total: 3 µs\n",
      "Wall time: 6.2 µs\n"
     ]
    }
   ],
   "source": [
    "# 高速\n",
    "%time\n",
    "result = map(lambda x:x**2, range(1, 10000, 2))"
   ]
  },
  {
   "cell_type": "markdown",
   "metadata": {},
   "source": [
    "##### 第15式：使用filter代替推导式进行加速"
   ]
  },
  {
   "cell_type": "code",
   "execution_count": 104,
   "metadata": {
    "ExecuteTime": {
     "end_time": "2019-07-12T03:26:20.279760Z",
     "start_time": "2019-07-12T03:26:20.242772Z"
    }
   },
   "outputs": [
    {
     "name": "stdout",
     "output_type": "stream",
     "text": [
      "CPU times: user 3 µs, sys: 1 µs, total: 4 µs\n",
      "Wall time: 9.06 µs\n"
     ]
    }
   ],
   "source": [
    "# 低速\n",
    "%time\n",
    "\n",
    "result = [x for x in range(1, 1000000, 3) if x%7 == 0]"
   ]
  },
  {
   "cell_type": "code",
   "execution_count": 103,
   "metadata": {
    "ExecuteTime": {
     "end_time": "2019-07-12T03:26:16.963073Z",
     "start_time": "2019-07-12T03:26:16.957472Z"
    }
   },
   "outputs": [
    {
     "name": "stdout",
     "output_type": "stream",
     "text": [
      "CPU times: user 3 µs, sys: 1 µs, total: 4 µs\n",
      "Wall time: 6.2 µs\n"
     ]
    }
   ],
   "source": [
    "# 高速\n",
    "%time\n",
    "\n",
    "result = filter(lambda x:x%7==0, range(1,1000000,3))"
   ]
  },
  {
   "cell_type": "markdown",
   "metadata": {},
   "source": [
    "#### 七、应用多进程多线程加速"
   ]
  },
  {
   "cell_type": "markdown",
   "metadata": {},
   "source": [
    "##### 第16式：应用多线程加速IO密集型任务"
   ]
  },
  {
   "cell_type": "code",
   "execution_count": null,
   "metadata": {},
   "outputs": [],
   "source": [
    "# 低速\n",
    "%time\n",
    "def write_file(i):\n",
    "    with open(str(i)+ '.txt', 'w') as f:\n",
    "        s = f\"hello {i}\" * 100000\n",
    "        f.write(s)\n",
    "        \n",
    "# 串行任务\n",
    "for i in range(10):\n",
    "    write_file(i)"
   ]
  },
  {
   "cell_type": "code",
   "execution_count": null,
   "metadata": {},
   "outputs": [],
   "source": [
    "# 高速\n",
    "%time\n",
    "import threading\n",
    "\n",
    "def write_file(i):\n",
    "    with open(str(i)+ '.txt', 'w') as f:\n",
    "        s = f\"hello {i}\" * 100000\n",
    "        f.write(s)\n",
    "\n",
    "# 多线程任务\n",
    "thread_list = []\n",
    "for i in range(10):\n",
    "    t = threading.Thread(target = write_file, args = (i,))\n",
    "    t.setDaemon(True) # 设置为守护线程\n",
    "    thread_list.append(t)\n",
    "    \n",
    "for t in thread_list:\n",
    "    t.start() # 启动线程\n",
    "    \n",
    "for t in thread_list:\n",
    "    t.join() # 等待子线程结束"
   ]
  },
  {
   "cell_type": "markdown",
   "metadata": {},
   "source": [
    "##### 第17式：应用多进程加速CPU密集型任务"
   ]
  },
  {
   "cell_type": "code",
   "execution_count": 105,
   "metadata": {
    "ExecuteTime": {
     "end_time": "2019-07-12T03:42:47.890272Z",
     "start_time": "2019-07-12T03:41:57.849301Z"
    }
   },
   "outputs": [
    {
     "name": "stdout",
     "output_type": "stream",
     "text": [
      "CPU times: user 2 µs, sys: 1 µs, total: 3 µs\n",
      "Wall time: 5.96 µs\n"
     ]
    }
   ],
   "source": [
    "# 低速\n",
    "%time\n",
    "\n",
    "def job(x):\n",
    "    time.sleep(5)\n",
    "    return x**2\n",
    "\n",
    "# 串行任务\n",
    "ans = [job(i) for i in range(10)]"
   ]
  },
  {
   "cell_type": "code",
   "execution_count": 106,
   "metadata": {
    "ExecuteTime": {
     "end_time": "2019-07-12T03:44:58.344420Z",
     "start_time": "2019-07-12T03:44:43.159211Z"
    }
   },
   "outputs": [
    {
     "name": "stdout",
     "output_type": "stream",
     "text": [
      "CPU times: user 3 µs, sys: 0 ns, total: 3 µs\n",
      "Wall time: 6.2 µs\n"
     ]
    },
    {
     "data": {
      "text/plain": [
       "[1, 1, 1, 1, 1, 1, 1, 1, 1, 1]"
      ]
     },
     "execution_count": 106,
     "metadata": {},
     "output_type": "execute_result"
    }
   ],
   "source": [
    "# 高速\n",
    "%time\n",
    "\n",
    "import time\n",
    "import multiprocessing\n",
    "\n",
    "data = range(10)\n",
    "\n",
    "def job(x):\n",
    "    time.sleep(5)\n",
    "    return x**2\n",
    "\n",
    "# 多进程任务\n",
    "pool = multiprocessing.Pool(processes = 4)\n",
    "result = []\n",
    "for i in range(10):\n",
    "    result.append(pool.apply_async(job, (1,)))\n",
    "pool.close()\n",
    "pool.join()\n",
    "ans = [res.get() for res in result]\n",
    "ans"
   ]
  },
  {
   "cell_type": "code",
   "execution_count": null,
   "metadata": {},
   "outputs": [],
   "source": []
  }
 ],
 "metadata": {
  "kernelspec": {
   "display_name": "python pratice",
   "language": "python",
   "name": "env_name"
  },
  "language_info": {
   "codemirror_mode": {
    "name": "ipython",
    "version": 3
   },
   "file_extension": ".py",
   "mimetype": "text/x-python",
   "name": "python",
   "nbconvert_exporter": "python",
   "pygments_lexer": "ipython3",
   "version": "3.7.1"
  },
  "toc": {
   "base_numbering": 1,
   "nav_menu": {},
   "number_sections": true,
   "sideBar": true,
   "skip_h1_title": false,
   "title_cell": "Table of Contents",
   "title_sidebar": "Contents",
   "toc_cell": false,
   "toc_position": {},
   "toc_section_display": true,
   "toc_window_display": false
  }
 },
 "nbformat": 4,
 "nbformat_minor": 2
}
