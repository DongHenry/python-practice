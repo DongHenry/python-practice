{
 "cells": [
  {
   "cell_type": "markdown",
   "metadata": {},
   "source": [
    "#### 描述\n",
    "- locals返回本地名字空间字典\n",
    "\n",
    "- globals返回全局名字空间字典\n",
    "\n",
    "关于名字空间的介绍  参考：\n",
    "- http://localhost:8888/notebooks/understand-python/Python%20%E4%B8%AD%20is%20%E4%B8%8E%20%3D%3D%20%E6%93%8D%E4%BD%9C.ipynb"
   ]
  },
  {
   "cell_type": "markdown",
   "metadata": {},
   "source": [
    "#### 语法\n",
    "- locals() 参数：无\n",
    "- globals() 参数: 无"
   ]
  },
  {
   "cell_type": "markdown",
   "metadata": {},
   "source": [
    "在Python中，每个模块（源码文件）都有一个全局名字空间。而根据代码作用域，又有当前名字空间或本地名字空间一说， 如果直接在模块级别执行，那么当前名字空间和全局名字空间相同，但在函数内，当前名字空间就专指函数作用域"
   ]
  },
  {
   "cell_type": "code",
   "execution_count": 5,
   "metadata": {
    "ExecuteTime": {
     "end_time": "2019-06-12T08:27:46.663316Z",
     "start_time": "2019-06-12T08:27:46.642044Z"
    }
   },
   "outputs": [
    {
     "name": "stdout",
     "output_type": "stream",
     "text": [
      "模块作用域调用globals-id:4450283808\n",
      "模块作用域调用locals-id:4450283808\n",
      "由上可知，在模块作用域globals和locals所指对象相同\n",
      "\n",
      "本地名字空间：{'x': 'test'}\n",
      "本地名字空间ID：4452163016\n",
      "全局名字空间ID: 4450283808\n"
     ]
    }
   ],
   "source": [
    "x = 100\n",
    "\n",
    "print(f\"模块作用域调用globals-id:{id(globals())}\")\n",
    "print(f\"模块作用域调用locals-id:{id(locals())}\")\n",
    "print(f\"由上可知，在模块作用域globals和locals所指对象相同\\n\")\n",
    "\n",
    "def test():\n",
    "    x = \"test\"\n",
    "    print(f\"本地名字空间：{locals()}\")\n",
    "    \n",
    "    print(f\"本地名字空间ID：{id(locals())}\")\n",
    "    print(f\"全局名字空间ID: {id(globals())}\")\n",
    "    \n",
    "test()"
   ]
  },
  {
   "cell_type": "markdown",
   "metadata": {},
   "source": [
    "#### globals() 总是固定指向全局名字空间，而locals()则指向当前作用域名字空间"
   ]
  },
  {
   "cell_type": "code",
   "execution_count": 5,
   "metadata": {
    "ExecuteTime": {
     "end_time": "2019-07-12T07:13:48.154310Z",
     "start_time": "2019-07-12T07:13:48.138640Z"
    }
   },
   "outputs": [
    {
     "ename": "UnboundLocalError",
     "evalue": "local variable 'x' referenced before assignment",
     "output_type": "error",
     "traceback": [
      "\u001b[0;31m---------------------------------------------------------------------------\u001b[0m",
      "\u001b[0;31mUnboundLocalError\u001b[0m                         Traceback (most recent call last)",
      "\u001b[0;32m<ipython-input-5-402ede0361aa>\u001b[0m in \u001b[0;36m<module>\u001b[0;34m\u001b[0m\n\u001b[1;32m      4\u001b[0m     \u001b[0mx\u001b[0m \u001b[0;34m+=\u001b[0m \u001b[0;36m1\u001b[0m\u001b[0;34m\u001b[0m\u001b[0;34m\u001b[0m\u001b[0m\n\u001b[1;32m      5\u001b[0m     \u001b[0mprint\u001b[0m\u001b[0;34m(\u001b[0m\u001b[0mx\u001b[0m\u001b[0;34m)\u001b[0m\u001b[0;34m\u001b[0m\u001b[0;34m\u001b[0m\u001b[0m\n\u001b[0;32m----> 6\u001b[0;31m \u001b[0mchange\u001b[0m\u001b[0;34m(\u001b[0m\u001b[0mx\u001b[0m\u001b[0;34m)\u001b[0m\u001b[0;34m\u001b[0m\u001b[0;34m\u001b[0m\u001b[0m\n\u001b[0m",
      "\u001b[0;32m<ipython-input-5-402ede0361aa>\u001b[0m in \u001b[0;36mchange\u001b[0;34m(a)\u001b[0m\n\u001b[1;32m      2\u001b[0m \u001b[0;32mdef\u001b[0m \u001b[0mchange\u001b[0m\u001b[0;34m(\u001b[0m\u001b[0ma\u001b[0m\u001b[0;34m)\u001b[0m\u001b[0;34m:\u001b[0m\u001b[0;34m\u001b[0m\u001b[0;34m\u001b[0m\u001b[0m\n\u001b[1;32m      3\u001b[0m     \u001b[0;31m# UnboundLocalError: local variable 'x' referenced before assignment\u001b[0m\u001b[0;34m\u001b[0m\u001b[0;34m\u001b[0m\u001b[0;34m\u001b[0m\u001b[0m\n\u001b[0;32m----> 4\u001b[0;31m     \u001b[0mx\u001b[0m \u001b[0;34m+=\u001b[0m \u001b[0;36m1\u001b[0m\u001b[0;34m\u001b[0m\u001b[0;34m\u001b[0m\u001b[0m\n\u001b[0m\u001b[1;32m      5\u001b[0m     \u001b[0mprint\u001b[0m\u001b[0;34m(\u001b[0m\u001b[0mx\u001b[0m\u001b[0;34m)\u001b[0m\u001b[0;34m\u001b[0m\u001b[0;34m\u001b[0m\u001b[0m\n\u001b[1;32m      6\u001b[0m \u001b[0mchange\u001b[0m\u001b[0;34m(\u001b[0m\u001b[0mx\u001b[0m\u001b[0;34m)\u001b[0m\u001b[0;34m\u001b[0m\u001b[0;34m\u001b[0m\u001b[0m\n",
      "\u001b[0;31mUnboundLocalError\u001b[0m: local variable 'x' referenced before assignment"
     ]
    }
   ],
   "source": [
    "x = 1\n",
    "def change(a):\n",
    "    # UnboundLocalError: local variable 'x' referenced before assignment\n",
    "    x += 1\n",
    "    print(x)\n",
    "change(x)"
   ]
  },
  {
   "cell_type": "code",
   "execution_count": 3,
   "metadata": {
    "ExecuteTime": {
     "end_time": "2019-07-12T07:12:32.718652Z",
     "start_time": "2019-07-12T07:12:32.708887Z"
    }
   },
   "outputs": [
    {
     "name": "stdout",
     "output_type": "stream",
     "text": [
      "2\n"
     ]
    }
   ],
   "source": [
    "# 用 global 声明变量 x，使其成为全局变量\n",
    "x = 1\n",
    "def change(a):\n",
    "    global x\n",
    "    x += 1\n",
    "    print(x)\n",
    "\n",
    "change(x)"
   ]
  },
  {
   "cell_type": "code",
   "execution_count": 10,
   "metadata": {
    "ExecuteTime": {
     "end_time": "2019-07-12T07:16:36.379588Z",
     "start_time": "2019-07-12T07:16:36.374903Z"
    }
   },
   "outputs": [
    {
     "name": "stdout",
     "output_type": "stream",
     "text": [
      "4\n"
     ]
    }
   ],
   "source": [
    "# 如果是对于change()函数内访问x而不是修改x，这样的操作是合法的\n",
    "x = 2\n",
    "def change(a):\n",
    "    print(x+a) # 这里我们并没有修改x，而只是访问x\n",
    "    \n",
    "change(x)"
   ]
  },
  {
   "cell_type": "code",
   "execution_count": null,
   "metadata": {},
   "outputs": [],
   "source": []
  }
 ],
 "metadata": {
  "kernelspec": {
   "display_name": "python pratice",
   "language": "python",
   "name": "env_name"
  },
  "language_info": {
   "codemirror_mode": {
    "name": "ipython",
    "version": 3
   },
   "file_extension": ".py",
   "mimetype": "text/x-python",
   "name": "python",
   "nbconvert_exporter": "python",
   "pygments_lexer": "ipython3",
   "version": "3.7.1"
  },
  "toc": {
   "base_numbering": 1,
   "nav_menu": {},
   "number_sections": true,
   "sideBar": true,
   "skip_h1_title": false,
   "title_cell": "Table of Contents",
   "title_sidebar": "Contents",
   "toc_cell": false,
   "toc_position": {},
   "toc_section_display": true,
   "toc_window_display": false
  }
 },
 "nbformat": 4,
 "nbformat_minor": 2
}
