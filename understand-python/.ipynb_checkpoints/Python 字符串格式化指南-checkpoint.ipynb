{
 "cells": [
  {
   "cell_type": "markdown",
   "metadata": {},
   "source": [
    "<center>参考文章<a href = \"https://kite.com/blog/python/python-string-formatting\" target = \"_blank\">Guide to String Formatting with Python\n",
    "</a></center>"
   ]
  },
  {
   "cell_type": "markdown",
   "metadata": {},
   "source": [
    "**The old way :printf style formatting**\n",
    "\n",
    "----\n",
    "\n",
    "Inserting a value into a string was done by representing it as a %,followed by a charcter indicating its type.\n",
    "The man downsides of the printf style is that it's very easy to introduce bugs,that it can be limited in how many arguments could be passed."
   ]
  },
  {
   "cell_type": "code",
   "execution_count": 2,
   "metadata": {},
   "outputs": [
    {
     "data": {
      "text/plain": [
       "'this is a 5'"
      ]
     },
     "execution_count": 2,
     "metadata": {},
     "output_type": "execute_result"
    }
   ],
   "source": [
    "# Insert a string and an intger\n",
    "# if the input is not an integer. %d will throw a TypeError \n",
    "# %s can be used with any object ,not just strings.\n",
    "this  = \"this\"\n",
    "five = 5\n",
    "\"%s is a %d\" % (this, five)"
   ]
  },
  {
   "cell_type": "code",
   "execution_count": 3,
   "metadata": {},
   "outputs": [
    {
     "data": {
      "text/plain": [
       "\"Seaweed sounds like 'Seaweed'\""
      ]
     },
     "execution_count": 3,
     "metadata": {},
     "output_type": "execute_result"
    }
   ],
   "source": [
    "# %r is the same as calling repr() on the input,contrasting with %s\n",
    "\"%s sounds like %r\" %(\"Seaweed\", \"Seaweed\")"
   ]
  },
  {
   "cell_type": "code",
   "execution_count": 7,
   "metadata": {},
   "outputs": [
    {
     "data": {
      "text/plain": [
       "'6.126'"
      ]
     },
     "execution_count": 7,
     "metadata": {},
     "output_type": "execute_result"
    }
   ],
   "source": [
    "# the floats ,the number of digits displayed can be controlled by inserting that number\n",
    "# note that when the digits are truncated ,the value is rounded.\n",
    "\"%.3f\" % 6.12555"
   ]
  },
  {
   "cell_type": "code",
   "execution_count": 8,
   "metadata": {},
   "outputs": [
    {
     "name": "stdout",
     "output_type": "stream",
     "text": [
      "|           some\n",
      "|          words\n",
      "|            are\n",
      "|         longer\n"
     ]
    }
   ],
   "source": [
    "# Adding padding to the strings\n",
    "for w in [\"some\", 'words', 'are', 'longer']:\n",
    "    print(\"|%15s\" % w)"
   ]
  },
  {
   "cell_type": "code",
   "execution_count": 9,
   "metadata": {},
   "outputs": [
    {
     "data": {
      "text/plain": [
       "'Xiaoming is comes from china and he is 22 years old'"
      ]
     },
     "execution_count": 9,
     "metadata": {},
     "output_type": "execute_result"
    }
   ],
   "source": [
    "# The dictionary can be used to insert values into a string \n",
    "information = {\"country\": \"china\", \"age\": 22}\n",
    "\"Xiaoming is comes from %(country)s and he is %(age)s years old\"% information"
   ]
  },
  {
   "cell_type": "markdown",
   "metadata": {},
   "source": [
    "<center><big>Python3:str.format()</big></center>"
   ]
  },
  {
   "cell_type": "code",
   "execution_count": 10,
   "metadata": {},
   "outputs": [
    {
     "data": {
      "text/plain": [
       "'a comes before b'"
      ]
     },
     "execution_count": 10,
     "metadata": {},
     "output_type": "execute_result"
    }
   ],
   "source": [
    "# The position of the arguments determines the position in the target string \n",
    "\"{} comes before {}\".format('a', 'b')"
   ]
  },
  {
   "cell_type": "code",
   "execution_count": 12,
   "metadata": {},
   "outputs": [
    {
     "data": {
      "text/plain": [
       "'b is after a which is befor b'"
      ]
     },
     "execution_count": 12,
     "metadata": {},
     "output_type": "execute_result"
    }
   ],
   "source": [
    "# we can specify the index to the argument ,allow repeating and changing the roder of the original arguments:\n",
    "\"{1} is after {0} which is befor {1}\".format('a', 'b')"
   ]
  },
  {
   "cell_type": "code",
   "execution_count": 13,
   "metadata": {},
   "outputs": [
    {
     "data": {
      "text/plain": [
       "'tom loves jim, jim loves tom'"
      ]
     },
     "execution_count": 13,
     "metadata": {},
     "output_type": "execute_result"
    }
   ],
   "source": [
    "# Access the arguments by name \n",
    "\"{cat} loves {dog}, {dog} loves {cat}\".format(cat = 'tom', dog='jim')"
   ]
  },
  {
   "cell_type": "code",
   "execution_count": 15,
   "metadata": {},
   "outputs": [
    {
     "data": {
      "text/plain": [
       "'dong is 22 years old.'"
      ]
     },
     "execution_count": 15,
     "metadata": {},
     "output_type": "execute_result"
    }
   ],
   "source": [
    "# pass the arguments by dict\n",
    "info = {'name': 'dong','age': 22}\n",
    "\"{name} is {age} years old.\".format(**info)"
   ]
  },
  {
   "cell_type": "code",
   "execution_count": 18,
   "metadata": {},
   "outputs": [
    {
     "name": "stdout",
     "output_type": "stream",
     "text": [
      "Xiaoming is comes from China and he is 23 years old, and his hobbies is bike\n",
      "Xiaohua is comes from Japan and he is 22 years old, and his hobbies is running\n",
      "Xiaoyuan is comes from USA and he is 24 years old, and his hobbies is jog\n"
     ]
    }
   ],
   "source": [
    "# The replacement field can contain any exxpression,including accessing object attributes\n",
    "class Info:\n",
    "    def __init__(self,name,age,hobby,country):\n",
    "        self.name = name\n",
    "        self.age = age\n",
    "        self.hobby = hobby\n",
    "        self.country = country \n",
    "        \n",
    "    def __str__(self):\n",
    "        msg = \"{self.name} is comes from {self.country} and he is {self.age} years old, and his hobbies is {self.hobby}\"\n",
    "        return msg.format(self = self)\n",
    "\n",
    "infos = [Info(\"Xiaoming\",23,'bike','China'),\n",
    "        Info('Xiaohua',22,'running', 'Japan'),\n",
    "        Info('Xiaoyuan', 24, 'jog', 'USA')]\n",
    "for info in infos:\n",
    "    print(info)"
   ]
  },
  {
   "cell_type": "code",
   "execution_count": 23,
   "metadata": {},
   "outputs": [
    {
     "name": "stdout",
     "output_type": "stream",
     "text": [
      "|Name:            Xiaoming|Age:                  23|Hobby:                bike|Country:               China\n",
      "|Name:             Xiaohua|Age:                  22|Hobby:             running|Country:               Japan\n",
      "|Name:            Xiaoyuan|Age:                  24|Hobby:                 jog|Country:                 USA\n"
     ]
    }
   ],
   "source": [
    "# To align, we can use '>' or '<' followed by the desired padding:\n",
    "for info in infos:\n",
    "    print(\"|Name:{info.name:>20}|Age:{info.age:>20}|Hobby:{info.hobby:>20}|Country:{info.country:>20}\".format(info = info))"
   ]
  },
  {
   "cell_type": "markdown",
   "metadata": {},
   "source": [
    "<center><big>The New Standard:F-Strings</big></center>"
   ]
  },
  {
   "cell_type": "code",
   "execution_count": 25,
   "metadata": {},
   "outputs": [
    {
     "data": {
      "text/plain": [
       "'xiaoming is 22 years old.'"
      ]
     },
     "execution_count": 25,
     "metadata": {},
     "output_type": "execute_result"
    }
   ],
   "source": [
    "\"\"\"\n",
    "Formatted string literals,or f-strings,were introduced in Python 3.6 and \n",
    "are an exciting additionto our arsenal. They're indicated by an 'f' or 'F' \n",
    "before the opening quotation mark of a string .\n",
    "\"\"\"\n",
    "name = 'xiaoming'\n",
    "age = '22'\n",
    "f'{name} is {age} years old.'"
   ]
  },
  {
   "cell_type": "code",
   "execution_count": 27,
   "metadata": {},
   "outputs": [
    {
     "data": {
      "text/plain": [
       "'xiaohua has many hobbies,including running biking and painting'"
      ]
     },
     "execution_count": 27,
     "metadata": {},
     "output_type": "execute_result"
    }
   ],
   "source": [
    "# Use expressions that access list contents in replacement fields:\n",
    "hobbies = ['running', 'biking', 'painting']\n",
    "f'xiaohua has many hobbies,including {hobbies[0]} {hobbies[1]} and {hobbies[2]}'"
   ]
  },
  {
   "cell_type": "code",
   "execution_count": 32,
   "metadata": {},
   "outputs": [
    {
     "data": {
      "text/plain": [
       "\"He is from 'China'\""
      ]
     },
     "execution_count": 32,
     "metadata": {},
     "output_type": "execute_result"
    }
   ],
   "source": [
    "# To use the repr() form in a string ,use the conversion field '!r' or calling repr() directly\n",
    "country = \"China\"\n",
    "f'He is from {country!r}'"
   ]
  },
  {
   "cell_type": "code",
   "execution_count": 33,
   "metadata": {},
   "outputs": [
    {
     "data": {
      "text/plain": [
       "\"She is from 'China'\""
      ]
     },
     "execution_count": 33,
     "metadata": {},
     "output_type": "execute_result"
    }
   ],
   "source": [
    "f'She is from {repr(country)}'"
   ]
  },
  {
   "cell_type": "code",
   "execution_count": 38,
   "metadata": {},
   "outputs": [
    {
     "data": {
      "text/plain": [
       "'His year salary is     100000'"
      ]
     },
     "execution_count": 38,
     "metadata": {},
     "output_type": "execute_result"
    }
   ],
   "source": [
    "# Nest fields\n",
    "salary = 100000\n",
    "padding = 10\n",
    "f'His year salary is {salary:{padding}}'"
   ]
  },
  {
   "cell_type": "code",
   "execution_count": null,
   "metadata": {},
   "outputs": [],
   "source": []
  }
 ],
 "metadata": {
  "kernelspec": {
   "display_name": "Python 3",
   "language": "python",
   "name": "python3"
  },
  "language_info": {
   "codemirror_mode": {
    "name": "ipython",
    "version": 3
   },
   "file_extension": ".py",
   "mimetype": "text/x-python",
   "name": "python",
   "nbconvert_exporter": "python",
   "pygments_lexer": "ipython3",
   "version": "3.7.1"
  },
  "toc": {
   "base_numbering": 1,
   "nav_menu": {},
   "number_sections": true,
   "sideBar": true,
   "skip_h1_title": false,
   "title_cell": "Table of Contents",
   "title_sidebar": "Contents",
   "toc_cell": false,
   "toc_position": {},
   "toc_section_display": true,
   "toc_window_display": false
  }
 },
 "nbformat": 4,
 "nbformat_minor": 2
}
