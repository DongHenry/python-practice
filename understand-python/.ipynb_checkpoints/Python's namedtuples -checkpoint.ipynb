{
 "cells": [
  {
   "cell_type": "code",
   "execution_count": 5,
   "metadata": {
    "ExecuteTime": {
     "end_time": "2019-05-02T06:52:14.911860Z",
     "start_time": "2019-05-02T06:52:14.903416Z"
    }
   },
   "outputs": [
    {
     "name": "stdout",
     "output_type": "stream",
     "text": [
      "Tom is 22 years old, He is from Henan\n",
      "Student(Name='Tom', Age='22', Province='Henan', Email='xx@qq.com', Phone='2222')\n"
     ]
    }
   ],
   "source": [
    "# Why Python is Great: Namedtuples\n",
    "# Using nametuple is way shorter than \n",
    "# defining a class manually:\n",
    "from collections import namedtuple\n",
    "Student = namedtuple('Student','Name Age Province Email Phone')\n",
    "tom = Student('Tom', '22', 'Henan', 'xx@qq.com', '2222')\n",
    "print(f'{tom.Name} is {tom.Age} years old, He is from {tom.Province}')\n",
    "\n",
    "print(tom)\n",
    "# Notes : Like tuples, nametuples are immutable:\n",
    "# tom.Age = 23    AttributeError: can't set attribute"
   ]
  },
  {
   "cell_type": "code",
   "execution_count": null,
   "metadata": {},
   "outputs": [],
   "source": []
  }
 ],
 "metadata": {
  "kernelspec": {
   "display_name": "python pratice",
   "language": "python",
   "name": "env_name"
  },
  "language_info": {
   "codemirror_mode": {
    "name": "ipython",
    "version": 3
   },
   "file_extension": ".py",
   "mimetype": "text/x-python",
   "name": "python",
   "nbconvert_exporter": "python",
   "pygments_lexer": "ipython3",
   "version": "3.7.1"
  },
  "toc": {
   "base_numbering": 1,
   "nav_menu": {},
   "number_sections": true,
   "sideBar": true,
   "skip_h1_title": false,
   "title_cell": "Table of Contents",
   "title_sidebar": "Contents",
   "toc_cell": false,
   "toc_position": {},
   "toc_section_display": true,
   "toc_window_display": false
  }
 },
 "nbformat": 4,
 "nbformat_minor": 2
}
