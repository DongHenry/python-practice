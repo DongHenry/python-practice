{
 "cells": [
  {
   "cell_type": "markdown",
   "metadata": {
    "ExecuteTime": {
     "end_time": "2019-06-12T06:44:44.893000Z",
     "start_time": "2019-06-12T06:44:44.880271Z"
    }
   },
   "source": [
    "#### 介绍 Python 中 is 与 == 区别之前 先来了解Python中名字和名字空间的概念\n",
    "\n",
    "#### 名字\n",
    "在通常认知里，变量是一段具有特定格式的内存，变量名则是内存别名。因为在编码阶段，无法确定内存的具体地址，故使用名称符号代替\n",
    "\n",
    "静态编译和动态解释型语言对于变量名的处理方式完全不同。 静态编译器或链接器会以固定地址，或直接、间接寻址指令代替变量名。也就是说，变量名不参与执行过程。但在解释型动态语言里，名字和对象通常是两个运行期实体。名字不但有自己的类型，还需分配内存，并介入执行过程。\n",
    "\n",
    "名字必须与目标对象关联起来才有意义\n",
    "\n",
    "最直接的关联操作就是复制，而后对名字的引用都被解释为对目标对象进行操作"
   ]
  },
  {
   "cell_type": "code",
   "execution_count": 7,
   "metadata": {
    "ExecuteTime": {
     "end_time": "2019-06-12T07:59:02.500568Z",
     "start_time": "2019-06-12T07:59:02.494459Z"
    }
   },
   "outputs": [
    {
     "name": "stdout",
     "output_type": "stream",
     "text": [
      "x-value:100 ; x-id:4359512272\n",
      "x-value:102 ; x-id:4359512336\n"
     ]
    }
   ],
   "source": [
    "x = 100\n",
    "print(f\"x-value:{x} ; x-id:{id(x)}\")\n",
    "x += 2\n",
    "print(f\"x-value:{x} ; x-id:{id(x)}\")"
   ]
  },
  {
   "cell_type": "markdown",
   "metadata": {},
   "source": [
    "赋值的基本操作：\n",
    " 1. 准备好右值目标对象 100\n",
    " 2. 准备好名字 x\n",
    " 3. 在名字空间里为两者建立关联 {x:100}\n",
    " \n",
    "名字和对象之间也只是引用关联。运行之前，名字对引用的对象一无所知，在运行期才能知道名字引用的目标类型。所以说Python是一种动态类型语言\n",
    "\n",
    "![名字|名字空间](./images/名字|名字空间.png)"
   ]
  },
  {
   "cell_type": "markdown",
   "metadata": {
    "ExecuteTime": {
     "end_time": "2019-06-12T07:53:12.420985Z",
     "start_time": "2019-06-12T07:53:12.410291Z"
    }
   },
   "source": [
    "#### 名字空间\n",
    "有了名字和对象的概念后，再来介绍名字空间的概念\n",
    "\n",
    "名字空间 （namespace）是上下文环境里专门用来存储名字和目标引用关联的容器\n",
    "\n",
    "名字空间默认使用字典的数据结构，由key/value组成"
   ]
  },
  {
   "cell_type": "markdown",
   "metadata": {
    "ExecuteTime": {
     "end_time": "2019-06-12T08:41:14.071518Z",
     "start_time": "2019-06-12T08:41:13.844164Z"
    }
   },
   "source": [
    "#### 介绍is 与 == 的区别\n",
    "在Python中一切都是对象。\n",
    "\n",
    "Python中对象包含的三个基本要素，分别是：id(身份标识)、type(数据类型)和value(值)\n",
    "\n",
    "is比较的是两个对象的id值是否相等，也就是比较两个对象是否为同一个实例对象，是否指向同一个内存地址。\n",
    "\n",
    "==比较的是两个对象的值是否相等，默认会调用对象的__ eq __()方法。"
   ]
  },
  {
   "cell_type": "code",
   "execution_count": 15,
   "metadata": {
    "ExecuteTime": {
     "end_time": "2019-06-12T09:06:42.818191Z",
     "start_time": "2019-06-12T09:06:42.801371Z"
    }
   },
   "outputs": [
    {
     "name": "stdout",
     "output_type": "stream",
     "text": [
      "a is b: True; a == b : True\n",
      "is 操作的实质是 id(a) == id(b): True\n",
      "a is c:False; a == c :True\n"
     ]
    }
   ],
   "source": [
    "def is_diff_equal():\n",
    "    a = [1, 2, 3]\n",
    "    b = a\n",
    "    # a 和 b 指向同一个对象 \n",
    "    print(f\"a is b: {a is b}; a == b : {a == b}\")\n",
    "    print(f\"is 操作的实质是 id(a) == id(b): {id(a) == id(b)}\")\n",
    "    \n",
    "    # 创建一个新的对象c\n",
    "    c = [1, 2, 3]\n",
    "    print(f\"a is c:{a is c}; a == c :{a == c}\")\n",
    "\n",
    "is_diff_equal()"
   ]
  },
  {
   "cell_type": "code",
   "execution_count": 19,
   "metadata": {
    "ExecuteTime": {
     "end_time": "2019-06-12T09:19:38.220669Z",
     "start_time": "2019-06-12T09:19:38.204715Z"
    }
   },
   "outputs": [
    {
     "name": "stdout",
     "output_type": "stream",
     "text": [
      "a is b :False\n",
      "a is b :True\n"
     ]
    }
   ],
   "source": [
    "\"\"\"\n",
    "名字a和名字b所引用的对象的值不在Python默认的内存池缓存范围【-5，256】内。\n",
    "创建了两个不同的对象。因此id(a) 不等于 id(b); a is b 为False\n",
    "\"\"\"\n",
    "a = 257\n",
    "b = 257\n",
    "print(f\"a is b :{a is b}\")\n",
    "\n",
    "\n",
    "\"\"\"\n",
    "名字a和名字b所引用的对象的值在Python默认的内存池缓存范围【-5，256】内。\n",
    "只创建了一个对象，分配了一块内存空间。因此id(a) 等于 id(b); a is b 为True\n",
    "\"\"\"\n",
    "a = 123\n",
    "b = 123\n",
    "print(f\"a is b :{a is b}\")"
   ]
  },
  {
   "cell_type": "markdown",
   "metadata": {},
   "source": [
    "#### 补充：\n",
    "python为了实现对内存的有效利用，对小整数[-5,256]内的整数会进行缓存，不在该范围内的则不会缓存.\n",
    "python在为数字分配内存时，按照数字的内容来分配内存，即a = 5;b = 5时，python只对数字5分配一块内存空间，而不是对变量a和b各分配一块内存；（在python交互式界面有内存池缓存机制，只适用于-5~256，在python脚本编程中则没有这个限制\n",
    "\n",
    "示例："
   ]
  },
  {
   "cell_type": "code",
   "execution_count": 10,
   "metadata": {
    "ExecuteTime": {
     "end_time": "2019-06-12T08:56:57.334051Z",
     "start_time": "2019-06-12T08:56:57.321658Z"
    }
   },
   "outputs": [
    {
     "name": "stdout",
     "output_type": "stream",
     "text": [
      "变量a和变量b指向的是同一个对象 id相同.所以 a is b :True\n",
      "因为变量a和b指向同一个对象，所以对象的id,type,value都一样，所以 a == b:True\n"
     ]
    }
   ],
   "source": [
    "a = 5\n",
    "b = 5\n",
    "print(f\"变量a和变量b指向的是同一个对象 id相同.所以 a is b :{a is b}\")\n",
    "print(f\"因为变量a和b指向同一个对象，所以对象的id,type,value都一样，所以 a == b:{a == b}\")"
   ]
  },
  {
   "cell_type": "markdown",
   "metadata": {},
   "source": [
    "#### 参考文章与书籍：\n",
    "- Python3学习笔记\n",
    "- https://foofish.net/what-is-difference-between-is-and-euqals.html"
   ]
  }
 ],
 "metadata": {
  "kernelspec": {
   "display_name": "python pratice",
   "language": "python",
   "name": "env_name"
  },
  "language_info": {
   "codemirror_mode": {
    "name": "ipython",
    "version": 3
   },
   "file_extension": ".py",
   "mimetype": "text/x-python",
   "name": "python",
   "nbconvert_exporter": "python",
   "pygments_lexer": "ipython3",
   "version": "3.7.1"
  },
  "toc": {
   "base_numbering": 1,
   "nav_menu": {},
   "number_sections": true,
   "sideBar": true,
   "skip_h1_title": false,
   "title_cell": "Table of Contents",
   "title_sidebar": "Contents",
   "toc_cell": false,
   "toc_position": {},
   "toc_section_display": true,
   "toc_window_display": false
  }
 },
 "nbformat": 4,
 "nbformat_minor": 2
}
