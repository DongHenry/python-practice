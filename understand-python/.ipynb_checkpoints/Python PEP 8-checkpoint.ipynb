{
 "cells": [
  {
   "cell_type": "markdown",
   "metadata": {},
   "source": [
    "### Contents：\n",
    "- why need PEP 8\n",
    "- Naming Conventions\n",
    "    - Naming Styles\n",
    "    - How to Choose Names\n",
    "- Code Layout\n",
    "    - Blank Lines\n",
    "    - Maximum Line Length and line breaking\n",
    "- Indentation\n",
    "    - Tabs & Spaces\n",
    "    - Indentation Following Line Breaks\n",
    "    - Where to Put the Closing Brace\n",
    "- Comments\n",
    "    - Block comments\n",
    "    - Inline comments\n",
    "    - Documentation comments\n",
    "- Whitespace in Expression and Statements\n",
    "    - Whitespace around binary operators\n",
    "    - When to avoid adding whitespace\n",
    "- Programming Recommendations\n",
    "- When to ignore PEP 8\n",
    "- Tips and Tricks to Help ensure your code follows PEP 8\n",
    "- Conclusion\n",
    "\n",
    "References：\n",
    "- [How to write beautiful python code with PEP 8](https://realpython.com/python-pep8/)\n",
    "- [PEP 8 -- Style Guide for Python Code](https://www.python.org/dev/peps/pep-0008/)\n",
    "- [https://pep8.org/](https://pep8.org/)"
   ]
  },
  {
   "cell_type": "markdown",
   "metadata": {},
   "source": [
    "### Why need PEP 8\n",
    "> \"Readability counts --- The Zen of Python\"\n",
    "\n",
    "The primary focum of PEP 8 is to improve the readablity and consistency of Python code.<br>\n",
    "PEP stands for Python Enhancement Proposal.<br>\n",
    "PEP 8 exists to improve the readability of Python code.<br>\n",
    "Following PEP 8 is particularly important if you’re looking for a development job. Writing clear, readable code shows professionalism. It’ll tell an employer that you understand how to structure your code well.<br>"
   ]
  },
  {
   "cell_type": "markdown",
   "metadata": {
    "ExecuteTime": {
     "end_time": "2019-04-30T09:22:34.419986Z",
     "start_time": "2019-04-30T09:22:34.406450Z"
    }
   },
   "source": [
    "### Naming Conventions \n",
    "> \"Explicit is better than implicit --- The Zen of Python\" 显式优于隐式\n",
    "\n",
    "**Note use l,o,or I single letter names as these can be mistaken for 1 and 0**\n"
   ]
  },
  {
   "cell_type": "markdown",
   "metadata": {},
   "source": [
    "#### Naming Styles:\n",
    "- **Function**: Use a lowercase word or words,separate words by underscores .Demo: **function,my_function**<br>\n",
    "- **Variable**: Use a lowercase single letter,word,or words,seperate words with underscores. Demo: **x,var,my_variable**<br>\n",
    "- **Class:**Start each word with a capital letter.Do not separate words with underscores **Demo: Model,MyClass**<br>\n",
    "- **Method:**Use a lowercase word or words,Separate words with underscores**class_method,method**<br>\n",
    "- **Constant** : Use an uppercase single letter,word,or words.Separate words with underscores. Demo: - **CONSTANT,MY_CONSTANT,MY_LONG_CONSTANT**<br>\n",
    "- **Module:** Use a short ,lowercase word or words,Separate words with underscores Deme: **module.py , my_module,py**<br>\n",
    "- **Package:** Use a short ,lowercase word or words.Do not separate words with underscores**Demo: package,mypackage**"
   ]
  },
  {
   "cell_type": "markdown",
   "metadata": {},
   "source": [
    "#### How to choose names\n",
    "Always try to use the most concise but descriptive names possible."
   ]
  },
  {
   "cell_type": "code",
   "execution_count": 4,
   "metadata": {
    "ExecuteTime": {
     "end_time": "2019-04-30T10:14:15.554928Z",
     "start_time": "2019-04-30T10:14:15.547280Z"
    }
   },
   "outputs": [],
   "source": [
    "# Recommended\n",
    "def multiply_by_two(x):\n",
    "    return x * 2"
   ]
  },
  {
   "cell_type": "markdown",
   "metadata": {},
   "source": [
    "### Code Layout\n",
    "> Beautiful is better than ugly -- The Zen of Python\n",
    "\n",
    "#### Blank Lines\n",
    "- Surround top-level functions and classes with two blank lines.\n",
    "- Surround method definitions inside classes with a single blank line\n",
    "- Use blank lines sparingly inside functions to show clear steps."
   ]
  },
  {
   "cell_type": "code",
   "execution_count": 6,
   "metadata": {
    "ExecuteTime": {
     "end_time": "2019-04-30T10:19:57.117857Z",
     "start_time": "2019-04-30T10:19:57.100257Z"
    }
   },
   "outputs": [],
   "source": [
    "# Surround top-level functions and classes with two blank lines.\n",
    "class MyFirstClass:\n",
    "    pass\n",
    "\n",
    "\n",
    "class MySecondClass:\n",
    "    pass\n",
    "\n",
    "\n",
    "def top_level_function():\n",
    "    return None"
   ]
  },
  {
   "cell_type": "code",
   "execution_count": 7,
   "metadata": {
    "ExecuteTime": {
     "end_time": "2019-04-30T10:20:26.052666Z",
     "start_time": "2019-04-30T10:20:26.047282Z"
    }
   },
   "outputs": [],
   "source": [
    "# Surround method definitions inside classes with a single blank line\n",
    "class MyClass:\n",
    "    def first_method(self):\n",
    "        return None\n",
    "\n",
    "    def second_method(self):\n",
    "        return None"
   ]
  },
  {
   "cell_type": "code",
   "execution_count": 8,
   "metadata": {
    "ExecuteTime": {
     "end_time": "2019-04-30T10:21:35.419330Z",
     "start_time": "2019-04-30T10:21:35.412283Z"
    }
   },
   "outputs": [],
   "source": [
    "# Use blank lines sparingly inside functions to show clear steps.\n",
    "def calculate_variance(number_list):\n",
    "    sum_list = 0\n",
    "    for number in number_list:\n",
    "        sum_list = sum_list + number\n",
    "    mean = sum_list / len(number_list)\n",
    "\n",
    "    sum_squares = 0\n",
    "    for number in number_list:\n",
    "        sum_squares = sum_squares + number**2\n",
    "    mean_squares = sum_squares / len(number_list)\n",
    "\n",
    "    return mean_squares - mean**2"
   ]
  },
  {
   "cell_type": "markdown",
   "metadata": {},
   "source": [
    "#### Maximum Line Length and Line Breaking\n",
    "PEP 8 suggests lines should be limited to 79 characters. <br>\n",
    "Python will assume line continuation if code is contained within parentheses, brackets, or braces:"
   ]
  },
  {
   "cell_type": "code",
   "execution_count": 9,
   "metadata": {
    "ExecuteTime": {
     "end_time": "2019-04-30T10:24:32.237353Z",
     "start_time": "2019-04-30T10:24:32.232794Z"
    }
   },
   "outputs": [],
   "source": [
    "def function(arg_one, arg_two,\n",
    "             arg_three, arg_four):\n",
    "    return arg_one"
   ]
  },
  {
   "cell_type": "markdown",
   "metadata": {},
   "source": [
    "If it is impossible to use implied continuation, then you can use backslashes to break lines instead:"
   ]
  },
  {
   "cell_type": "code",
   "execution_count": 11,
   "metadata": {
    "ExecuteTime": {
     "end_time": "2019-04-30T10:25:54.270949Z",
     "start_time": "2019-04-30T10:25:54.266550Z"
    }
   },
   "outputs": [],
   "source": [
    "from mypkg import example1, \\\n",
    "    example2, example3"
   ]
  },
  {
   "cell_type": "code",
   "execution_count": 14,
   "metadata": {
    "ExecuteTime": {
     "end_time": "2019-04-30T10:28:37.478482Z",
     "start_time": "2019-04-30T10:28:37.473833Z"
    }
   },
   "outputs": [],
   "source": [
    "# Recommended\n",
    "first_variable = 1\n",
    "second_variable = 2\n",
    "third_variable = 3\n",
    "total = (first_variable\n",
    "         + second_variable\n",
    "         - third_variable)"
   ]
  },
  {
   "cell_type": "markdown",
   "metadata": {},
   "source": [
    "### Indentation\n",
    "> \"There should be one - and preferably only one -obvious way to do it\" -- The Zen of Python\n",
    "\n",
    "The key indentation rules laid out by PEP 8 are the following:\n",
    "- Use 4 consecutive spaces to indicate indentation\n",
    "- Prefer spaces over tabs"
   ]
  },
  {
   "cell_type": "markdown",
   "metadata": {},
   "source": [
    "An alternative style of indentation following a line break is a hanging indent. This is a typographical term meaning that every line but the first in a paragraph or statement is indented. You can use a hanging indent to visually represent a continuation of a line of code. "
   ]
  },
  {
   "cell_type": "code",
   "execution_count": null,
   "metadata": {
    "ExecuteTime": {
     "end_time": "2019-04-30T10:41:33.438752Z",
     "start_time": "2019-04-30T10:41:33.424378Z"
    }
   },
   "outputs": [],
   "source": [
    "# Recommended\n",
    "var = function(\n",
    "    arg_one, arg_two,\n",
    "    arg_three, arg_four)\n",
    "\n",
    "# Note:When use a hanging indent,there must not be any arguments\n",
    "# on the first line.\n",
    "\n",
    "# Not Recommended\n",
    "var = function(arg_one, arg_two,\n",
    "    arg_three, arg_four)"
   ]
  },
  {
   "cell_type": "code",
   "execution_count": 16,
   "metadata": {
    "ExecuteTime": {
     "end_time": "2019-04-30T10:41:59.025947Z",
     "start_time": "2019-04-30T10:41:59.021419Z"
    }
   },
   "outputs": [],
   "source": [
    "def function(\n",
    "        arg_one, arg_two,\n",
    "        arg_three, arg_four):\n",
    "    return arg_one"
   ]
  },
  {
   "cell_type": "markdown",
   "metadata": {
    "ExecuteTime": {
     "end_time": "2019-04-30T10:42:16.495772Z",
     "start_time": "2019-04-30T10:42:16.492197Z"
    }
   },
   "source": [
    "#### Where to put the closing brace\n",
    " PEP 8 provides two options for the position of the closing brace in implied line continuations:\n",
    " - Line up the closing brace with the first non-whitespace character of the previous line:\n",
    " - Line up the closing brace with the first character of the line that starts the construct:"
   ]
  },
  {
   "cell_type": "code",
   "execution_count": 18,
   "metadata": {
    "ExecuteTime": {
     "end_time": "2019-04-30T10:45:55.157669Z",
     "start_time": "2019-04-30T10:45:55.152375Z"
    }
   },
   "outputs": [],
   "source": [
    "# Line up the closing brace with the first non-whitespace \n",
    "# character of the previous line:\n",
    "list_of_numbers = [\n",
    "    1, 2, 3,\n",
    "    4, 5, 6,\n",
    "    7, 8, 9\n",
    "    ]"
   ]
  },
  {
   "cell_type": "code",
   "execution_count": null,
   "metadata": {},
   "outputs": [],
   "source": [
    "# Line up the closing brace with the first \n",
    "# character of the line that starts the construct:\n",
    "list_of_numbers = [\n",
    "    1, 2, 3,\n",
    "    4, 5, 6,\n",
    "    7, 8, 9\n",
    "]"
   ]
  },
  {
   "cell_type": "markdown",
   "metadata": {
    "ExecuteTime": {
     "end_time": "2019-04-30T10:46:11.161399Z",
     "start_time": "2019-04-30T10:46:11.157320Z"
    }
   },
   "source": [
    "### Comments\n",
    "> “If the implementation is hard to explain, it’s a bad idea.” ---The Zen of Python\n",
    "\n",
    "Here are some key points to remember when adding comments to your code:\n",
    "- Limit the line length of comments and docstrings to 72 characters.\n",
    "- Use complete sentences, starting with a capital letter.\n",
    "- Make sure to update comments if you change your code."
   ]
  },
  {
   "cell_type": "markdown",
   "metadata": {},
   "source": [
    "#### Block Comments:\n",
    "PEP 8 provides the following rules for writing block comments:\n",
    "- Indent block comments to the same level as the code they describe.\n",
    "- Start each line with a # followed by a single space.\n",
    "- Separate paragraphs by a line containing a single #."
   ]
  },
  {
   "cell_type": "code",
   "execution_count": null,
   "metadata": {},
   "outputs": [],
   "source": [
    "for i in range(0, 10):\n",
    "    # Loop over i ten times and print out the value of i, followed by a\n",
    "    # new line character\n",
    "    print(i, '\\n')"
   ]
  },
  {
   "cell_type": "markdown",
   "metadata": {},
   "source": [
    "Sometimes, if the code is very technical, then it is necessary to use more than one paragraph in a block comment:"
   ]
  },
  {
   "cell_type": "code",
   "execution_count": null,
   "metadata": {},
   "outputs": [],
   "source": [
    "def quadratic(a, b, c, x):\n",
    "    # Calculate the solution to a quadratic equation using the quadratic\n",
    "    # formula.\n",
    "    #\n",
    "    # There are always two solutions to a quadratic equation, x_1 and x_2.\n",
    "    x_1 = (- b+(b**2-4*a*c)**(1/2)) / (2*a)\n",
    "    x_2 = (- b-(b**2-4*a*c)**(1/2)) / (2*a)\n",
    "    return x_1, x_2"
   ]
  },
  {
   "cell_type": "markdown",
   "metadata": {
    "ExecuteTime": {
     "end_time": "2019-04-30T10:52:35.290270Z",
     "start_time": "2019-04-30T10:52:35.283033Z"
    }
   },
   "source": [
    "#### Inline Comments\n",
    "Here’s what PEP 8 has to say about them:\n",
    "- Use inline comments sparingly.\n",
    "- Write inline comments on the same line as the statement they refer to.\n",
    "- Separate inline comments by two or more spaces from the statement.\n",
    "- Start inline comments with a # and a single space, like block comments.\n",
    "- Don’t use them to explain the obvious."
   ]
  },
  {
   "cell_type": "code",
   "execution_count": 21,
   "metadata": {
    "ExecuteTime": {
     "end_time": "2019-04-30T10:53:07.654398Z",
     "start_time": "2019-04-30T10:53:07.649467Z"
    }
   },
   "outputs": [],
   "source": [
    "x = 5  # This is an inline comment"
   ]
  },
  {
   "cell_type": "markdown",
   "metadata": {},
   "source": [
    "#### Documentation Strings\n",
    "The most important rules applying to docstrings are the following:\n",
    "\n",
    "- Surround docstrings with three double quotes on either side, as in \"\"\"This is a docstring\"\"\".\n",
    "\n",
    "- Write them for all public modules, functions, classes, and methods.\n",
    "\n",
    "- Put the \"\"\" that ends a multiline docstring on a line by itself:"
   ]
  },
  {
   "cell_type": "code",
   "execution_count": 22,
   "metadata": {
    "ExecuteTime": {
     "end_time": "2019-04-30T10:55:11.589233Z",
     "start_time": "2019-04-30T10:55:11.580698Z"
    }
   },
   "outputs": [],
   "source": [
    "def quadratic(a, b, c, x):\n",
    "    \"\"\"Solve quadratic equation via the quadratic formula.\n",
    "\n",
    "    A quadratic equation has the following form:\n",
    "    ax**2 + bx + c = 0\n",
    "\n",
    "    There always two solutions to a quadratic equation: x_1 & x_2.\n",
    "    \"\"\"\n",
    "    x_1 = (- b+(b**2-4*a*c)**(1/2)) / (2*a)\n",
    "    x_2 = (- b-(b**2-4*a*c)**(1/2)) / (2*a)\n",
    "\n",
    "    return x_1, x_2"
   ]
  },
  {
   "cell_type": "code",
   "execution_count": 23,
   "metadata": {
    "ExecuteTime": {
     "end_time": "2019-04-30T10:56:07.977612Z",
     "start_time": "2019-04-30T10:56:07.969959Z"
    }
   },
   "outputs": [],
   "source": [
    "def quadratic(a, b, c, x):\n",
    "    '''For one-line docstrings, keep the \"\"\" on the same line:'''\n",
    "    x_1 = (- b+(b**2-4*a*c)**(1/2)) / (2*a)\n",
    "    x_2 = (- b-(b**2-4*a*c)**(1/2)) / (2*a)\n",
    "\n",
    "    return x_1, x_2"
   ]
  },
  {
   "cell_type": "code",
   "execution_count": null,
   "metadata": {},
   "outputs": [],
   "source": []
  }
 ],
 "metadata": {
  "kernelspec": {
   "display_name": "python pratice",
   "language": "python",
   "name": "env_name"
  },
  "language_info": {
   "codemirror_mode": {
    "name": "ipython",
    "version": 3
   },
   "file_extension": ".py",
   "mimetype": "text/x-python",
   "name": "python",
   "nbconvert_exporter": "python",
   "pygments_lexer": "ipython3",
   "version": "3.7.1"
  },
  "toc": {
   "base_numbering": 1,
   "nav_menu": {},
   "number_sections": true,
   "sideBar": true,
   "skip_h1_title": false,
   "title_cell": "Table of Contents",
   "title_sidebar": "Contents",
   "toc_cell": false,
   "toc_position": {},
   "toc_section_display": true,
   "toc_window_display": false
  }
 },
 "nbformat": 4,
 "nbformat_minor": 2
}
