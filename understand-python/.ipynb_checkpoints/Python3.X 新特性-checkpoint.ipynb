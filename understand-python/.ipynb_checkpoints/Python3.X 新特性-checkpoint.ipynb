{
 "cells": [
  {
   "cell_type": "markdown",
   "metadata": {},
   "source": [
    "#### 原文链接：https://datawhatnow.com/things-you-are-probably-not-using-in-python-3-but-should/"
   ]
  },
  {
   "cell_type": "markdown",
   "metadata": {},
   "source": [
    "#### 1.格式化字符串 f-string （Python3.6+）\n"
   ]
  },
  {
   "cell_type": "code",
   "execution_count": 3,
   "metadata": {
    "ExecuteTime": {
     "end_time": "2019-05-21T11:01:54.281093Z",
     "start_time": "2019-05-21T11:01:54.272956Z"
    }
   },
   "outputs": [
    {
     "name": "stdout",
     "output_type": "stream",
     "text": [
      "TomXin is 22 years old and he is from China\n"
     ]
    }
   ],
   "source": [
    "name = 'TomXin'\n",
    "age = 22\n",
    "country = 'China'\n",
    "\n",
    "student_info = f'{name} is {age} years old and he is from {country}'\n",
    "print(student_info)"
   ]
  },
  {
   "cell_type": "markdown",
   "metadata": {},
   "source": [
    "#### 2.路径管理库 Pathlib （Python3.4+）\n",
    "Python3提供了一种处理文件路径的抽象库(Pathlib)\n",
    "参考文章:https://treyhunner.com/2018/12/why-you-should-be-using-pathlib/\n",
    "\n",
    "直接对路径的字符串进行 / 操作，并在绝对和相对路径间做转换"
   ]
  },
  {
   "cell_type": "code",
   "execution_count": 13,
   "metadata": {
    "ExecuteTime": {
     "end_time": "2019-05-21T11:12:24.266644Z",
     "start_time": "2019-05-21T11:12:24.260275Z"
    }
   },
   "outputs": [
    {
     "name": "stdout",
     "output_type": "stream",
     "text": [
      "python-practice/python-understand\n",
      "/Users/loulan/Desktop/Job/python-practice/understand-python/python-practice/python-understand/python3.x\n"
     ]
    }
   ],
   "source": [
    "from pathlib import Path\n",
    "\n",
    "root = Path('python-practice/python-understand/')\n",
    "print(root)\n",
    "\n",
    "path = root / 'python3.x'\n",
    "# Make the path absolute\n",
    "print(path.resolve())"
   ]
  },
  {
   "cell_type": "markdown",
   "metadata": {},
   "source": [
    "#### 3. 类型提示 Type hinting (Python3.5+)"
   ]
  },
  {
   "cell_type": "code",
   "execution_count": 14,
   "metadata": {
    "ExecuteTime": {
     "end_time": "2019-05-21T11:22:10.626473Z",
     "start_time": "2019-05-21T11:22:10.608537Z"
    }
   },
   "outputs": [
    {
     "data": {
      "text/plain": [
       "True"
      ]
     },
     "execution_count": 14,
     "metadata": {},
     "output_type": "execute_result"
    }
   ],
   "source": [
    "def sentence_has_animal(sentence: str) -> bool:\n",
    "    return 'animal' in sentence\n",
    "\n",
    "sentence_has_animal('donald had a farm without animals')"
   ]
  },
  {
   "cell_type": "markdown",
   "metadata": {},
   "source": [
    "#### 4.枚举 (Python3.4+)\n",
    "\n",
    "Python3支持通过 Enum类编写枚举的简单方法。枚举是一种封装常量列表的便捷方法，\n",
    "因此这些列表不会再结构性不强的情况下随机分布在代码中\n",
    "\n",
    "枚举本身也可以被遍历"
   ]
  },
  {
   "cell_type": "code",
   "execution_count": 15,
   "metadata": {
    "ExecuteTime": {
     "end_time": "2019-05-21T11:26:40.945011Z",
     "start_time": "2019-05-21T11:26:40.939141Z"
    }
   },
   "outputs": [
    {
     "name": "stdout",
     "output_type": "stream",
     "text": [
      "Monster.ZOMBIE\n"
     ]
    }
   ],
   "source": [
    "from enum import Enum, auto\n",
    "\n",
    "class Monster(Enum):\n",
    "    ZOMBIE = auto()\n",
    "    WARRIOR = auto()\n",
    "    BEAR = auto()\n",
    "    \n",
    "print(Monster.ZOMBIE)"
   ]
  },
  {
   "cell_type": "code",
   "execution_count": 16,
   "metadata": {
    "ExecuteTime": {
     "end_time": "2019-05-21T11:27:08.466785Z",
     "start_time": "2019-05-21T11:27:08.461390Z"
    }
   },
   "outputs": [
    {
     "name": "stdout",
     "output_type": "stream",
     "text": [
      "Monster.ZOMBIE\n",
      "Monster.WARRIOR\n",
      "Monster.BEAR\n"
     ]
    }
   ],
   "source": [
    "for monster in Monster:\n",
    "    print(monster)"
   ]
  },
  {
   "cell_type": "markdown",
   "metadata": {},
   "source": [
    "#### 5.0扩展的可迭代对象解包 (Python3.0+)\n",
    "参考:https://www.python.org/dev/peps/pep-3132/"
   ]
  },
  {
   "cell_type": "code",
   "execution_count": 19,
   "metadata": {
    "ExecuteTime": {
     "end_time": "2019-05-21T11:45:34.728857Z",
     "start_time": "2019-05-21T11:45:34.722108Z"
    }
   },
   "outputs": [
    {
     "name": "stdout",
     "output_type": "stream",
     "text": [
      "0 [1, 2, 3] 4\n",
      "Python3.7 script.py ['-n', '5', '-1', '15']\n",
      "0 [3, 4, 5, 6, 7, 8, 9]\n"
     ]
    }
   ],
   "source": [
    "head, *body, tail = range(5)\n",
    "print(head, body, tail)\n",
    "\n",
    "py, filename, *cmds = \"Python3.7 script.py -n 5 -1 15\".split()\n",
    "print(py, filename, cmds)\n",
    "\n",
    "first, _mid, third, *_other = range(10)\n",
    "print(first, _other)"
   ]
  },
  {
   "cell_type": "code",
   "execution_count": null,
   "metadata": {},
   "outputs": [],
   "source": []
  }
 ],
 "metadata": {
  "kernelspec": {
   "display_name": "python pratice",
   "language": "python",
   "name": "env_name"
  },
  "language_info": {
   "codemirror_mode": {
    "name": "ipython",
    "version": 3
   },
   "file_extension": ".py",
   "mimetype": "text/x-python",
   "name": "python",
   "nbconvert_exporter": "python",
   "pygments_lexer": "ipython3",
   "version": "3.7.1"
  },
  "toc": {
   "base_numbering": 1,
   "nav_menu": {},
   "number_sections": true,
   "sideBar": true,
   "skip_h1_title": false,
   "title_cell": "Table of Contents",
   "title_sidebar": "Contents",
   "toc_cell": false,
   "toc_position": {},
   "toc_section_display": true,
   "toc_window_display": false
  }
 },
 "nbformat": 4,
 "nbformat_minor": 2
}
