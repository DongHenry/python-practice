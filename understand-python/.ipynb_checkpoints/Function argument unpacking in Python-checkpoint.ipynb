{
 "cells": [
  {
   "cell_type": "code",
   "execution_count": 1,
   "metadata": {
    "ExecuteTime": {
     "end_time": "2019-05-07T12:04:38.038897Z",
     "start_time": "2019-05-07T12:04:38.030912Z"
    }
   },
   "outputs": [
    {
     "name": "stdout",
     "output_type": "stream",
     "text": [
      "1 2 3\n",
      "1 2 3\n"
     ]
    }
   ],
   "source": [
    "# Function argument unpacking in Python\n",
    "\n",
    "def my_func(x, y, z):\n",
    "    print(x, y, z)\n",
    "    \n",
    "tuple_vec = (1, 2, 3)\n",
    "dict_vec = {'x': 1, 'y': 2, 'z': 3}\n",
    "\n",
    "# tuple as the argument\n",
    "my_func(*tuple_vec)\n",
    "\n",
    "# dict as the argument\n",
    "my_func(**dict_vec)"
   ]
  }
 ],
 "metadata": {
  "kernelspec": {
   "display_name": "python pratice",
   "language": "python",
   "name": "env_name"
  },
  "language_info": {
   "codemirror_mode": {
    "name": "ipython",
    "version": 3
   },
   "file_extension": ".py",
   "mimetype": "text/x-python",
   "name": "python",
   "nbconvert_exporter": "python",
   "pygments_lexer": "ipython3",
   "version": "3.7.1"
  },
  "toc": {
   "base_numbering": 1,
   "nav_menu": {},
   "number_sections": true,
   "sideBar": true,
   "skip_h1_title": false,
   "title_cell": "Table of Contents",
   "title_sidebar": "Contents",
   "toc_cell": false,
   "toc_position": {},
   "toc_section_display": true,
   "toc_window_display": false
  }
 },
 "nbformat": 4,
 "nbformat_minor": 2
}
