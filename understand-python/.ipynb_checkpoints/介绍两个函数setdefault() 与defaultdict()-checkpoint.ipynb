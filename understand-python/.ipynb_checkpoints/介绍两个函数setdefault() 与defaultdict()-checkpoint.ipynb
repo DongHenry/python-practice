{
 "cells": [
  {
   "cell_type": "markdown",
   "metadata": {},
   "source": [
    "#### <center>参考文章<a href = \"https://foofish.net/setdefault-defaultdict.html\" target=\"_blank\">提升逼格的两个函数：setdefault 与 defaultdict\n",
    "</a></center>"
   ]
  },
  {
   "cell_type": "code",
   "execution_count": 35,
   "metadata": {},
   "outputs": [],
   "source": [
    "### 需求;一个列表，里面是key,value的元组，要求转化为一个列表，并将key相同的划为一个列表中 --- 如下所示\n",
    "data = [(\"p\", 1), (\"p\", 2), (\"p\", 3),\n",
    "        (\"h\", 1), (\"h\", 2), (\"h\", 3)]\n",
    "result = {\"p\":[1,2,3],\"h\":[1,2,3]}"
   ]
  },
  {
   "cell_type": "code",
   "execution_count": 36,
   "metadata": {},
   "outputs": [
    {
     "name": "stdout",
     "output_type": "stream",
     "text": [
      "{'p': [1, 2, 3], 'h': [1, 2, 3]}\n"
     ]
    }
   ],
   "source": [
    "test_dict = {}\n",
    "for (key,value) in data:\n",
    "    if key in test_dict:\n",
    "        test_dict[key].append(value)\n",
    "    else:\n",
    "        test_dict[key] = [value]\n",
    "print(test_dict)"
   ]
  },
  {
   "cell_type": "markdown",
   "metadata": {},
   "source": [
    "用上面的代码实现显得有些臃肿，不Pythonic。可以使用setdefault和defaultdict方法实现<br>\n",
    "\n",
    "---\n",
    "**setdefault method**\n",
    "\n",
    "setdefault方法是字典对象的一个实例方法，接收两个参数，用法和字典的get()方法类似，但比get()更加强大。如果字典中的key不存在，他会为字典的key设定一个默认值"
   ]
  },
  {
   "cell_type": "code",
   "execution_count": 37,
   "metadata": {},
   "outputs": [
    {
     "name": "stdout",
     "output_type": "stream",
     "text": [
      "get():字典的get方法设置的默认值不改变原字典的值:{'x': 1}\n",
      "setdefault():setdefault方法设置的默认值会改变原字典的值:{'x': 1, 'y': 2}\n",
      "\n",
      "上述需求用setdefault实现\n",
      "{'p': [1, 2, 3], 'h': [1, 2, 3]}\n"
     ]
    }
   ],
   "source": [
    "# 字典的get()方法和setdefault方法的区别; get()设置的默认值不会改变原字典的值,而setdefault（）设置的默认值会改变原字典的值\n",
    "dict1 = {\"x\":1}\n",
    "dict2 = dict1.get(\"y\",2)\n",
    "print(\"get():字典的get方法设置的默认值不改变原字典的值:{}\".format(dict1))\n",
    "\n",
    "dict3 = dict1.setdefault(\"y\",2)\n",
    "print('setdefault():setdefault方法设置的默认值会改变原字典的值:{}'.format(dict1))\n",
    "print('\\n上述需求用setdefault实现')\n",
    "set_result = {}\n",
    "for (key,value) in data:\n",
    "    set_result.setdefault(key,[]).append(value)\n",
    "print(set_result)"
   ]
  },
  {
   "cell_type": "markdown",
   "metadata": {},
   "source": [
    "---\n",
    "**defaultdict method**\n",
    "\n",
    "defaultdict是collections模块下的一个工厂函数，用于构造字典对象，接收一个可调用对象(list)作为参数,参数返回的类型是什么，字典对应的key就是什么类型"
   ]
  },
  {
   "cell_type": "code",
   "execution_count": 45,
   "metadata": {},
   "outputs": [
    {
     "name": "stdout",
     "output_type": "stream",
     "text": [
      "defaultdict(<class 'list'>, {'p': [1, 2, 3], 'h': [1, 2, 3]})\n"
     ]
    }
   ],
   "source": [
    "from collections import defaultdict\n",
    "results = defaultdict(list)\n",
    "\n",
    "for (key,value) in data:\n",
    "    results[key].append(value)\n",
    "print(results)"
   ]
  }
 ],
 "metadata": {
  "kernelspec": {
   "display_name": "Python 3",
   "language": "python",
   "name": "python3"
  },
  "language_info": {
   "codemirror_mode": {
    "name": "ipython",
    "version": 3
   },
   "file_extension": ".py",
   "mimetype": "text/x-python",
   "name": "python",
   "nbconvert_exporter": "python",
   "pygments_lexer": "ipython3",
   "version": "3.7.1"
  },
  "toc": {
   "base_numbering": 1,
   "nav_menu": {},
   "number_sections": true,
   "sideBar": true,
   "skip_h1_title": false,
   "title_cell": "Table of Contents",
   "title_sidebar": "Contents",
   "toc_cell": false,
   "toc_position": {},
   "toc_section_display": true,
   "toc_window_display": false
  }
 },
 "nbformat": 4,
 "nbformat_minor": 2
}
