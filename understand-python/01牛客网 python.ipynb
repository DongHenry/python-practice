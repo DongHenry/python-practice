{
 "cells": [
  {
   "cell_type": "code",
   "execution_count": 2,
   "metadata": {
    "ExecuteTime": {
     "end_time": "2019-05-02T03:44:53.980915Z",
     "start_time": "2019-05-02T03:44:53.975270Z"
    }
   },
   "outputs": [],
   "source": [
    "# test 1: 执行下列语句后的结果是什么？\n",
    "b = 2*a/ 4\n",
    "a = \"one\"\n",
    "print(a,b)\n",
    "\n",
    "# NameError: name 'a' is not defined"
   ]
  },
  {
   "cell_type": "markdown",
   "metadata": {},
   "source": [
    "#### test 2: python中的标准数据类型：\n",
    "python 有5个标准数据类型：\n",
    "- Numbers 数字\n",
    "- String 字符串\n",
    "- List 列表\n",
    "- Tuple 元组\n",
    "- Dictionary 字典    **字典是python中唯一的映射类型，阐述了键与键值之间的对应关系**\n",
    "\n",
    "其中数字Numbers类型有：\n",
    "- int (有符号整型)\n",
    "- long (长整型)\n",
    "- float(浮点型)\n",
    "- complex (复数)"
   ]
  },
  {
   "cell_type": "code",
   "execution_count": 4,
   "metadata": {
    "ExecuteTime": {
     "end_time": "2019-05-02T03:58:16.896782Z",
     "start_time": "2019-05-02T03:58:16.890083Z"
    }
   },
   "outputs": [
    {
     "name": "stdout",
     "output_type": "stream",
     "text": [
      "\\nwoow\n"
     ]
    }
   ],
   "source": [
    "# test 3:What gets printed?()\n",
    "\"\"\"\n",
    "Python 中字符串的前导 r 代表原始字符串标识符，该字符串中的特殊符号不会被转义，适用于正则表达式中繁杂的特殊符号表示。\n",
    "\n",
    "最典型的例子，如要输出字符串 \\n，由于反斜杠的转义，因此一般的输出语句为：\n",
    "\n",
    "print(\"\\\\n\")\n",
    "\n",
    "这里的 \\\\ 将被转义为 \\ 。而采用原始字符串输出时，则不会对字符串进行转义：\n",
    "\n",
    "print(r\"\\n\")\n",
    "\"\"\"\n",
    "print(r\"\\nwoow\")"
   ]
  },
  {
   "cell_type": "code",
   "execution_count": null,
   "metadata": {},
   "outputs": [],
   "source": [
    "# test 4: 以下语句不能创建一个字典\n",
    "\"\"\"\n",
    "字典的键名是不可变类型\n",
    "而列表是可变的数据类型\n",
    "\"\"\"\n",
    "dict3 = {[1,2,3]: “uestc”}"
   ]
  },
  {
   "cell_type": "code",
   "execution_count": 5,
   "metadata": {
    "ExecuteTime": {
     "end_time": "2019-05-02T04:13:51.151558Z",
     "start_time": "2019-05-02T04:13:51.133848Z"
    }
   },
   "outputs": [
    {
     "name": "stdout",
     "output_type": "stream",
     "text": [
      "__main__\n"
     ]
    }
   ],
   "source": [
    "# test 5:\n",
    "\"\"\"\n",
    "Assuming the filename for the code below is /usr/lib/python/person.py\n",
    "and the program is run as: python /usr/lib/python/person.py\n",
    "What gets printed?()\n",
    "\n",
    "1、__name__这个系统变量显示了当前模块执行过程中的名称，如果当前程序运行在这个模块中，__name__ 的名称就是__main__如果不是，则为这个模块的名称。 \n",
    "2、__main__一般作为函数的入口，类似于C语言，尤其在大型工程中，常常有if __name__ == \"__main__\":来表明整个工程开始运行的入口。\n",
    "\n",
    "\"\"\"\n",
    "class Person:\n",
    "    def __init__(self):\n",
    "         pass\n",
    "    def getAge(self):\n",
    "         print(__name__)\n",
    "p = Person()\n",
    "p.getAge()"
   ]
  },
  {
   "cell_type": "code",
   "execution_count": 6,
   "metadata": {
    "ExecuteTime": {
     "end_time": "2019-05-02T04:16:48.865974Z",
     "start_time": "2019-05-02T04:16:48.856595Z"
    }
   },
   "outputs": [
    {
     "name": "stdout",
     "output_type": "stream",
     "text": [
      "c\n"
     ]
    }
   ],
   "source": [
    "# test 6: 下列代码的执行结果\n",
    "\"\"\"\n",
    "比较运算符优先级大于逻辑运算符，当 a > 'b'，即 'a' > 'b' 为 Fasle 时（'a' 的 ASCII 码比 ‘b’ 小），返回值为 'c'，\n",
    "\n",
    "\"\"\"\n",
    "a = 'a'\n",
    "print(a > 'b' or 'c')\n"
   ]
  },
  {
   "cell_type": "code",
   "execution_count": null,
   "metadata": {},
   "outputs": [],
   "source": [
    "# test 7: Python中函数是对象，描述正确的是? \n",
    "\"\"\"\n",
    "函数可以赋值给一个变量\n",
    "函数可以作为元素添加到集合对象中\n",
    "函数可以作为参数值传递给其它函数\n",
    "函数可以当做函数的返回值\n",
    "\"\"\""
   ]
  },
  {
   "cell_type": "code",
   "execution_count": 7,
   "metadata": {
    "ExecuteTime": {
     "end_time": "2019-05-02T04:42:44.543101Z",
     "start_time": "2019-05-02T04:42:44.523560Z"
    }
   },
   "outputs": [
    {
     "name": "stdout",
     "output_type": "stream",
     "text": [
      "[1, 2, 3]\n",
      "[1, 2, 3]\n"
     ]
    }
   ],
   "source": [
    "# test 8: \n",
    "foo = [1,2]\n",
    "foo1 = foo\n",
    "foo.append(3)\n",
    "print(foo)\n",
    "print(foo1)"
   ]
  },
  {
   "cell_type": "code",
   "execution_count": null,
   "metadata": {},
   "outputs": [],
   "source": [
    "# test 9:Python中单下划线_foo与双下划线__foo与__foo__的成员，下列说法正确的是？\n",
    "\"\"\"\n",
    "_foo 不能直接用于’from module import *’\n",
    "__foo解析器用_classname__foo来代替这个名字，以区别和其他类相同的命名\n",
    "__foo__代表python里特殊方法专用的标识\n",
    "\n",
    "\n",
    "python中主要存在四种命名方式：\n",
    "1、object #公用方法\n",
    "2、_object #半保护\n",
    "    #被看作是“protect”，意思是只有类对象和子类对象自己能访问到这些变量，\n",
    "    在模块或类外不可以使用，不能用’from module import *’导入。\n",
    "    #__object 是为了避免与子类的方法名称冲突， 对于该标识符描述的方法，父\n",
    "    类的方法不能轻易地被子类的方法覆盖，他们的名字实际上是\n",
    "    _classname__methodname。\n",
    "3、__object #全私有，全保护\n",
    "    #私有成员“private”，意思是只有类对象自己能访问，连子类对象也不能访\n",
    "    问到这个数据，不能用’from module import *’导入。\n",
    "4、__object__ #内建方法，用户不要这样定义\n",
    "\"\"\"\n"
   ]
  },
  {
   "cell_type": "code",
   "execution_count": 10,
   "metadata": {
    "ExecuteTime": {
     "end_time": "2019-05-02T05:29:52.377532Z",
     "start_time": "2019-05-02T05:29:52.339705Z"
    }
   },
   "outputs": [
    {
     "name": "stdout",
     "output_type": "stream",
     "text": [
      "1 2\n"
     ]
    }
   ],
   "source": [
    "# test 10: python 三元表达式\n",
    "# a_expressions if condition else b_expression\n",
    "a = 1\n",
    "b = 2\n",
    "result1 = a if a < b else b\n",
    "result2 = a if a > b else b\n",
    "print(result1, result2)"
   ]
  },
  {
   "cell_type": "code",
   "execution_count": 15,
   "metadata": {
    "ExecuteTime": {
     "end_time": "2019-05-02T05:37:15.763433Z",
     "start_time": "2019-05-02T05:37:15.752111Z"
    }
   },
   "outputs": [
    {
     "name": "stdout",
     "output_type": "stream",
     "text": [
      "2\n",
      "2\n"
     ]
    }
   ],
   "source": [
    "# test 11: Python的变量作用域(即LEGB规则)\n",
    "x = 1\n",
    "def change(a):\n",
    "    global x  # 用 global 声明变量 x，使其成为全局变量\n",
    "    x += 1\n",
    "    print(x)\n",
    "change(x)\n",
    "\n",
    "# 如果是对于change()函数内访问x而不去修改它，这样的操作是合法的，\n",
    "x = 1\n",
    "def change(a):\n",
    "    # 这里我们并没有修改x\n",
    "    print(x+a)\n",
    "change(x)"
   ]
  },
  {
   "cell_type": "markdown",
   "metadata": {},
   "source": [
    "#### test 12 : Python语言中有关负数的概念：\n",
    "- 1、虚数不能单独存在，它们总是和一个值为0.0的实数部分一起构成一个复数\n",
    "\n",
    "- 2、复数由实数部分和虚数部分构成\n",
    "\n",
    "- 3、表示虚数的语法：real+imagej\n",
    "\n",
    "- 4、实数部分和虚数部分都是浮点数\n",
    "\n",
    "- 5、虚数部分必须有后缀j或J\n",
    "\n",
    "复数的内建属性：\n",
    "- 复数对象拥有数据属性，分别为该复数的实部和虚部。\n",
    "- 复数还拥有conjugate方法，调用它可以返回该复数的共轭复数对象。\n",
    "- 复数属性：real(复数的实部)、imag(复数的虚部)、conjugate()（返回复数的共轭复数）\n"
   ]
  },
  {
   "cell_type": "markdown",
   "metadata": {},
   "source": [
    "#### test 13:\n",
    "python my.py v1 v2 命令运行脚本，通过 from sys import argv如何获得v2的参数值? \n",
    "\n",
    "argv[2]\n",
    "\n",
    "sys.argv是传递给python脚本的命令行参数【字符串】列表\n",
    "\n",
    "argv[0]为该脚本自身路径，其余为命令行参数\n",
    "\n",
    "- argv[0] [path] /my.py\n",
    "- argv[1] v1\n",
    "- argv[2] v2"
   ]
  },
  {
   "cell_type": "markdown",
   "metadata": {},
   "source": [
    "#### test 14:\n",
    "有一段python的编码程序如下：urllib.quote(line.decode(\"gbk\").encode(\"utf-16\")),请问经过该编码的字符串的解码顺序是（ ）\n",
    "\n",
    "- 字符串编译的过程：gbk==>unicode==>utf16==>url解码\n",
    "- 字符串解码顺序为：url解码==>utf16==>unicode==>gbk"
   ]
  },
  {
   "cell_type": "markdown",
   "metadata": {
    "ExecuteTime": {
     "end_time": "2019-05-02T08:56:35.475206Z",
     "start_time": "2019-05-02T08:56:35.457891Z"
    }
   },
   "source": [
    "#### test 15\n",
    "所有标准对象均可以用于布尔测试，下列对象的布尔值是False:\n",
    "- None\n",
    "- False\n",
    "- 所有值为零的数：\n",
    "    - 0（整型)\n",
    "    - 0.0（浮点型) \n",
    "    - 0L（长整型）\n",
    "    - 0.0+0.0j(复数) \n",
    "    - “”（空字符串）\n",
    "    - [] (空列表) \n",
    "    - （）（空元组）\n",
    "    - {}(空字典)"
   ]
  },
  {
   "cell_type": "code",
   "execution_count": null,
   "metadata": {},
   "outputs": [],
   "source": []
  }
 ],
 "metadata": {
  "kernelspec": {
   "display_name": "python pratice",
   "language": "python",
   "name": "env_name"
  },
  "language_info": {
   "codemirror_mode": {
    "name": "ipython",
    "version": 3
   },
   "file_extension": ".py",
   "mimetype": "text/x-python",
   "name": "python",
   "nbconvert_exporter": "python",
   "pygments_lexer": "ipython3",
   "version": "3.7.1"
  },
  "toc": {
   "base_numbering": 1,
   "nav_menu": {},
   "number_sections": true,
   "sideBar": true,
   "skip_h1_title": false,
   "title_cell": "Table of Contents",
   "title_sidebar": "Contents",
   "toc_cell": false,
   "toc_position": {},
   "toc_section_display": true,
   "toc_window_display": false
  }
 },
 "nbformat": 4,
 "nbformat_minor": 2
}
