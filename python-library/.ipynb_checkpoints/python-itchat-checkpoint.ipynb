{
 "cells": [
  {
   "cell_type": "markdown",
   "metadata": {},
   "source": [
    "#### 微信机器人\n",
    "##### [项目官方链接](https://github.com/littlecodersh/ItChat)\n",
    "##### [文档](https://itchat.readthedocs.io/zh/latest/)"
   ]
  },
  {
   "cell_type": "code",
   "execution_count": 6,
   "metadata": {
    "ExecuteTime": {
     "end_time": "2019-05-18T08:05:20.803652Z",
     "start_time": "2019-05-18T08:04:11.634630Z"
    }
   },
   "outputs": [
    {
     "name": "stderr",
     "output_type": "stream",
     "text": [
      "Getting uuid of QR code.\n",
      "Downloading QR code.\n",
      "Please scan the QR code to log in.\n",
      "Please press confirm on your phone.\n",
      "Loading the contact, this may take a little while.\n"
     ]
    },
    {
     "name": "stdout",
     "output_type": "stream",
     "text": [
      "Login success!\n"
     ]
    },
    {
     "name": "stderr",
     "output_type": "stream",
     "text": [
      "Start auto replying.\n"
     ]
    },
    {
     "name": "stdout",
     "output_type": "stream",
     "text": [
      "Exit success!\n"
     ]
    }
   ],
   "source": [
    "import itchat \n",
    "\n",
    "@itchat.msg_register(itchat.content.TEXT)\n",
    "def text_reply(msg):\n",
    "    return msg.text\n",
    "\n",
    "\n",
    "def loginCall():\n",
    "    print('Login success!')\n",
    "    \n",
    "    \n",
    "def exitCall():\n",
    "    print('Exit success!')\n",
    "\n",
    "\n",
    "itchat.auto_login(enableCmdQR= False, hotReload = False,\n",
    "                 loginCallback=loginCall,\n",
    "                 exitCallback= exitCall)\n",
    "itchat.send('Hello filehelper', toUserName='filehelper')\n",
    "itchat.run()"
   ]
  },
  {
   "cell_type": "code",
   "execution_count": 11,
   "metadata": {
    "ExecuteTime": {
     "end_time": "2019-05-18T08:40:29.996055Z",
     "start_time": "2019-05-18T08:38:38.933865Z"
    }
   },
   "outputs": [
    {
     "name": "stderr",
     "output_type": "stream",
     "text": [
      "Start auto replying.\n",
      "LOG OUT!\n"
     ]
    }
   ],
   "source": [
    "# 通过WeChat选择音乐 \n",
    "\n",
    "import os\n",
    "import itchat\n",
    "from NetEaseMusicApi import interact_select_song, save_song\n",
    "from itchat.content import *\n",
    "# 第三方包通过该命令安装：pip install itchat, NetEaseMusicApi\n",
    "\n",
    "HELP_MSG = u'''\\\n",
    "欢迎使用微信网易云音乐\n",
    "帮助： 显示帮助\n",
    "关闭： 关闭歌曲\n",
    "歌名： 按照引导播放音乐\\\n",
    "'''\n",
    "\n",
    "with open('stop.mp3', 'w') as f: pass\n",
    "def close_music():\n",
    "    fd = open('stop.mp3','r')\n",
    "    fd.close()\n",
    "\n",
    "\n",
    "# loginCallBack\n",
    "def loginCall():\n",
    "    login_msg = 'Login Success!'\n",
    "    print(login_msg)\n",
    "    \n",
    "# exitCallBack\n",
    "def exitCall():\n",
    "    exit_msg = 'Exit Success!'\n",
    "    print(exit_msg)\n",
    "    \n",
    "@itchat.msg_register(TEXT)\n",
    "def music_player(msg):\n",
    "    if msg['ToUserName'] != 'filehelper': return\n",
    "    if msg['Text'] == u'音乐已关闭': pass\n",
    "    if msg['Text'] == u'关闭':\n",
    "        close_music()\n",
    "        itchat.send(u'音乐已关闭', 'filehelper')\n",
    "    if msg['Text'] == u'帮助':\n",
    "        itchat.send(HELP_MSG, 'filehelper')\n",
    "    else:\n",
    "        itchat.send(interact_select_song(msg['Text']), 'filehelper')\n",
    "\n",
    "itchat.auto_login(enableCmdQR= True, hotReload= True,\n",
    "                 loginCallback= loginCall,\n",
    "                 exitCallback= exitCall)\n",
    "itchat.send(HELP_MSG, 'filehelper') \n",
    "itchat.run()"
   ]
  }
 ],
 "metadata": {
  "kernelspec": {
   "display_name": "python pratice",
   "language": "python",
   "name": "env_name"
  },
  "language_info": {
   "codemirror_mode": {
    "name": "ipython",
    "version": 3
   },
   "file_extension": ".py",
   "mimetype": "text/x-python",
   "name": "python",
   "nbconvert_exporter": "python",
   "pygments_lexer": "ipython3",
   "version": "3.7.1"
  },
  "toc": {
   "base_numbering": 1,
   "nav_menu": {},
   "number_sections": true,
   "sideBar": true,
   "skip_h1_title": false,
   "title_cell": "Table of Contents",
   "title_sidebar": "Contents",
   "toc_cell": false,
   "toc_position": {},
   "toc_section_display": true,
   "toc_window_display": false
  }
 },
 "nbformat": 4,
 "nbformat_minor": 2
}
