{
 "cells": [
  {
   "cell_type": "markdown",
   "metadata": {
    "ExecuteTime": {
     "end_time": "2019-04-29T10:08:01.008875Z",
     "start_time": "2019-04-29T10:07:59.341171Z"
    }
   },
   "source": [
    "#### memory-profiler 内存分析\n",
    "- <a href = \"https://pypi.org/project/memory-profiler/\" target = \"_blank\">Memory Profiler</a> 介绍\n",
    "- 安装\n",
    "- 使用\n",
    "    - 在python脚本中使用修饰器\n",
    "    - Ipython环境中使用"
   ]
  },
  {
   "cell_type": "markdown",
   "metadata": {
    "ExecuteTime": {
     "end_time": "2019-04-29T10:07:27.531085Z",
     "start_time": "2019-04-29T10:07:26.120258Z"
    }
   },
   "source": [
    "#### Memory Profiler 介绍\n",
    "This is a python module for monitoring memory consumption of a process as well as line-by-line analysis of memory consumption for python programs. It is a pure python module which depends on the <a href = \"https://pypi.org/project/psutil/\" target = \"_blank\">psutil</a> module.\n"
   ]
  },
  {
   "cell_type": "markdown",
   "metadata": {},
   "source": [
    "#### pip install memory-profiler"
   ]
  },
  {
   "cell_type": "code",
   "execution_count": 13,
   "metadata": {
    "ExecuteTime": {
     "end_time": "2019-04-29T10:30:46.006617Z",
     "start_time": "2019-04-29T10:30:40.144306Z"
    }
   },
   "outputs": [
    {
     "name": "stdout",
     "output_type": "stream",
     "text": [
      "Collecting memory-profiler\n",
      "\u001b[?25l  Downloading https://files.pythonhosted.org/packages/9f/fe/1fca7273dd111108f204a686b12a12b6422d405fe4614087aa7d5a66ea87/memory_profiler-0.55.0.tar.gz (40kB)\n",
      "\u001b[K    100% |████████████████████████████████| 40kB 535kB/s ta 0:00:01\n",
      "\u001b[?25hRequirement already satisfied: psutil in /Users/loulan/anaconda3/lib/python3.7/site-packages (from memory-profiler) (5.4.8)\n",
      "Building wheels for collected packages: memory-profiler\n",
      "  Running setup.py bdist_wheel for memory-profiler ... \u001b[?25ldone\n",
      "\u001b[?25h  Stored in directory: /Users/loulan/Library/Caches/pip/wheels/f0/ff/63/fdbff3f1e1b76ad4eae491dd5b190902906b093e93eb86dd5a\n",
      "Successfully built memory-profiler\n",
      "Installing collected packages: memory-profiler\n",
      "Successfully installed memory-profiler-0.55.0\n"
     ]
    }
   ],
   "source": [
    "## 安装\n",
    "!pip install memory-profiler"
   ]
  },
  {
   "cell_type": "markdown",
   "metadata": {},
   "source": [
    "#### 在Python脚本中使用修饰器\n",
    "函数修饰器可利用，如下所示"
   ]
  },
  {
   "cell_type": "code",
   "execution_count": 15,
   "metadata": {
    "ExecuteTime": {
     "end_time": "2019-04-29T10:35:49.885334Z",
     "start_time": "2019-04-29T10:35:49.880353Z"
    }
   },
   "outputs": [],
   "source": [
    "from memory_profiler import profile\n",
    "\n",
    "@profile\n",
    "def my_func():\n",
    "    a = [1] * (10 ** 6)\n",
    "    b = [2] * (2 * 10 ** 7)\n",
    "    del b\n",
    "    return a"
   ]
  },
  {
   "cell_type": "markdown",
   "metadata": {
    "ExecuteTime": {
     "end_time": "2019-04-29T10:50:13.734362Z",
     "start_time": "2019-04-29T10:50:13.724234Z"
    }
   },
   "source": [
    "#### Ipython  integration\n",
    "After installing the module, if you use IPython, you can use the %mprun, %%mprun, %memit and %%memit magics."
   ]
  },
  {
   "cell_type": "code",
   "execution_count": null,
   "metadata": {},
   "outputs": [],
   "source": []
  }
 ],
 "metadata": {
  "kernelspec": {
   "display_name": "python pratice",
   "language": "python",
   "name": "env_name"
  },
  "language_info": {
   "codemirror_mode": {
    "name": "ipython",
    "version": 3
   },
   "file_extension": ".py",
   "mimetype": "text/x-python",
   "name": "python",
   "nbconvert_exporter": "python",
   "pygments_lexer": "ipython3",
   "version": "3.7.1"
  },
  "toc": {
   "base_numbering": 1,
   "nav_menu": {},
   "number_sections": true,
   "sideBar": true,
   "skip_h1_title": false,
   "title_cell": "Table of Contents",
   "title_sidebar": "Contents",
   "toc_cell": false,
   "toc_position": {},
   "toc_section_display": true,
   "toc_window_display": false
  }
 },
 "nbformat": 4,
 "nbformat_minor": 2
}
