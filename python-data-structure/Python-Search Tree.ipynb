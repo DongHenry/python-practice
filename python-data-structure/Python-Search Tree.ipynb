{
 "cells": [
  {
   "cell_type": "markdown",
   "metadata": {},
   "source": [
    "#### 二叉搜索树：左子树的所有节点小于根节点，右子树的所有节点大于根节点\n",
    "\n",
    "它或者是一棵空树，或者是具有下列性质的二叉树：\n",
    "- 若它的左子树不空，则左子树上所有结点的值均小于它的根结点的值； \n",
    "- 若它的右子树不空，则右子树上所有结点的值均大于它的根结点的值； \n",
    "- 它的左、右子树也分别为二叉排序树。\n",
    "\n",
    "A Binary Search Tree (BST) is a tree in which all the nodes follow the below-mentioned properties \n",
    "-  The left sub-tree of a node has a key less than or equal to its parent node's key. \n",
    "- The right sub-tree of a node has a key greater than to its parent node's key. \n",
    "\n",
    "left_subtree(keys) <= node(key) < right_subtree(keys)"
   ]
  },
  {
   "cell_type": "markdown",
   "metadata": {},
   "source": [
    "#### Search for a value in a B-tree"
   ]
  },
  {
   "cell_type": "code",
   "execution_count": 18,
   "metadata": {
    "ExecuteTime": {
     "end_time": "2019-06-12T12:48:48.278313Z",
     "start_time": "2019-06-12T12:48:48.250030Z"
    }
   },
   "outputs": [
    {
     "name": "stdout",
     "output_type": "stream",
     "text": [
      "2\n",
      "4\n",
      "10\n",
      "12\n",
      "4 is found\n",
      "11 is not found\n",
      "19 is not found\n"
     ]
    }
   ],
   "source": [
    "class Node:\n",
    "    def __init__(self, data):\n",
    "        self.left = None\n",
    "        self.right = None\n",
    "        self.data = data\n",
    "        \n",
    "    # insert a node in the b-tree\n",
    "    def insert(self, data):\n",
    "        if self.data:\n",
    "            if data < self.data:\n",
    "                if self.left is None:\n",
    "                    self.left = Node(data)\n",
    "                else:\n",
    "                    self.left.insert(data)\n",
    "            elif data > self.data:\n",
    "                if self.right is None:\n",
    "                    self.right = Node(data)\n",
    "                else:\n",
    "                    self.right.insert(data)\n",
    "        else:\n",
    "            self.data = data\n",
    "    \n",
    "    # search a node in the b-tree\n",
    "    def find_val(self, value):\n",
    "        if value < self.data:\n",
    "            if self.left is None:\n",
    "                return f\"{value} is not found\"\n",
    "            return self.left.find_val(value)\n",
    "        elif value > self.data:\n",
    "            if self.right is None:\n",
    "                return f\"{value} is not found\"\n",
    "            return self.right.find_val(value)\n",
    "        else:\n",
    "            return f\"{str(value)} is found\"\n",
    "    \n",
    "    # print the tree\n",
    "    def print_tree(self):\n",
    "        if self.left:\n",
    "            self.left.print_tree()\n",
    "        print(self.data)\n",
    "        if self.right:\n",
    "            self.right.print_tree()\n",
    "    \n",
    "tree = Node(12)\n",
    "tree.insert(10)\n",
    "tree.insert(2)\n",
    "tree.insert(4)\n",
    "tree.print_tree()\n",
    "print(tree.find_val(4))\n",
    "print(tree.find_val(11))\n",
    "print(tree.find_val(19))"
   ]
  },
  {
   "cell_type": "code",
   "execution_count": null,
   "metadata": {},
   "outputs": [],
   "source": []
  }
 ],
 "metadata": {
  "kernelspec": {
   "display_name": "python pratice",
   "language": "python",
   "name": "env_name"
  },
  "language_info": {
   "codemirror_mode": {
    "name": "ipython",
    "version": 3
   },
   "file_extension": ".py",
   "mimetype": "text/x-python",
   "name": "python",
   "nbconvert_exporter": "python",
   "pygments_lexer": "ipython3",
   "version": "3.7.1"
  },
  "toc": {
   "base_numbering": 1,
   "nav_menu": {},
   "number_sections": true,
   "sideBar": true,
   "skip_h1_title": false,
   "title_cell": "Table of Contents",
   "title_sidebar": "Contents",
   "toc_cell": false,
   "toc_position": {},
   "toc_section_display": true,
   "toc_window_display": false
  }
 },
 "nbformat": 4,
 "nbformat_minor": 2
}
