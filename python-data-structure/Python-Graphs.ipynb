{
 "cells": [
  {
   "cell_type": "markdown",
   "metadata": {},
   "source": [
    "#### What is Graph\n",
    "A graph is a pictorial representation of a set of objects where some pairs of objects are connected by links. \n",
    "\n",
    "The interconnected objects are represented by points termed as vertices, and the links that connect the vertices are called edges. \n",
    "\n",
    "Following are the basic operations we perform on graphs.\n",
    "- Display graph vertices\n",
    "- Display graph edges\n",
    "- Add a vertex\n",
    "- Add a edge\n",
    "- Creating a graph\n",
    "\n",
    "A graph can be presented using the python dictionary data types.\n",
    "We represent the vertices as the keys of the dictionary and the edges as the values of the dictionary\n",
    "\n",
    "Take a look at the following graph -\n",
    "    ![](./images/graph.png)\n",
    "   "
   ]
  },
  {
   "cell_type": "markdown",
   "metadata": {},
   "source": [
    "In the above graph\n",
    "\n",
    "G = (V, E)\n",
    "\n",
    "V = {a, b, c, d, e}\n",
    "\n",
    "E = {(a,b), (a,c), (b,d), (c,d), (d,e)}"
   ]
  },
  {
   "cell_type": "markdown",
   "metadata": {},
   "source": [
    "##### Create a graph"
   ]
  },
  {
   "cell_type": "code",
   "execution_count": 1,
   "metadata": {
    "ExecuteTime": {
     "end_time": "2019-06-23T10:04:20.278960Z",
     "start_time": "2019-06-23T10:04:20.249922Z"
    }
   },
   "outputs": [
    {
     "data": {
      "text/plain": [
       "{'a': ['b', 'c'], 'b': ['a', 'd'], 'c': ['a', 'd'], 'd': ['e'], 'e': ['d']}"
      ]
     },
     "execution_count": 1,
     "metadata": {},
     "output_type": "execute_result"
    }
   ],
   "source": [
    "# Create a graph with the python dictionary data types\n",
    "# vertex as the key\n",
    "# edge as the value\n",
    "graph = {\n",
    "    \"a\": [\"b\", \"c\"],\n",
    "    \"b\": [\"a\", \"d\"],\n",
    "    \"c\": [\"a\", \"d\"],\n",
    "    \"d\": [\"e\"],\n",
    "    \"e\": [\"d\"]\n",
    "    \n",
    "}\n",
    "graph"
   ]
  },
  {
   "cell_type": "markdown",
   "metadata": {},
   "source": [
    "##### Display graph vertices"
   ]
  },
  {
   "cell_type": "code",
   "execution_count": 2,
   "metadata": {
    "ExecuteTime": {
     "end_time": "2019-06-23T10:10:50.360265Z",
     "start_time": "2019-06-23T10:10:50.346649Z"
    }
   },
   "outputs": [
    {
     "name": "stdout",
     "output_type": "stream",
     "text": [
      "['a', 'b', 'c', 'd', 'e']\n"
     ]
    }
   ],
   "source": [
    "class Graph:\n",
    "    def __init__(self, g_dict=None):\n",
    "        if g_dict is None:\n",
    "            g_dict = {}\n",
    "        self.g_dict = g_dict\n",
    "        \n",
    "    \n",
    "    def get_vertex(self):\n",
    "        return list(self.g_dict.keys())\n",
    "    \n",
    "graph = {\n",
    "    \"a\": [\"b\", \"c\"],\n",
    "    \"b\": [\"a\", \"d\"],\n",
    "    \"c\": [\"a\", \"d\"],\n",
    "    \"d\": [\"e\"],\n",
    "    \"e\": [\"d\"]\n",
    "    \n",
    "}\n",
    "g = Graph(graph)\n",
    "print(g.get_vertex())"
   ]
  },
  {
   "cell_type": "markdown",
   "metadata": {},
   "source": [
    "##### Display graph edges"
   ]
  },
  {
   "cell_type": "code",
   "execution_count": 5,
   "metadata": {
    "ExecuteTime": {
     "end_time": "2019-06-23T10:19:58.126879Z",
     "start_time": "2019-06-23T10:19:58.111446Z"
    }
   },
   "outputs": [
    {
     "data": {
      "text/plain": [
       "[{'a', 'b'}, {'a', 'c'}, {'b', 'd'}, {'c', 'd'}, {'d', 'e'}]"
      ]
     },
     "execution_count": 5,
     "metadata": {},
     "output_type": "execute_result"
    }
   ],
   "source": [
    "class Graph:\n",
    "    def __init__(self, g_dict = None):\n",
    "        if g_dict is None:\n",
    "            g_dict = {}\n",
    "        self.g_dict = g_dict\n",
    "        \n",
    "    def get_edges(self):\n",
    "        edges_list = []\n",
    "        for k in self.g_dict:\n",
    "            for v in self.g_dict[k]:\n",
    "                if {k, v} not in edges_list:\n",
    "                    edges_list.append({k, v})\n",
    "        return edges_list\n",
    "\n",
    "graph = {\n",
    "    \"a\": [\"b\", \"c\"],\n",
    "    \"b\": [\"a\", \"d\"],\n",
    "    \"c\": [\"a\", \"d\"],\n",
    "    \"d\": [\"e\"],\n",
    "    \"e\": [\"d\"]\n",
    "    \n",
    "}\n",
    "g = Graph(graph)\n",
    "g.get_edges()"
   ]
  },
  {
   "cell_type": "markdown",
   "metadata": {},
   "source": [
    "##### Add a vertex"
   ]
  },
  {
   "cell_type": "code",
   "execution_count": 6,
   "metadata": {
    "ExecuteTime": {
     "end_time": "2019-06-23T10:24:04.432119Z",
     "start_time": "2019-06-23T10:24:04.422012Z"
    }
   },
   "outputs": [
    {
     "data": {
      "text/plain": [
       "['a', 'b', 'c', 'd', 'e', 'f', 'g']"
      ]
     },
     "execution_count": 6,
     "metadata": {},
     "output_type": "execute_result"
    }
   ],
   "source": [
    "class Graph:\n",
    "    def __init__(self, g_dict = None):\n",
    "        if g_dict is None:\n",
    "            g_dict = {}\n",
    "        self.g_dict = g_dict\n",
    "        \n",
    "    \n",
    "    def get_vertex(self):\n",
    "        return list(self.g_dict.keys())\n",
    "    \n",
    "    def add_vertex(self, vertex):\n",
    "        if vertex not in self.g_dict:\n",
    "            self.g_dict[vertex] = []\n",
    "            \n",
    "graph = {\n",
    "    \"a\": [\"b\", \"c\"],\n",
    "    \"b\": [\"a\", \"d\"],\n",
    "    \"c\": [\"a\", \"d\"],\n",
    "    \"d\": [\"e\"],\n",
    "    \"e\": [\"d\"]\n",
    "    \n",
    "}\n",
    "g = Graph(graph)\n",
    "g.add_vertex(\"f\")\n",
    "g.add_vertex(\"g\")\n",
    "g.get_vertex()"
   ]
  },
  {
   "cell_type": "markdown",
   "metadata": {},
   "source": [
    "#### Add an edge"
   ]
  },
  {
   "cell_type": "code",
   "execution_count": 12,
   "metadata": {
    "ExecuteTime": {
     "end_time": "2019-06-23T10:38:12.343896Z",
     "start_time": "2019-06-23T10:38:12.328617Z"
    }
   },
   "outputs": [
    {
     "name": "stdout",
     "output_type": "stream",
     "text": [
      "[{'b', 'a'}, {'a', 'c'}, {'b', 'd'}, {'d', 'c'}, {'e', 'd'}]\n",
      "[{'b', 'a'}, {'a', 'c'}, {'b', 'd'}, {'d', 'c'}, {'e', 'd'}, {'e', 'a'}]\n"
     ]
    }
   ],
   "source": [
    "class Graph:\n",
    "    def __init__(self, g_dict = None):\n",
    "        if g_dict is None:\n",
    "            self.g_dict = {}\n",
    "        self.g_dict = g_dict\n",
    "        \n",
    "    def get_edge(self):\n",
    "        edge_list = []\n",
    "        for k in self.g_dict:\n",
    "            for v in self.g_dict[k]:\n",
    "                if {k, v} not in edge_list:\n",
    "                    edge_list.append({k, v})\n",
    "                    \n",
    "        return edge_list\n",
    "    \n",
    "    def add_edge(self, new_edge):\n",
    "        new_edge = set(new_edge)\n",
    "        edge1, edge2= tuple(new_edge)\n",
    "        if edge1 in self.g_dict:\n",
    "            self.g_dict[edge1].append(edge2)\n",
    "        else:\n",
    "            self.g_dict[edge1] = [edge2]\n",
    "    \n",
    "    \n",
    "graph = {\n",
    "    \"a\": [\"b\", \"c\"],\n",
    "    \"b\": [\"a\", \"d\"],\n",
    "    \"c\": [\"a\", \"d\"],\n",
    "    \"d\": [\"e\"],\n",
    "    \"e\": [\"d\"]\n",
    "    \n",
    "}\n",
    "g = Graph(graph)\n",
    "print(g.get_edge())\n",
    "g.add_edge({\"a\", \"e\"})\n",
    "g.add_edge({\"a\", \"c\"})\n",
    "print(g.get_edge())"
   ]
  }
 ],
 "metadata": {
  "kernelspec": {
   "display_name": "python pratice",
   "language": "python",
   "name": "env_name"
  },
  "language_info": {
   "codemirror_mode": {
    "name": "ipython",
    "version": 3
   },
   "file_extension": ".py",
   "mimetype": "text/x-python",
   "name": "python",
   "nbconvert_exporter": "python",
   "pygments_lexer": "ipython3",
   "version": "3.7.1"
  },
  "toc": {
   "base_numbering": 1,
   "nav_menu": {},
   "number_sections": true,
   "sideBar": true,
   "skip_h1_title": false,
   "title_cell": "Table of Contents",
   "title_sidebar": "Contents",
   "toc_cell": false,
   "toc_position": {},
   "toc_section_display": true,
   "toc_window_display": false
  }
 },
 "nbformat": 4,
 "nbformat_minor": 2
}
