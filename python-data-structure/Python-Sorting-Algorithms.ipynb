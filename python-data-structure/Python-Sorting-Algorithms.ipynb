{
 "cells": [
  {
   "cell_type": "markdown",
   "metadata": {},
   "source": [
    "#### Five such implementations of sorting in Python"
   ]
  },
  {
   "cell_type": "markdown",
   "metadata": {},
   "source": [
    "#### Bubble Sort"
   ]
  },
  {
   "cell_type": "code",
   "execution_count": 15,
   "metadata": {
    "ExecuteTime": {
     "end_time": "2019-06-27T10:42:50.807855Z",
     "start_time": "2019-06-27T10:42:50.778538Z"
    }
   },
   "outputs": [
    {
     "data": {
      "text/plain": [
       "[2, 11, 19, 27, 30, 31, 45, 121]"
      ]
     },
     "execution_count": 15,
     "metadata": {},
     "output_type": "execute_result"
    }
   ],
   "source": [
    "def bubble_sort(lists):\n",
    "    for iter_num in range(len(lists)-1, 0, -1):\n",
    "        for idx in range(iter_num):\n",
    "            if lists[idx] > lists[idx+1]:\n",
    "                temp = lists[idx]\n",
    "                lists[idx] = lists[idx+1]\n",
    "                lists[idx+1] = temp\n",
    "                \n",
    "    return lists\n",
    "lists = [19,2,31,45,30,11,121,27]\n",
    "bubble_sort(lists)"
   ]
  },
  {
   "cell_type": "markdown",
   "metadata": {},
   "source": [
    "#### Merge Sort"
   ]
  },
  {
   "cell_type": "code",
   "execution_count": 12,
   "metadata": {
    "ExecuteTime": {
     "end_time": "2019-06-27T10:41:17.265946Z",
     "start_time": "2019-06-27T10:41:17.228868Z"
    }
   },
   "outputs": [
    {
     "data": {
      "text/plain": [
       "[2, 11, 19, 27, 30, 31, 45, 121]"
      ]
     },
     "execution_count": 12,
     "metadata": {},
     "output_type": "execute_result"
    }
   ],
   "source": [
    "def merge_sort(lists):\n",
    "    if len(lists) <= 1:\n",
    "        return lists\n",
    "    mid = len(lists) // 2\n",
    "    left_list = lists[:mid]\n",
    "    right_list = lists[mid:]\n",
    "    \n",
    "    left_list = merge_sort(left_list)\n",
    "    right_list = merge_sort(right_list)\n",
    "    return list(merge(left_list, right_list))\n",
    "\n",
    "def merge(left, right):\n",
    "    res = []\n",
    "    while len(left) != 0 and len(right) != 0:\n",
    "        if left[0] < right[0]:\n",
    "            res.append(left[0])\n",
    "            left.remove(left[0])\n",
    "        else:\n",
    "            res.append(right[0])\n",
    "            right.remove(right[0])\n",
    "    if len(left) == 0:\n",
    "        res = res + right\n",
    "    else:\n",
    "        res = res + left\n",
    "    return res\n",
    "\n",
    "lists = [19,2,31,45,30,11,121,27]\n",
    "merge_sort(lists)"
   ]
  },
  {
   "cell_type": "markdown",
   "metadata": {},
   "source": [
    "#### Insertion Sort"
   ]
  },
  {
   "cell_type": "code",
   "execution_count": 13,
   "metadata": {
    "ExecuteTime": {
     "end_time": "2019-06-27T10:41:18.992991Z",
     "start_time": "2019-06-27T10:41:18.966936Z"
    }
   },
   "outputs": [
    {
     "data": {
      "text/plain": [
       "[2, 11, 19, 27, 30, 31, 45, 121]"
      ]
     },
     "execution_count": 13,
     "metadata": {},
     "output_type": "execute_result"
    }
   ],
   "source": [
    "def insertion_sort(lists):\n",
    "    for i in range(1, len(lists)):\n",
    "        j = i - 1\n",
    "        next_element = lists[i]\n",
    "        while(lists[j] > next_element) and (j>=0):\n",
    "            lists[j+1] = lists[j]\n",
    "            j -= 1\n",
    "        lists[j+1] = next_element\n",
    "        \n",
    "    return lists\n",
    "\n",
    "lists = [19,2,31,45,30,11,121,27]\n",
    "insertion_sort(lists)"
   ]
  },
  {
   "cell_type": "markdown",
   "metadata": {},
   "source": [
    "#### Shell Sort"
   ]
  },
  {
   "cell_type": "code",
   "execution_count": 14,
   "metadata": {
    "ExecuteTime": {
     "end_time": "2019-06-27T10:41:20.094644Z",
     "start_time": "2019-06-27T10:41:20.070965Z"
    }
   },
   "outputs": [
    {
     "data": {
      "text/plain": [
       "[2, 11, 19, 27, 30, 31, 45, 121]"
      ]
     },
     "execution_count": 14,
     "metadata": {},
     "output_type": "execute_result"
    }
   ],
   "source": [
    "def shell_sort(lists):\n",
    "    gap = len(lists) //2\n",
    "    while gap > 0:\n",
    "        for i in range(gap, len(lists)):\n",
    "            temp = lists[i]\n",
    "            j = i\n",
    "            \n",
    "            while j>=gap and lists[j-gap] > temp:\n",
    "                lists[j] = lists[j-gap]\n",
    "                j = j-gap\n",
    "            lists[j] = temp\n",
    "        gap = gap//2\n",
    "    return lists\n",
    "\n",
    "lists = [19,2,31,45,30,11,121,27]\n",
    "shell_sort(lists)"
   ]
  },
  {
   "cell_type": "markdown",
   "metadata": {},
   "source": [
    "#### Selection Sort"
   ]
  },
  {
   "cell_type": "code",
   "execution_count": 6,
   "metadata": {
    "ExecuteTime": {
     "end_time": "2019-06-27T10:13:09.126014Z",
     "start_time": "2019-06-27T10:13:09.116182Z"
    }
   },
   "outputs": [
    {
     "data": {
      "text/plain": [
       "[2, 11, 19, 27, 30, 31, 45, 121]"
      ]
     },
     "execution_count": 6,
     "metadata": {},
     "output_type": "execute_result"
    }
   ],
   "source": [
    "def selection_sort(lists):\n",
    "    for idx in range(len(lists)):\n",
    "        min_idx = idx\n",
    "        for j in range(idx+1, len(lists)):\n",
    "            if lists[min_idx]> lists[j]:\n",
    "                min_idx = j\n",
    "                \n",
    "        lists[idx], lists[min_idx] = lists[min_idx], lists[idx]\n",
    "        \n",
    "    return lists\n",
    "        \n",
    "lists = [19,2,31,45,30,11,121,27]\n",
    "selection_sort(lists)"
   ]
  }
 ],
 "metadata": {
  "kernelspec": {
   "display_name": "python pratice",
   "language": "python",
   "name": "env_name"
  },
  "language_info": {
   "codemirror_mode": {
    "name": "ipython",
    "version": 3
   },
   "file_extension": ".py",
   "mimetype": "text/x-python",
   "name": "python",
   "nbconvert_exporter": "python",
   "pygments_lexer": "ipython3",
   "version": "3.7.1"
  },
  "toc": {
   "base_numbering": 1,
   "nav_menu": {},
   "number_sections": true,
   "sideBar": true,
   "skip_h1_title": false,
   "title_cell": "Table of Contents",
   "title_sidebar": "Contents",
   "toc_cell": false,
   "toc_position": {},
   "toc_section_display": true,
   "toc_window_display": false
  }
 },
 "nbformat": 4,
 "nbformat_minor": 2
}
