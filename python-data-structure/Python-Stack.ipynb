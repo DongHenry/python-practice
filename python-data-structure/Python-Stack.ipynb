{
 "cells": [
  {
   "cell_type": "markdown",
   "metadata": {},
   "source": [
    "栈：限定仅在表尾进行插入和删除操作的线性表\n",
    " \n",
    "允许插入和删除的一端称为栈顶（top），另一端称为栈底(bottom),不含任意数据元素的栈称为空栈。\n",
    "\n",
    "栈又称为后进先出（Last In First Out）的线性表，简称LIFO结构。\n",
    "\n",
    "栈的插入操作，叫进栈  PUSH\n",
    "\n",
    "栈的删除操作，叫出栈  POP"
   ]
  },
  {
   "cell_type": "markdown",
   "metadata": {},
   "source": [
    "We declare empty list and use the append() and pop() methods to add and remove the data elements."
   ]
  },
  {
   "cell_type": "code",
   "execution_count": 5,
   "metadata": {
    "ExecuteTime": {
     "end_time": "2019-05-29T12:23:32.869102Z",
     "start_time": "2019-05-29T12:23:32.856397Z"
    }
   },
   "outputs": [
    {
     "name": "stdout",
     "output_type": "stream",
     "text": [
      "Tue\n",
      "Thu\n"
     ]
    }
   ],
   "source": [
    "# PUSH into a Stack\n",
    "\n",
    "class Stack:\n",
    "    def __init__(self):\n",
    "        self.stack = []\n",
    "\n",
    "    # use list append method to add element\n",
    "    def add(self, dataval):\n",
    "        if dataval not in self.stack:\n",
    "            self.stack.append(dataval)\n",
    "            return True\n",
    "        else:\n",
    "            return False\n",
    "\n",
    "    # look at the top of the stack\n",
    "    def peek(self):\n",
    "        return self.stack[-1]\n",
    "    \n",
    "AStack = Stack()\n",
    "AStack.add(\"Mon\")\n",
    "AStack.add(\"Tue\")\n",
    "print(AStack.peek())\n",
    "AStack.add(\"Wed\")\n",
    "AStack.add(\"Thu\")\n",
    "print(AStack.peek())"
   ]
  },
  {
   "cell_type": "code",
   "execution_count": 7,
   "metadata": {
    "ExecuteTime": {
     "end_time": "2019-05-29T12:32:59.148728Z",
     "start_time": "2019-05-29T12:32:59.136405Z"
    }
   },
   "outputs": [
    {
     "name": "stdout",
     "output_type": "stream",
     "text": [
      "The\n",
      "Wed\n"
     ]
    }
   ],
   "source": [
    "# POP FROM A STACK\n",
    "\n",
    "class Stack:\n",
    "    \n",
    "    def __init__(self):\n",
    "        self.stack = []\n",
    "        \n",
    "    def add(self, dataval):\n",
    "        if dataval not in self.stack:\n",
    "            self.stack.append(dataval)\n",
    "            return True\n",
    "        else:\n",
    "            return False\n",
    "    \n",
    "    def remove(self):\n",
    "        if len(self.stack) <= 0:\n",
    "            return \"No element in the Stack\"\n",
    "        else:\n",
    "            return self.stack.pop()\n",
    "        \n",
    "AStack = Stack()\n",
    "AStack.add(\"MON\")\n",
    "AStack.add(\"Tue\")\n",
    "AStack.add(\"Wed\")\n",
    "AStack.add(\"The\")\n",
    "print(AStack.remove())\n",
    "print(AStack.remove())"
   ]
  },
  {
   "cell_type": "code",
   "execution_count": null,
   "metadata": {},
   "outputs": [],
   "source": []
  }
 ],
 "metadata": {
  "kernelspec": {
   "display_name": "python pratice",
   "language": "python",
   "name": "env_name"
  },
  "language_info": {
   "codemirror_mode": {
    "name": "ipython",
    "version": 3
   },
   "file_extension": ".py",
   "mimetype": "text/x-python",
   "name": "python",
   "nbconvert_exporter": "python",
   "pygments_lexer": "ipython3",
   "version": "3.7.1"
  },
  "toc": {
   "base_numbering": 1,
   "nav_menu": {},
   "number_sections": true,
   "sideBar": true,
   "skip_h1_title": false,
   "title_cell": "Table of Contents",
   "title_sidebar": "Contents",
   "toc_cell": false,
   "toc_position": {},
   "toc_section_display": true,
   "toc_window_display": false
  }
 },
 "nbformat": 4,
 "nbformat_minor": 2
}
