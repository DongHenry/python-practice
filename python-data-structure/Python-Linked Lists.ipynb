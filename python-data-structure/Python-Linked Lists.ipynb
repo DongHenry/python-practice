{
 "cells": [
  {
   "cell_type": "markdown",
   "metadata": {},
   "source": [
    "A linked list is a sequence of data elements, which are connected together via links.\n",
    "\n",
    "Single linked lists. In this type of data structure there is only one link between any two data elements. We create such a list and create additional methods to insert, update and remove elements from the list"
   ]
  },
  {
   "cell_type": "markdown",
   "metadata": {},
   "source": [
    "#### Creation of Linked List\n",
    "We create a Node object and create another class to use this node object. We pass the appropriate values through the node object to point to the next data elements"
   ]
  },
  {
   "cell_type": "code",
   "execution_count": 4,
   "metadata": {
    "ExecuteTime": {
     "end_time": "2019-05-25T08:09:01.625833Z",
     "start_time": "2019-05-25T08:09:01.619033Z"
    }
   },
   "outputs": [],
   "source": [
    "\n",
    "class Node:\n",
    "    def __init__(self, dataval = None):\n",
    "        self.dataval = dataval\n",
    "        self.nextval = None\n",
    "        \n",
    "class SLinkedList:\n",
    "    def __init__(self):\n",
    "        self.headval = None\n",
    "        \n",
    "node1 = SLinkedList()\n",
    "node1.headval = Node(\"Mon\")\n",
    "node2 = Node(\"Tue\")\n",
    "node3 = Node(\"Wed\")\n",
    "\n",
    "# Link first node to the second node\n",
    "node1.headval.nextval = node2\n",
    "\n",
    "# Link second node to the third node\n",
    "node2.nextval = node3"
   ]
  },
  {
   "cell_type": "markdown",
   "metadata": {},
   "source": [
    "#### Traversing a Linked List\n",
    "Singly linked lists can be traversed in only forward direction starting form the first data element ."
   ]
  },
  {
   "cell_type": "code",
   "execution_count": 5,
   "metadata": {
    "ExecuteTime": {
     "end_time": "2019-05-25T08:27:03.946428Z",
     "start_time": "2019-05-25T08:27:03.928856Z"
    }
   },
   "outputs": [
    {
     "name": "stdout",
     "output_type": "stream",
     "text": [
      "Mon\n",
      "Tue\n",
      "Wed\n"
     ]
    }
   ],
   "source": [
    "\n",
    "class Node:\n",
    "    def __init__(self, dataval = None):\n",
    "        self.dataval = dataval\n",
    "        self.nextval = None\n",
    "        \n",
    "class SLinkedList:\n",
    "    def __init__(self):\n",
    "        self.headval = None\n",
    "    \n",
    "    def listprint(self):\n",
    "        printval = self.headval\n",
    "        while printval is not None:\n",
    "            print(printval.dataval)\n",
    "            printval = printval.nextval\n",
    "            \n",
    "lists = SLinkedList()\n",
    "lists.headval = Node(\"Mon\")\n",
    "e2 = Node(\"Tue\")\n",
    "e3 = Node(\"Wed\")\n",
    "\n",
    "# Link the first node to the second node\n",
    "lists.headval.nextval = e2\n",
    "\n",
    "# Link the second node to the third node\n",
    "e2.nextval = e3\n",
    "\n",
    "lists.listprint()"
   ]
  },
  {
   "cell_type": "markdown",
   "metadata": {},
   "source": [
    "#### Insertion in a Listed List\n",
    "Depending on whether the new data element is getting inserted at the beginging or at the middle or at the end of the linked list"
   ]
  },
  {
   "cell_type": "markdown",
   "metadata": {},
   "source": [
    "##### Insert at the Beginning of the listed list\n",
    "The current head of the linked list becomes the second data element and the new node become the head of the linked list"
   ]
  },
  {
   "cell_type": "code",
   "execution_count": 10,
   "metadata": {
    "ExecuteTime": {
     "end_time": "2019-05-25T08:58:11.331201Z",
     "start_time": "2019-05-25T08:58:11.304258Z"
    }
   },
   "outputs": [
    {
     "name": "stdout",
     "output_type": "stream",
     "text": [
      "Sun\n",
      "Mon\n",
      "Tue\n",
      "Web\n"
     ]
    }
   ],
   "source": [
    "\n",
    "class Node:\n",
    "    def __init__(self, dataval = None):\n",
    "        self.dataval = dataval\n",
    "        self.nextval = None\n",
    "        \n",
    "class SLinkedList:\n",
    "    def __init__(self):\n",
    "        self.headval = None\n",
    "    \n",
    "    def listprint(self):\n",
    "        printval = self.headval\n",
    "        while printval is not None:\n",
    "            print(printval.dataval)\n",
    "            printval = printval.nextval\n",
    "            \n",
    "    def at_begining(self, newdata):\n",
    "        NewNode = Node(newdata)\n",
    "        # Update the new nodes next val to existing node\n",
    "        NewNode.nextval = self.headval\n",
    "        self.headval = NewNode\n",
    "            \n",
    "lists = SLinkedList()\n",
    "lists.headval = Node(\"Mon\")\n",
    "e2 = Node(\"Tue\")\n",
    "e3 = Node(\"Web\")\n",
    "\n",
    "# link the first node to the second node\n",
    "lists.headval.nextval = e2\n",
    "\n",
    "# link the second node to the third node\n",
    "e2.nextval = e3\n",
    "\n",
    "lists.at_begining(\"Sun\")\n",
    "lists.listprint()"
   ]
  },
  {
   "cell_type": "markdown",
   "metadata": {},
   "source": [
    "##### Inserting at the end of the linked list\n",
    "The next pointer of the current last node of the linked list point to the new data node\n",
    "\n",
    "The current last node of the linked list becomes the second last data node and the new node becomes the last node of the linked list."
   ]
  },
  {
   "cell_type": "code",
   "execution_count": 11,
   "metadata": {
    "ExecuteTime": {
     "end_time": "2019-05-25T09:24:44.677584Z",
     "start_time": "2019-05-25T09:24:44.657033Z"
    }
   },
   "outputs": [
    {
     "name": "stdout",
     "output_type": "stream",
     "text": [
      "Mon\n",
      "Tue\n",
      "Web\n",
      "Thu\n"
     ]
    }
   ],
   "source": [
    "\n",
    "class Node:\n",
    "    def __init__(self, dataval = None):\n",
    "        self.dataval = dataval \n",
    "        self.nextval = None\n",
    "        \n",
    "class SLinkedList:\n",
    "    def __init__(self):\n",
    "        self.headval = None\n",
    "    \n",
    "    def at_end(self, newdata):\n",
    "        NewNode = Node(newdata)\n",
    "        if self.headval is None:\n",
    "            self.headval = NewNode\n",
    "            return \n",
    "        lastval = self.headval\n",
    "        while(lastval.nextval):\n",
    "            lastval = lastval.nextval\n",
    "        lastval.nextval = NewNode\n",
    "        \n",
    "    def listprint(self):\n",
    "        printval = self.headval\n",
    "        while printval is not None:\n",
    "            print(printval.dataval)\n",
    "            printval = printval.nextval\n",
    "            \n",
    "lists = SLinkedList()\n",
    "lists.headval = Node('Mon')\n",
    "e2 = Node(\"Tue\")\n",
    "e3 = Node(\"Web\")\n",
    "\n",
    "# link the first node to the second node\n",
    "lists.headval.nextval = e2\n",
    "\n",
    "# link the second node to the third node\n",
    "e2.nextval = e3\n",
    "\n",
    "# at the end of the linked list to add a new node\n",
    "lists.at_end(\"Thu\")\n",
    "lists.listprint()"
   ]
  },
  {
   "cell_type": "markdown",
   "metadata": {},
   "source": [
    "##### Inserting in between two data nodes\n"
   ]
  },
  {
   "cell_type": "code",
   "execution_count": 13,
   "metadata": {
    "ExecuteTime": {
     "end_time": "2019-05-25T10:17:40.930787Z",
     "start_time": "2019-05-25T10:17:40.922489Z"
    }
   },
   "outputs": [
    {
     "name": "stdout",
     "output_type": "stream",
     "text": [
      "Mon\n",
      "Tue\n",
      "Fri\n",
      "Web\n"
     ]
    }
   ],
   "source": [
    "\n",
    "class Node:\n",
    "    def __init__(self, dataval = None):\n",
    "        self.dataval = dataval\n",
    "        self.nextval = None\n",
    "    \n",
    "class SLinkedList:\n",
    "    def __init__(self):\n",
    "        self.headval = None\n",
    "    \n",
    "    # insert a node in between two data nodes\n",
    "    def Inbetween(self, middle_node, newnode):\n",
    "        if middle_node is None:\n",
    "            print(\"The mentioned node is not exist\")\n",
    "            return \n",
    "        NewNode = Node(newnode)\n",
    "        NewNode.nextval = middle_node.nextval\n",
    "        middle_node.nextval = NewNode\n",
    "        \n",
    "    def listprint(self):\n",
    "        printval = self.headval\n",
    "        while printval is not None:\n",
    "            print(printval.dataval)\n",
    "            printval = printval.nextval\n",
    "            \n",
    "lists = SLinkedList()\n",
    "lists.headval = Node(\"Mon\")\n",
    "e2 = Node(\"Tue\")\n",
    "e3 = Node(\"Web\")\n",
    "\n",
    "# link the first node to second node\n",
    "lists.headval.nextval = e2\n",
    "\n",
    "# link the second node to third node\n",
    "e2.nextval = e3\n",
    "\n",
    "# Insert a new node in between two nodes\n",
    "lists.Inbetween(lists.headval.nextval,\"Fri\")\n",
    "\n",
    "lists.listprint()"
   ]
  },
  {
   "cell_type": "markdown",
   "metadata": {},
   "source": [
    "#### Remove a node in a linked list\n",
    "The remove key is at the begining of the linked list\n",
    "\n",
    "The remove key is not at the begining of the linked list"
   ]
  },
  {
   "cell_type": "code",
   "execution_count": null,
   "metadata": {},
   "outputs": [],
   "source": []
  }
 ],
 "metadata": {
  "kernelspec": {
   "display_name": "python pratice",
   "language": "python",
   "name": "env_name"
  },
  "language_info": {
   "codemirror_mode": {
    "name": "ipython",
    "version": 3
   },
   "file_extension": ".py",
   "mimetype": "text/x-python",
   "name": "python",
   "nbconvert_exporter": "python",
   "pygments_lexer": "ipython3",
   "version": "3.7.1"
  },
  "toc": {
   "base_numbering": 1,
   "nav_menu": {},
   "number_sections": true,
   "sideBar": true,
   "skip_h1_title": false,
   "title_cell": "Table of Contents",
   "title_sidebar": "Contents",
   "toc_cell": false,
   "toc_position": {},
   "toc_section_display": true,
   "toc_window_display": false
  }
 },
 "nbformat": 4,
 "nbformat_minor": 2
}
