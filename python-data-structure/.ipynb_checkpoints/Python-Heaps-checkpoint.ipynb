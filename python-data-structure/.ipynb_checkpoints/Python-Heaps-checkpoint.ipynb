{
 "cells": [
  {
   "cell_type": "markdown",
   "metadata": {},
   "source": [
    "#### Heap\n",
    "Heap is a special tree structure in which each parent node is less than or equal to its child node. Then it is called a min heap.\n",
    "If each parent node is greater than or equal to its child node then it is called a max heap.\n",
    "\n",
    "#### Create a heap\n",
    "A heap is created by using python's inbuilt library named heapq. \n",
    "This library has the relevant functions to carry out various operations on heap data structure. \n",
    "- heapify: This function converts a regular list to a heap. In the resulting heap the smallest element gets pushed to the index position 0. But rest of the data elements are not necessarily sorted.\n",
    "- heappush : this function adds an element to the heap without altering the current heap.\n",
    "- heappop: this function returns the smallest data element from the heap\n",
    "- heapreplace: this funtion replaces the smallest data element with a new value supplied in the function."
   ]
  },
  {
   "cell_type": "markdown",
   "metadata": {},
   "source": [
    "#### Creating a heap"
   ]
  },
  {
   "cell_type": "code",
   "execution_count": 2,
   "metadata": {
    "ExecuteTime": {
     "end_time": "2019-06-27T11:11:07.413090Z",
     "start_time": "2019-06-27T11:11:07.407181Z"
    }
   },
   "outputs": [
    {
     "name": "stdout",
     "output_type": "stream",
     "text": [
      "[1, 3, 5, 78, 21, 45]\n"
     ]
    }
   ],
   "source": [
    "import heapq\n",
    "\n",
    "h = [21, 1, 45, 78, 3, 5]\n",
    "# use heapify rearranges the elements bring the smallest element to the first position\n",
    "heapq.heapify(h)\n",
    "print(h)"
   ]
  },
  {
   "cell_type": "markdown",
   "metadata": {},
   "source": [
    "#### Inserting into heap\n",
    "inserting a data element to a heap always adds the elements at the last index"
   ]
  },
  {
   "cell_type": "code",
   "execution_count": 3,
   "metadata": {
    "ExecuteTime": {
     "end_time": "2019-06-27T11:15:03.038201Z",
     "start_time": "2019-06-27T11:15:03.032679Z"
    }
   },
   "outputs": [
    {
     "name": "stdout",
     "output_type": "stream",
     "text": [
      "[1, 3, 5, 78, 21, 45]\n",
      "[1, 3, 5, 78, 21, 45, 8]\n"
     ]
    }
   ],
   "source": [
    "import heapq\n",
    "\n",
    "h = [21, 1, 45, 78, 3, 5]\n",
    "heapq.heapify(h)\n",
    "print(h)\n",
    "# add a element\n",
    "heapq.heappush(h, 8)\n",
    "print(h)"
   ]
  },
  {
   "cell_type": "markdown",
   "metadata": {},
   "source": [
    "#### Removing from heap\n",
    "you can remove the element at first index by using this function"
   ]
  },
  {
   "cell_type": "code",
   "execution_count": 4,
   "metadata": {
    "ExecuteTime": {
     "end_time": "2019-06-27T11:17:03.926558Z",
     "start_time": "2019-06-27T11:17:03.913632Z"
    }
   },
   "outputs": [
    {
     "name": "stdout",
     "output_type": "stream",
     "text": [
      "[1, 3, 5, 78, 21, 45]\n",
      "[3, 21, 5, 78, 45]\n"
     ]
    }
   ],
   "source": [
    "import heapq\n",
    "\n",
    "h = [21, 1, 45, 78, 3, 5]\n",
    "\n",
    "# create a heap\n",
    "heapq.heapify(h)\n",
    "print(h)\n",
    "\n",
    "# remove a element from heap\n",
    "heapq.heappop(h)\n",
    "print(h)"
   ]
  },
  {
   "cell_type": "markdown",
   "metadata": {},
   "source": [
    "#### Replacing in a heap\n",
    "this heapreplace function always removes the smallest element of the heap and inserts the new incoming element at some place not fixed by any order"
   ]
  },
  {
   "cell_type": "code",
   "execution_count": 6,
   "metadata": {
    "ExecuteTime": {
     "end_time": "2019-06-27T11:20:35.615443Z",
     "start_time": "2019-06-27T11:20:35.610567Z"
    }
   },
   "outputs": [
    {
     "name": "stdout",
     "output_type": "stream",
     "text": [
      "[1, 3, 5, 78, 21, 45]\n",
      "[0, 3, 5, 78, 21, 45]\n"
     ]
    }
   ],
   "source": [
    "import heapq\n",
    "\n",
    "h = [21, 1, 45, 78, 3, 5]\n",
    "\n",
    "# create a heapq\n",
    "heapq.heapify(h)\n",
    "print(h)\n",
    "\n",
    "# replace an element\n",
    "heapq.heapreplace(h, 0)\n",
    "print(h)"
   ]
  },
  {
   "cell_type": "code",
   "execution_count": null,
   "metadata": {},
   "outputs": [],
   "source": []
  }
 ],
 "metadata": {
  "kernelspec": {
   "display_name": "python pratice",
   "language": "python",
   "name": "env_name"
  },
  "language_info": {
   "codemirror_mode": {
    "name": "ipython",
    "version": 3
   },
   "file_extension": ".py",
   "mimetype": "text/x-python",
   "name": "python",
   "nbconvert_exporter": "python",
   "pygments_lexer": "ipython3",
   "version": "3.7.1"
  },
  "toc": {
   "base_numbering": 1,
   "nav_menu": {},
   "number_sections": true,
   "sideBar": true,
   "skip_h1_title": false,
   "title_cell": "Table of Contents",
   "title_sidebar": "Contents",
   "toc_cell": false,
   "toc_position": {},
   "toc_section_display": true,
   "toc_window_display": false
  }
 },
 "nbformat": 4,
 "nbformat_minor": 2
}
