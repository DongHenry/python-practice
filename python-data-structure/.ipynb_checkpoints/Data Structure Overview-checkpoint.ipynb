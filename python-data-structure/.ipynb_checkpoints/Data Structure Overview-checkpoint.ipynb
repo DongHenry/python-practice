{
 "cells": [
  {
   "cell_type": "markdown",
   "metadata": {},
   "source": [
    "#### General Data Structures\n",
    "The various data structures in computer science are divided broadly \n",
    "into two categories shown below"
   ]
  },
  {
   "cell_type": "markdown",
   "metadata": {},
   "source": [
    "#### LINER DATA STRUCTURES\n",
    "\n",
    "- Array:It is a sequential arrangement of data elements paired with the index of the data element.\n",
    "- Linked List: Each data element contains a link to another element along with the data present in it.\n",
    "- Stack: LIFO(last in First Out ) or FILO(First in Last Out)\n",
    "- Queue: Only FIFO(First In First Out)\n",
    "- Matrix: It is two dimensional data structure in which the data element is referred by a pair of indices"
   ]
  },
  {
   "cell_type": "markdown",
   "metadata": {},
   "source": [
    "#### NON-LINER DATA STRUCTURES\n",
    "- Binary Tree: It is a data structure where each data element can be connected to maximum two other data elements and it starts with a root node.\n",
    "- Heap: It is a special case of Tree data structure where the data in the parent node is either strictly greater than/ equal to the child nodes or strictly less than it’s child nodes.\n",
    "- Hash Table: It is a data structure which is made of arrays associated with each other using a hash function. It retrieves values using keys rather than index from a data element.\n",
    "- Graph: .It is an arrangement of vertices and nodes where some of the nodes are connected to each other through links."
   ]
  },
  {
   "cell_type": "markdown",
   "metadata": {},
   "source": [
    "#### PYTHON SPECIFIC DATA STRUCTURES\n",
    "- List: It is similar to array with the exception that the data elements can be of different data types. You can have both numeric and string data in a python list.\n",
    "- Tuple: Tuples are similar to lists but they are immutable which means the values in a tuple cannot be modified they can only be read.\n",
    "- Dictionary: The dictionary contains Key-value pairs as its data elements."
   ]
  }
 ],
 "metadata": {
  "kernelspec": {
   "display_name": "python pratice",
   "language": "python",
   "name": "env_name"
  },
  "language_info": {
   "codemirror_mode": {
    "name": "ipython",
    "version": 3
   },
   "file_extension": ".py",
   "mimetype": "text/x-python",
   "name": "python",
   "nbconvert_exporter": "python",
   "pygments_lexer": "ipython3",
   "version": "3.7.1"
  },
  "toc": {
   "base_numbering": 1,
   "nav_menu": {},
   "number_sections": true,
   "sideBar": true,
   "skip_h1_title": false,
   "title_cell": "Table of Contents",
   "title_sidebar": "Contents",
   "toc_cell": false,
   "toc_position": {},
   "toc_section_display": true,
   "toc_window_display": false
  }
 },
 "nbformat": 4,
 "nbformat_minor": 2
}
