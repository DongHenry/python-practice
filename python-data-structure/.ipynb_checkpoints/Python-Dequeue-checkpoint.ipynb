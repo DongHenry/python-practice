{
 "cells": [
  {
   "cell_type": "markdown",
   "metadata": {},
   "source": [
    "#### 双端队列\n",
    "队列只允许在一端进行入队，在另一端出队。\n",
    "双端队列是指在两端都可以进行入队和出队的队列。其元素的逻辑结构仍是线性结构。将队列的两端分别称为前端和后端，两端都可以入队和出队。"
   ]
  },
  {
   "cell_type": "markdown",
   "metadata": {},
   "source": [
    "A double-ended queue, or queue, supports adding and removing elements from either end"
   ]
  },
  {
   "cell_type": "code",
   "execution_count": 4,
   "metadata": {
    "ExecuteTime": {
     "end_time": "2019-07-01T05:50:02.176481Z",
     "start_time": "2019-07-01T05:50:02.167971Z"
    }
   },
   "outputs": [
    {
     "name": "stdout",
     "output_type": "stream",
     "text": [
      "Append element at right:deque(['1', '2', '3', '4'])\n",
      "Append element at left:deque(['0', '1', '2', '3', '4'])\n",
      "Removing element from right end :deque(['0', '1', '2', '3'])\n",
      "Removing element from left end:deque(['1', '2', '3'])\n"
     ]
    }
   ],
   "source": [
    "import collections\n",
    "\n",
    "double_ended = collections.deque([\"1\", \"2\", \"3\"])\n",
    "double_ended.append(\"4\")\n",
    "\n",
    "print(f\"Append element at right:{double_ended}\")\n",
    "\n",
    "double_ended.appendleft(\"0\")\n",
    "print(f\"Append element at left:{double_ended}\")\n",
    "\n",
    "double_ended.pop()\n",
    "print(f\"Removing element from right end :{double_ended}\")\n",
    "\n",
    "double_ended.popleft()\n",
    "print(f\"Removing element from left end:{double_ended}\")"
   ]
  },
  {
   "cell_type": "code",
   "execution_count": null,
   "metadata": {},
   "outputs": [],
   "source": []
  }
 ],
 "metadata": {
  "kernelspec": {
   "display_name": "python pratice",
   "language": "python",
   "name": "env_name"
  },
  "language_info": {
   "codemirror_mode": {
    "name": "ipython",
    "version": 3
   },
   "file_extension": ".py",
   "mimetype": "text/x-python",
   "name": "python",
   "nbconvert_exporter": "python",
   "pygments_lexer": "ipython3",
   "version": "3.7.1"
  },
  "toc": {
   "base_numbering": 1,
   "nav_menu": {},
   "number_sections": true,
   "sideBar": true,
   "skip_h1_title": false,
   "title_cell": "Table of Contents",
   "title_sidebar": "Contents",
   "toc_cell": false,
   "toc_position": {},
   "toc_section_display": true,
   "toc_window_display": false
  }
 },
 "nbformat": 4,
 "nbformat_minor": 2
}
