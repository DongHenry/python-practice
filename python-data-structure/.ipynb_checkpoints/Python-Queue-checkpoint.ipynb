{
 "cells": [
  {
   "cell_type": "markdown",
   "metadata": {},
   "source": [
    "#### Python-Queue\n",
    "\n",
    "一个原则：First In First Out (先进先出)\n",
    "\n",
    "只能在一端进行插入（队尾），在另一端进行删除（队头）"
   ]
  },
  {
   "cell_type": "markdown",
   "metadata": {},
   "source": [
    "#### Adding Elements to a queue\n",
    "在一个队列的尾部进行插入（队尾插入）\n",
    "\n",
    "list.insert(index, obj)\n",
    "\n",
    "参数\n",
    "\n",
    "index -- 对象 obj 需要插入的索引位置。\n",
    "\n",
    "obj -- 要插入列表中的对象。"
   ]
  },
  {
   "cell_type": "code",
   "execution_count": 1,
   "metadata": {
    "ExecuteTime": {
     "end_time": "2019-06-01T00:39:13.631197Z",
     "start_time": "2019-06-01T00:39:13.615723Z"
    }
   },
   "outputs": [
    {
     "name": "stdout",
     "output_type": "stream",
     "text": [
      "The queue ['Wed', 'Tue', 'Mon'] length is 3\n"
     ]
    }
   ],
   "source": [
    "class Queue:\n",
    "    \n",
    "    def __init__(self):\n",
    "        self.queue = list()\n",
    "    \n",
    "    # add data element to the queue\n",
    "    def add(self, dataval):\n",
    "        if dataval not in self.queue:\n",
    "            self.queue.insert(0, dataval)\n",
    "            return True\n",
    "        return False\n",
    "    \n",
    "    def size(self):\n",
    "        return len(self.queue)\n",
    "    \n",
    "    def print_queue(self):\n",
    "        return self.queue\n",
    "    \n",
    "queue = Queue()\n",
    "queue.add(\"Mon\")\n",
    "queue.add(\"Tue\")\n",
    "queue.add(\"Wed\")\n",
    "print(f\"The queue {queue.print_queue()} length is {queue.size()}\")\n"
   ]
  },
  {
   "cell_type": "markdown",
   "metadata": {},
   "source": [
    "#### Removing Element from a queue\n",
    "\n",
    "在一个队列的头部进行删除"
   ]
  },
  {
   "cell_type": "code",
   "execution_count": 5,
   "metadata": {
    "ExecuteTime": {
     "end_time": "2019-06-01T01:16:21.848905Z",
     "start_time": "2019-06-01T01:16:21.835549Z"
    }
   },
   "outputs": [
    {
     "name": "stdout",
     "output_type": "stream",
     "text": [
      "Current the queue is ['Wed', 'Tue', 'Mon']\n",
      "current the queue is ['Wed']\n"
     ]
    }
   ],
   "source": [
    "class Queue:\n",
    "    \n",
    "    def __init__(self):\n",
    "        self.queue = list()\n",
    "    \n",
    "    # insert data element into the queue\n",
    "    def add(self, dataval):\n",
    "        if dataval not in self.queue:\n",
    "            self.queue.insert(0, dataval)\n",
    "            return True\n",
    "        return False\n",
    "    \n",
    "    def remove(self):\n",
    "        if len(self.queue) >0:\n",
    "            self.queue.pop()\n",
    "            return True\n",
    "        else:\n",
    "            return \"No element in the queue\"\n",
    "        \n",
    "    def print_queue(self):\n",
    "        return self.queue\n",
    "    \n",
    "    def size(self):\n",
    "        return len(self.queue)\n",
    "    \n",
    "queue = Queue()\n",
    "queue.add(\"Mon\")\n",
    "queue.add(\"Tue\")\n",
    "queue.add(\"Wed\")\n",
    "print(f\"Current the queue is {queue.print_queue()}\")\n",
    "\n",
    "queue.remove()\n",
    "queue.remove()\n",
    "print(f\"current the queue is {queue.print_queue()}\")"
   ]
  },
  {
   "cell_type": "code",
   "execution_count": null,
   "metadata": {},
   "outputs": [],
   "source": []
  }
 ],
 "metadata": {
  "kernelspec": {
   "display_name": "python pratice",
   "language": "python",
   "name": "env_name"
  },
  "language_info": {
   "codemirror_mode": {
    "name": "ipython",
    "version": 3
   },
   "file_extension": ".py",
   "mimetype": "text/x-python",
   "name": "python",
   "nbconvert_exporter": "python",
   "pygments_lexer": "ipython3",
   "version": "3.7.1"
  },
  "toc": {
   "base_numbering": 1,
   "nav_menu": {},
   "number_sections": true,
   "sideBar": true,
   "skip_h1_title": false,
   "title_cell": "Table of Contents",
   "title_sidebar": "Contents",
   "toc_cell": false,
   "toc_position": {},
   "toc_section_display": true,
   "toc_window_display": false
  }
 },
 "nbformat": 4,
 "nbformat_minor": 2
}
