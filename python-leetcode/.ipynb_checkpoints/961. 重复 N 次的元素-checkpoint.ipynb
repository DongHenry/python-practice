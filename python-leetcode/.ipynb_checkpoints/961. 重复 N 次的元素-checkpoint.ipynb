{
 "cells": [
  {
   "cell_type": "markdown",
   "metadata": {},
   "source": [
    "#### 题目描述\n",
    "在大小为 2N 的数组 A 中有 N+1 个不同的元素，其中有一个元素重复了 N 次。\n",
    "\n",
    "返回重复了 N 次的那个元素。\n",
    "\n",
    " \n",
    "\n",
    "示例 1：\n",
    "\n",
    "- 输入：[1,2,3,3]\n",
    "- 输出：3\n",
    "\n",
    "示例 2：\n",
    "\n",
    "- 输入：[2,1,2,5,3,2]\n",
    "- 输出：2\n",
    "\n",
    "示例 3：\n",
    "\n",
    "- 输入：[5,1,5,2,5,3,5,4]\n",
    "- 输出：5\n",
    " \n",
    "---\n",
    "提示：\n",
    "\n",
    "- 4 <= A.length <= 10000\n",
    "- 0 <= A[i] < 10000\n",
    "- A.length 为偶数"
   ]
  },
  {
   "cell_type": "markdown",
   "metadata": {},
   "source": [
    "#### Solution1\n",
    "\n",
    "执行结果\n",
    "- 执行用时 :2832 ms, 在所有 Python 提交中击败了5.34%的用户\n",
    "- 内存消耗 :12.9 MB, 在所有 Python 提交中击败了12.05%的用户"
   ]
  },
  {
   "cell_type": "code",
   "execution_count": 1,
   "metadata": {
    "ExecuteTime": {
     "end_time": "2019-07-03T15:53:58.578078Z",
     "start_time": "2019-07-03T15:53:58.565526Z"
    }
   },
   "outputs": [
    {
     "data": {
      "text/plain": [
       "3"
      ]
     },
     "execution_count": 1,
     "metadata": {},
     "output_type": "execute_result"
    }
   ],
   "source": [
    "class Solution(object):\n",
    "    def repeatedNTimes(self, A):\n",
    "        \"\"\"\n",
    "        :type A: List[int]\n",
    "        :rtype: int\n",
    "        \"\"\"\n",
    "        temp = set(A)\n",
    "        for i in temp:\n",
    "            if A.count(i) == len(A)/2:\n",
    "                return i\n",
    "    \n",
    "A = [1, 2, 3, 3]\n",
    "solution = Solution()\n",
    "solution.repeatedNTimes(A)"
   ]
  },
  {
   "cell_type": "markdown",
   "metadata": {},
   "source": [
    "#### Solution2\n",
    "由题意：在大小为 2N 的数组 A 中有 N+1 个不同的元素，其中有一个元素重复了 N 次。\n",
    "\n",
    "- 总共2N个元素，有N+1中不同的，某一个元素重复了N次，则剩下的为N个不同的元素，只会出现一次\n",
    "- 只需判断重复元素即可\n",
    "\n",
    "执行结果\n",
    "- 执行用时 :244 ms, 在所有 Python 提交中击败了94.66%的用户\n",
    "- 内存消耗 :12.5 MB, 在所有 Python 提交中击败了39.76%的用户"
   ]
  },
  {
   "cell_type": "code",
   "execution_count": 3,
   "metadata": {
    "ExecuteTime": {
     "end_time": "2019-07-03T16:05:55.579741Z",
     "start_time": "2019-07-03T16:05:55.566584Z"
    }
   },
   "outputs": [
    {
     "data": {
      "text/plain": [
       "3"
      ]
     },
     "execution_count": 3,
     "metadata": {},
     "output_type": "execute_result"
    }
   ],
   "source": [
    "class Solution(object):\n",
    "    def repeatedNTimes(self, A):\n",
    "        \"\"\"\n",
    "        :type A: List[int]\n",
    "        :rtype: int\n",
    "        \"\"\"\n",
    "        temp = []\n",
    "        for i in A:\n",
    "            if i not in temp:\n",
    "                temp.append(i)\n",
    "            else:\n",
    "                return i\n",
    "    \n",
    "A = [1, 2, 3, 3]\n",
    "solution = Solution()\n",
    "solution.repeatedNTimes(A)    "
   ]
  },
  {
   "cell_type": "code",
   "execution_count": null,
   "metadata": {},
   "outputs": [],
   "source": []
  }
 ],
 "metadata": {
  "kernelspec": {
   "display_name": "python pratice",
   "language": "python",
   "name": "env_name"
  },
  "language_info": {
   "codemirror_mode": {
    "name": "ipython",
    "version": 3
   },
   "file_extension": ".py",
   "mimetype": "text/x-python",
   "name": "python",
   "nbconvert_exporter": "python",
   "pygments_lexer": "ipython3",
   "version": "3.7.1"
  },
  "toc": {
   "base_numbering": 1,
   "nav_menu": {},
   "number_sections": true,
   "sideBar": true,
   "skip_h1_title": false,
   "title_cell": "Table of Contents",
   "title_sidebar": "Contents",
   "toc_cell": false,
   "toc_position": {},
   "toc_section_display": true,
   "toc_window_display": false
  }
 },
 "nbformat": 4,
 "nbformat_minor": 2
}
