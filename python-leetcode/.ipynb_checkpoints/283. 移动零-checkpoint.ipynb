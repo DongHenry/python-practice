{
 "cells": [
  {
   "cell_type": "markdown",
   "metadata": {},
   "source": [
    "#### 题目描述\n",
    "给定一个数组 nums，编写一个函数将所有 0 移动到数组的末尾，同时保持非零元素的相对顺序。\n",
    "\n",
    "示例:\n",
    "\n",
    "- 输入: [0,1,0,3,12]\n",
    "- 输出: [1,3,12,0,0]\n",
    "\n",
    "说明:\n",
    "\n",
    "必须在原数组上操作，不能拷贝额外的数组。\n",
    "尽量减少操作次数。"
   ]
  },
  {
   "cell_type": "code",
   "execution_count": 4,
   "metadata": {
    "ExecuteTime": {
     "end_time": "2019-07-08T07:57:29.934506Z",
     "start_time": "2019-07-08T07:57:29.925745Z"
    }
   },
   "outputs": [],
   "source": [
    "class Solution(object):\n",
    "    def moveZeroes(self, nums):\n",
    "        \"\"\"\n",
    "        :type nums: List[int]\n",
    "        :rtype: None Do not return anything, modify nums in-place instead.\n",
    "        \"\"\"\n",
    "        counts = nums.count(0)\n",
    "        for i in range(counts):\n",
    "            nums.remove(0)\n",
    "            nums.append(0)\n",
    "        \n",
    "        \n",
    "nums = [0, 1, 0, 3, 12]\n",
    "solution = Solution()\n",
    "solution.moveZeroes(nums)"
   ]
  },
  {
   "cell_type": "code",
   "execution_count": null,
   "metadata": {},
   "outputs": [],
   "source": []
  }
 ],
 "metadata": {
  "kernelspec": {
   "display_name": "python pratice",
   "language": "python",
   "name": "env_name"
  },
  "language_info": {
   "codemirror_mode": {
    "name": "ipython",
    "version": 3
   },
   "file_extension": ".py",
   "mimetype": "text/x-python",
   "name": "python",
   "nbconvert_exporter": "python",
   "pygments_lexer": "ipython3",
   "version": "3.7.1"
  },
  "toc": {
   "base_numbering": 1,
   "nav_menu": {},
   "number_sections": true,
   "sideBar": true,
   "skip_h1_title": false,
   "title_cell": "Table of Contents",
   "title_sidebar": "Contents",
   "toc_cell": false,
   "toc_position": {},
   "toc_section_display": true,
   "toc_window_display": false
  }
 },
 "nbformat": 4,
 "nbformat_minor": 2
}
