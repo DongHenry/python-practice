{
 "cells": [
  {
   "cell_type": "markdown",
   "metadata": {},
   "source": [
    "#### 题目描述\n",
    "给定一个包含 0, 1, 2, ..., n 中 n 个数的序列，找出 0 .. n 中没有出现在序列中的那个数。\n",
    "\n",
    "示例 1:\n",
    "\n",
    "- 输入: [3,0,1]\n",
    "- 输出: 2\n",
    "\n",
    "示例 2:\n",
    "\n",
    "- 输入: [9,6,4,2,3,5,7,0,1]\n",
    "- 输出: 8\n",
    "\n",
    "#### 思路\n",
    "注意特殊情况:\n",
    "\n",
    "- n = max(nums) + 1\n",
    "- Input:[0] Output: 1  \n",
    "- Input:[0, 1] Output: 2\n",
    "- 设置一个标志位，判断缺少最大值的情况"
   ]
  },
  {
   "cell_type": "code",
   "execution_count": 22,
   "metadata": {
    "ExecuteTime": {
     "end_time": "2019-07-03T05:55:37.562225Z",
     "start_time": "2019-07-03T05:55:37.548465Z"
    }
   },
   "outputs": [
    {
     "data": {
      "text/plain": [
       "8"
      ]
     },
     "execution_count": 22,
     "metadata": {},
     "output_type": "execute_result"
    }
   ],
   "source": [
    "class Solution:\n",
    "    def missingNumber(self, nums):\n",
    "        # flag = Ture 表示nums缺少边界值最大值\n",
    "        flag = True\n",
    "        for i, v in enumerate(sorted(nums)):\n",
    "            if i != v:\n",
    "                # flage = False 表示nums缺少中间值，直接返回缺少之即可\n",
    "                flag = False\n",
    "                return i\n",
    "        if flag:\n",
    "            return max(nums)+1\n",
    "                            \n",
    "# nums = [3, 0, 1]\n",
    "nums = [9,6,4,2,3,5,7,0,1]\n",
    "# nums = [0]\n",
    "# nums = [0, 1]\n",
    "solution = Solution()\n",
    "solution.missingNumber(nums)"
   ]
  },
  {
   "cell_type": "code",
   "execution_count": null,
   "metadata": {},
   "outputs": [],
   "source": []
  }
 ],
 "metadata": {
  "kernelspec": {
   "display_name": "python pratice",
   "language": "python",
   "name": "env_name"
  },
  "language_info": {
   "codemirror_mode": {
    "name": "ipython",
    "version": 3
   },
   "file_extension": ".py",
   "mimetype": "text/x-python",
   "name": "python",
   "nbconvert_exporter": "python",
   "pygments_lexer": "ipython3",
   "version": "3.7.1"
  },
  "toc": {
   "base_numbering": 1,
   "nav_menu": {},
   "number_sections": true,
   "sideBar": true,
   "skip_h1_title": false,
   "title_cell": "Table of Contents",
   "title_sidebar": "Contents",
   "toc_cell": false,
   "toc_position": {},
   "toc_section_display": true,
   "toc_window_display": false
  }
 },
 "nbformat": 4,
 "nbformat_minor": 2
}
