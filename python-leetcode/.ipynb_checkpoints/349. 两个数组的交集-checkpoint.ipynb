{
 "cells": [
  {
   "cell_type": "markdown",
   "metadata": {},
   "source": [
    "#### 题目描述\n",
    "给定两个数组，编写一个函数来计算它们的交集。\n",
    "\n",
    "示例 1:\n",
    "\n",
    "- 输入: nums1 = [1,2,2,1], nums2 = [2,2]\n",
    "- 输出: [2]\n",
    "\n",
    "示例 2:\n",
    "\n",
    "- 输入: nums1 = [4,9,5], nums2 = [9,4,9,8,4]\n",
    "- 输出: [9,4]\n",
    "\n",
    "说明:\n",
    "\n",
    "- 输出结果中的每个元素一定是唯一的。\n",
    "- 我们可以不考虑输出结果的顺序。\n",
    "\n",
    "#### 思路\n",
    "集合运算\n",
    "- ’&‘ 交集\n",
    "- ’|‘ 并集\n",
    "- ‘-’ 差集"
   ]
  },
  {
   "cell_type": "code",
   "execution_count": 1,
   "metadata": {
    "ExecuteTime": {
     "end_time": "2019-07-03T16:13:47.514368Z",
     "start_time": "2019-07-03T16:13:47.510285Z"
    }
   },
   "outputs": [],
   "source": [
    "class Solution(object):\n",
    "    def intersection(self, nums1, nums2):\n",
    "        \"\"\"\n",
    "        :type nums1: List[int]\n",
    "        :type nums2: List[int]\n",
    "        :rtype: List[int]\n",
    "        \"\"\"\n",
    "        return list(set(nums1) & set(nums2))"
   ]
  },
  {
   "cell_type": "code",
   "execution_count": null,
   "metadata": {},
   "outputs": [],
   "source": []
  }
 ],
 "metadata": {
  "kernelspec": {
   "display_name": "python pratice",
   "language": "python",
   "name": "env_name"
  },
  "language_info": {
   "codemirror_mode": {
    "name": "ipython",
    "version": 3
   },
   "file_extension": ".py",
   "mimetype": "text/x-python",
   "name": "python",
   "nbconvert_exporter": "python",
   "pygments_lexer": "ipython3",
   "version": "3.7.1"
  },
  "toc": {
   "base_numbering": 1,
   "nav_menu": {},
   "number_sections": true,
   "sideBar": true,
   "skip_h1_title": false,
   "title_cell": "Table of Contents",
   "title_sidebar": "Contents",
   "toc_cell": false,
   "toc_position": {},
   "toc_section_display": true,
   "toc_window_display": false
  }
 },
 "nbformat": 4,
 "nbformat_minor": 2
}
