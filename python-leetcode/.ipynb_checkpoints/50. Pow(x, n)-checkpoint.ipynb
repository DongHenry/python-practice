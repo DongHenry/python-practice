{
 "cells": [
  {
   "cell_type": "markdown",
   "metadata": {
    "ExecuteTime": {
     "end_time": "2019-06-28T11:10:25.662008Z",
     "start_time": "2019-06-28T11:10:25.652486Z"
    }
   },
   "source": [
    "实现 pow(x, n) ，即计算 x 的 n 次幂函数。\n",
    "- n为0\n",
    "- n为负数\n",
    "- n为偶数\n",
    "- n为奇数\n",
    "\n",
    "示例 1:\n",
    "\n",
    "输入: 2.00000, 10\n",
    "\n",
    "输出: 1024.00000\n",
    "\n",
    "---\n",
    "示例 2:\n",
    "\n",
    "输入: 2.10000, 3\n",
    "\n",
    "输出: 9.26100\n",
    "\n",
    "---\n",
    "示例 3:\n",
    "\n",
    "输入: 2.00000, -2\n",
    "\n",
    "输出: 0.25000\n",
    "\n",
    "解释: 2-2 = 1/22 = 1/4 = 0.25\n",
    "\n",
    "---\n",
    "说明:\n",
    "\n",
    "-100.0 < x < 100.0\n",
    "n 是 32 位有符号整数，其数值范围是 [−231, 231 − 1] 。\n"
   ]
  },
  {
   "cell_type": "code",
   "execution_count": 5,
   "metadata": {
    "ExecuteTime": {
     "end_time": "2019-06-28T11:17:19.674128Z",
     "start_time": "2019-06-28T11:17:19.666990Z"
    }
   },
   "outputs": [
    {
     "data": {
      "text/plain": [
       "16"
      ]
     },
     "execution_count": 5,
     "metadata": {},
     "output_type": "execute_result"
    }
   ],
   "source": [
    "class Solution(object):\n",
    "    def myPow(self, x, n):\n",
    "        \"\"\"\n",
    "        :type x: float\n",
    "        :type n: int\n",
    "        :rtype: float\n",
    "        \"\"\"\n",
    "        return pow(x,n)\n",
    "    \n",
    "        \n",
    "solution = Solution()\n",
    "solution.myPow(2,4)"
   ]
  },
  {
   "cell_type": "code",
   "execution_count": 4,
   "metadata": {
    "ExecuteTime": {
     "end_time": "2019-06-28T11:17:08.712044Z",
     "start_time": "2019-06-28T11:17:08.690533Z"
    }
   },
   "outputs": [
    {
     "data": {
      "text/plain": [
       "16"
      ]
     },
     "execution_count": 4,
     "metadata": {},
     "output_type": "execute_result"
    }
   ],
   "source": [
    "class Solution(object):\n",
    "    def myPow(self, x, n):\n",
    "        \"\"\"\n",
    "        :type x: float\n",
    "        :type n: int\n",
    "        :rtype: float\n",
    "        \"\"\"\n",
    "        # n为0，任何数的0次幂均为1\n",
    "        if n == 0: \n",
    "            return 1\n",
    "        # n为负数\n",
    "        elif n < 0: \n",
    "            return 1/self.myPow(x,-n)\n",
    "        # n为偶数\n",
    "        elif n %2 ==0:\n",
    "            return self.myPow(x*x, n/2)\n",
    "        # n为奇数\n",
    "        else:\n",
    "            return self.myPow(x*x, (n-1)/2)*x\n",
    "        \n",
    "solution = Solution()\n",
    "solution.myPow(2,4)"
   ]
  }
 ],
 "metadata": {
  "kernelspec": {
   "display_name": "python pratice",
   "language": "python",
   "name": "env_name"
  },
  "language_info": {
   "codemirror_mode": {
    "name": "ipython",
    "version": 3
   },
   "file_extension": ".py",
   "mimetype": "text/x-python",
   "name": "python",
   "nbconvert_exporter": "python",
   "pygments_lexer": "ipython3",
   "version": "3.7.1"
  },
  "toc": {
   "base_numbering": 1,
   "nav_menu": {},
   "number_sections": true,
   "sideBar": true,
   "skip_h1_title": false,
   "title_cell": "Table of Contents",
   "title_sidebar": "Contents",
   "toc_cell": false,
   "toc_position": {},
   "toc_section_display": true,
   "toc_window_display": false
  }
 },
 "nbformat": 4,
 "nbformat_minor": 2
}
