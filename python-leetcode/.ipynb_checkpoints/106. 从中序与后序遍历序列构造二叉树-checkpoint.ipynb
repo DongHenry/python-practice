{
 "cells": [
  {
   "cell_type": "markdown",
   "metadata": {},
   "source": [
    "#### 题目描述\n",
    "根据一棵树的中序遍历与后序遍历构造二叉树。\n",
    "\n",
    "注意:\n",
    "你可以假设树中没有重复的元素。\n",
    "\n",
    "例如，给出\n",
    "\n",
    "- 中序遍历 inorder = [9,3,15,20,7]\n",
    "- 后序遍历 postorder = [9,15,7,20,3]\n",
    "\n",
    "\n",
    "#### 解决方法\n",
    "根据中序遍历和后序遍历重建二叉树与Leetcode105-根据前序遍历和中序遍历重建二叉树思路相同\n",
    "\n",
    "首先了解中序遍历和后序遍历：\n",
    "- 中序遍历：左子树节点->根节点->右子树节点\n",
    "- 后序遍历：左子树节点->右子树节点->根节点\n",
    "\n",
    "由上可知：后序遍历的最后一个元素为二叉树的根节点，该节点所在中序遍历位置的左侧为该二叉树的左子树，右侧为该二叉树的右子树\n",
    "\n",
    "如下：\n",
    "- 中序遍历：【2，6，3，5，8，7】\n",
    "- 后序遍历：【2，3，6，8，7，5】\n",
    "\n",
    "则：后序遍历的最后一个元素[5]为该二叉树的根节点，[5]所在中序遍历的位置的左侧[2,6,3]为二叉树的左子树，[8,7]为二叉树的右子树"
   ]
  },
  {
   "cell_type": "code",
   "execution_count": 6,
   "metadata": {
    "ExecuteTime": {
     "end_time": "2019-06-18T04:54:43.807379Z",
     "start_time": "2019-06-18T04:54:43.798861Z"
    }
   },
   "outputs": [
    {
     "name": "stdout",
     "output_type": "stream",
     "text": [
      "该二叉树的根节点为：5\n",
      "中序遍历中左子树序列为:[2, 6, 3]\n",
      "中序遍历中右子树序列为:[8, 7]\n",
      "后序遍历中左子树序列为:[2, 3, 6]\n",
      "后序遍历中右子树序列为:[8, 7]\n"
     ]
    }
   ],
   "source": [
    "inorder = [2,6,3,5,8,7]\n",
    "postorder = [2,3,6,8,7,5]\n",
    "location = inorder.index(postorder[-1])\n",
    "print(f\"该二叉树的根节点为：{postorder[-1]}\")\n",
    "print(f\"中序遍历中左子树序列为:{inorder[:location]}\")\n",
    "print(f\"中序遍历中右子树序列为:{inorder[location+1:]}\")\n",
    "print(f\"后序遍历中左子树序列为:{postorder[:location]}\")\n",
    "print(f\"后序遍历中右子树序列为:{postorder[location:-1]}\")"
   ]
  },
  {
   "cell_type": "code",
   "execution_count": 7,
   "metadata": {
    "ExecuteTime": {
     "end_time": "2019-06-18T04:58:24.053948Z",
     "start_time": "2019-06-18T04:58:24.044620Z"
    }
   },
   "outputs": [],
   "source": [
    "# Definition for a binary tree node.\n",
    "# class TreeNode(object):\n",
    "#     def __init__(self, x):\n",
    "#         self.val = x\n",
    "#         self.left = None\n",
    "#         self.right = None\n",
    "\n",
    "class Solution(object):\n",
    "    def buildTree(self, inorder, postorder):\n",
    "        \"\"\"\n",
    "        :type inorder: List[int]\n",
    "        :type postorder: List[int]\n",
    "        :rtype: TreeNode\n",
    "        \"\"\"\n",
    "        if not inorder:\n",
    "            return None\n",
    "        # 二叉树的根节点\n",
    "        root = TreeNode(postorder[-1])\n",
    "        \n",
    "        location = inorder.index(postorder[-1])\n",
    "        \n",
    "        # 构造左子树\n",
    "        root.left = self.buildTree(inorder[:location], postorder[:location])\n",
    "        \n",
    "        # 构造右子树\n",
    "        root.right = self.buildTree(inorder[location+1:], postorder[location:-1])\n",
    "        \n",
    "        return root"
   ]
  },
  {
   "cell_type": "code",
   "execution_count": null,
   "metadata": {},
   "outputs": [],
   "source": []
  }
 ],
 "metadata": {
  "kernelspec": {
   "display_name": "python pratice",
   "language": "python",
   "name": "env_name"
  },
  "language_info": {
   "codemirror_mode": {
    "name": "ipython",
    "version": 3
   },
   "file_extension": ".py",
   "mimetype": "text/x-python",
   "name": "python",
   "nbconvert_exporter": "python",
   "pygments_lexer": "ipython3",
   "version": "3.7.1"
  },
  "toc": {
   "base_numbering": 1,
   "nav_menu": {},
   "number_sections": true,
   "sideBar": true,
   "skip_h1_title": false,
   "title_cell": "Table of Contents",
   "title_sidebar": "Contents",
   "toc_cell": false,
   "toc_position": {},
   "toc_section_display": true,
   "toc_window_display": false
  }
 },
 "nbformat": 4,
 "nbformat_minor": 2
}
