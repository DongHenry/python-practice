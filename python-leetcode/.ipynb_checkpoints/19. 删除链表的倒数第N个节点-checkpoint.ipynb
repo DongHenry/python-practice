{
 "cells": [
  {
   "cell_type": "markdown",
   "metadata": {},
   "source": [
    "给定一个链表，删除链表的倒数第 n 个节点，并且返回链表的头结点。\n",
    "\n",
    "示例：\n",
    "\n",
    "给定一个链表: 1->2->3->4->5, 和 n = 2.\n",
    "\n",
    "当删除了倒数第二个节点后，链表变为 1->2->3->5.\n",
    "\n",
    "说明：\n",
    "\n",
    "给定的 n 保证是有效的。\n",
    "\n",
    "-----\n",
    "\n",
    "1. 添加虚拟头结点方便删除第一个节点\n",
    "\n",
    "2. 找到倒数第n个节点的前一个节点(也就是倒数n+1节点) 指向倒数第n个节点的下一个节点\n",
    "\n",
    "找到倒数第n+1个节点:\n",
    "\n",
    "- 使用两个指针p,q,q先走n+1步,然后p,q一起走直到q走完整条链表,最后p指向的就是倒数k+1个节点"
   ]
  },
  {
   "cell_type": "code",
   "execution_count": 67,
   "metadata": {
    "ExecuteTime": {
     "end_time": "2019-06-01T12:59:24.013066Z",
     "start_time": "2019-06-01T12:59:23.983298Z"
    }
   },
   "outputs": [],
   "source": [
    "# Definition for singly-linked list.\n",
    "class ListNode:\n",
    "    def __init__(self, x):\n",
    "        self.val = x\n",
    "        self.next = None\n",
    "\n",
    "class Solution:\n",
    "    def removeNthFromEnd(self, head, n):\n",
    "        \"\"\"\n",
    "        head_type: ListNode\n",
    "        n_type: int\n",
    "        r_type: ListNode\n",
    "        \"\"\"\n",
    "        dummy = ListNode(0)\n",
    "        dummy.next = head\n",
    "        \n",
    "        p,q = dummy, dummy\n",
    "        for _ in range(n+1):\n",
    "            q = q.next\n",
    "            \n",
    "        while q:\n",
    "            q = q.next\n",
    "            p = p.next\n",
    "        p.next = p.next.next\n",
    "        return dummy.next\n",
    "            \n",
    "                \n",
    "if __name__ == \"__main__\":\n",
    "    solution = Solution()\n",
    "    lists = ListNode(1)\n",
    "    e1 = ListNode(2)\n",
    "    e2 = ListNode(3)\n",
    "    e3 = ListNode(4)\n",
    "    e4 = ListNode(5)\n",
    "    lists.next = e1\n",
    "    e1.next = e2\n",
    "    e2.next = e3\n",
    "    e3.next = e4\n",
    "    solution.removeNthFromEnd(lists, 2)"
   ]
  },
  {
   "cell_type": "code",
   "execution_count": null,
   "metadata": {},
   "outputs": [],
   "source": []
  }
 ],
 "metadata": {
  "kernelspec": {
   "display_name": "python pratice",
   "language": "python",
   "name": "env_name"
  },
  "language_info": {
   "codemirror_mode": {
    "name": "ipython",
    "version": 3
   },
   "file_extension": ".py",
   "mimetype": "text/x-python",
   "name": "python",
   "nbconvert_exporter": "python",
   "pygments_lexer": "ipython3",
   "version": "3.7.1"
  },
  "toc": {
   "base_numbering": 1,
   "nav_menu": {},
   "number_sections": true,
   "sideBar": true,
   "skip_h1_title": false,
   "title_cell": "Table of Contents",
   "title_sidebar": "Contents",
   "toc_cell": false,
   "toc_position": {},
   "toc_section_display": true,
   "toc_window_display": false
  }
 },
 "nbformat": 4,
 "nbformat_minor": 2
}
