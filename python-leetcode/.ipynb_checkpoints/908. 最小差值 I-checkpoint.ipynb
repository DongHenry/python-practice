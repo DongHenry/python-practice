{
 "cells": [
  {
   "cell_type": "markdown",
   "metadata": {},
   "source": [
    "#### 题目描述\n",
    "给定一个整数数组 A，对于每个整数 A[i]，我们可以选择任意 x 满足 -K <= x <= K，并将 x 加到 A[i] 中。\n",
    "\n",
    "在此过程之后，我们得到一些数组 B。\n",
    "\n",
    "返回 B 的最大值和 B 的最小值之间可能存在的最小差值。\n",
    "\n",
    " \n",
    "\n",
    "示例 1：\n",
    "\n",
    "- 输入：A = [1], K = 0\n",
    "- 输出：0\n",
    "- 解释：B = [1]\n",
    "\n",
    "示例 2：\n",
    "\n",
    "- 输入：A = [0,10], K = 2\n",
    "- 输出：6\n",
    "- 解释：B = [2,8]"
   ]
  },
  {
   "cell_type": "code",
   "execution_count": 1,
   "metadata": {
    "ExecuteTime": {
     "end_time": "2019-07-02T12:10:24.645668Z",
     "start_time": "2019-07-02T12:10:24.632696Z"
    }
   },
   "outputs": [
    {
     "data": {
      "text/plain": [
       "0"
      ]
     },
     "execution_count": 1,
     "metadata": {},
     "output_type": "execute_result"
    }
   ],
   "source": [
    "class Solution(object):\n",
    "    def smallestRangeI(self, A, K):\n",
    "        \"\"\"\n",
    "        :type A: List[int]\n",
    "        :type K: int\n",
    "        :rtype: int\n",
    "        \"\"\"\n",
    "        return max(0, max(A) - min(A) - 2*K)\n",
    "        \n",
    "A = [1]\n",
    "K = 0\n",
    "solution = Solution()\n",
    "solution.smallestRangeI(A, K)"
   ]
  },
  {
   "cell_type": "code",
   "execution_count": null,
   "metadata": {},
   "outputs": [],
   "source": []
  }
 ],
 "metadata": {
  "kernelspec": {
   "display_name": "python pratice",
   "language": "python",
   "name": "env_name"
  },
  "language_info": {
   "codemirror_mode": {
    "name": "ipython",
    "version": 3
   },
   "file_extension": ".py",
   "mimetype": "text/x-python",
   "name": "python",
   "nbconvert_exporter": "python",
   "pygments_lexer": "ipython3",
   "version": "3.7.1"
  },
  "toc": {
   "base_numbering": 1,
   "nav_menu": {},
   "number_sections": true,
   "sideBar": true,
   "skip_h1_title": false,
   "title_cell": "Table of Contents",
   "title_sidebar": "Contents",
   "toc_cell": false,
   "toc_position": {},
   "toc_section_display": true,
   "toc_window_display": false
  }
 },
 "nbformat": 4,
 "nbformat_minor": 2
}
