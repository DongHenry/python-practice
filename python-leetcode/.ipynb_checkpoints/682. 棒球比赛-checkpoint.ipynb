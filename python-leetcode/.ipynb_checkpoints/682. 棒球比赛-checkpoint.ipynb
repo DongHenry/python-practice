{
 "cells": [
  {
   "cell_type": "markdown",
   "metadata": {},
   "source": [
    "#### 题目描述\n",
    "你现在是棒球比赛记录员。\n",
    "给定一个字符串列表，每个字符串可以是以下四种类型之一：\n",
    "\n",
    "1. 整数（一轮的得分）：直接表示您在本轮中获得的积分数。\n",
    "2. \"+\"（一轮的得分）：表示本轮获得的得分是前两轮有效 回合得分的总和。\n",
    "3. \"D\"（一轮的得分）：表示本轮获得的得分是前一轮有效 回合得分的两倍。\n",
    "4. \"C\"（一个操作，这不是一个回合的分数）：表示您获得的最后一个有效 回合的分数是无效的，应该被移除。\n",
    "\n",
    "每一轮的操作都是永久性的，可能会对前一轮和后一轮产生影响。\n",
    "你需要返回你在所有回合中得分的总和。\n",
    "\n",
    "---\n",
    "示例 1:\n",
    "\n",
    "输入: [\"5\",\"2\",\"C\",\"D\",\"+\"]\n",
    "\n",
    "输出: 30\n",
    "\n",
    "解释: \n",
    "\n",
    "第1轮：你可以得到5分。总和是：5。\n",
    "\n",
    "第2轮：你可以得到2分。总和是：7。\n",
    "\n",
    "操作1：第2轮的数据无效。总和是：5。\n",
    "\n",
    "第3轮：你可以得到10分（第2轮的数据已被删除）。总数是：15。\n",
    "\n",
    "第4轮：你可以得到5 + 10 = 15分。总数是：30。\n",
    "\n",
    "#### 思路：\n",
    "使用栈的思想：\n",
    "- 如果是整数，压栈\n",
    "- 如果是操作符，按对应的运算处理"
   ]
  },
  {
   "cell_type": "code",
   "execution_count": 2,
   "metadata": {
    "ExecuteTime": {
     "end_time": "2019-07-01T01:48:00.107253Z",
     "start_time": "2019-07-01T01:48:00.090827Z"
    }
   },
   "outputs": [
    {
     "data": {
      "text/plain": [
       "30"
      ]
     },
     "execution_count": 2,
     "metadata": {},
     "output_type": "execute_result"
    }
   ],
   "source": [
    "class Solution(object):\n",
    "    def calPoints(self, ops):\n",
    "        \"\"\"\n",
    "        :type ops: List[str]\n",
    "        :rtype: int\n",
    "        \"\"\"\n",
    "        stack = []\n",
    "        for op in ops:\n",
    "            if op in \"CD+\":\n",
    "                self.cal(stack, op)\n",
    "            else:\n",
    "                stack.append(int(op))\n",
    "        return sum(stack)\n",
    "    \n",
    "    def cal(self, stack, op):\n",
    "        if op == \"C\":\n",
    "            if stack :stack.pop()\n",
    "        if op == \"D\":\n",
    "            stack.append(stack[-1]*2)\n",
    "        if op == \"+\":\n",
    "            stack.append(stack[-1]+stack[-2])\n",
    "        \n",
    "ops = [\"5\",\"2\",\"C\",\"D\",\"+\"]\n",
    "solution = Solution()\n",
    "solution.calPoints(ops)"
   ]
  },
  {
   "cell_type": "code",
   "execution_count": null,
   "metadata": {},
   "outputs": [],
   "source": []
  }
 ],
 "metadata": {
  "kernelspec": {
   "display_name": "python pratice",
   "language": "python",
   "name": "env_name"
  },
  "language_info": {
   "codemirror_mode": {
    "name": "ipython",
    "version": 3
   },
   "file_extension": ".py",
   "mimetype": "text/x-python",
   "name": "python",
   "nbconvert_exporter": "python",
   "pygments_lexer": "ipython3",
   "version": "3.7.1"
  },
  "toc": {
   "base_numbering": 1,
   "nav_menu": {},
   "number_sections": true,
   "sideBar": true,
   "skip_h1_title": false,
   "title_cell": "Table of Contents",
   "title_sidebar": "Contents",
   "toc_cell": false,
   "toc_position": {},
   "toc_section_display": true,
   "toc_window_display": false
  }
 },
 "nbformat": 4,
 "nbformat_minor": 2
}
