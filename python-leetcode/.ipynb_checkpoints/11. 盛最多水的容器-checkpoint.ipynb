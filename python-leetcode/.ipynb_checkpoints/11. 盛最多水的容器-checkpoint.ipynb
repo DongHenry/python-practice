{
 "cells": [
  {
   "cell_type": "markdown",
   "metadata": {},
   "source": [
    "#### 题目介绍\n",
    "给定 n 个非负整数 a1，a2，...，an，每个数代表坐标中的一个点 (i, ai) 。在坐标内画 n 条垂直线，垂直线 i 的两个端点分别为 (i, ai) 和 (i, 0)。找出其中的两条线，使得它们与 x 轴共同构成的容器可以容纳最多的水。\n",
    "\n",
    "说明：你不能倾斜容器，且 n 的值至少为 2。\n",
    "\n",
    "图中垂直线代表输入数组 [1,8,6,2,5,4,8,3,7]。在此情况下，容器能够容纳水（表示为蓝色部分）的最大值为 49。\n",
    "\n",
    " \n",
    "\n",
    "示例:\n",
    "\n",
    "输入: [1,8,6,2,5,4,8,3,7]\n",
    "\n",
    "输出: 49"
   ]
  },
  {
   "cell_type": "code",
   "execution_count": 88,
   "metadata": {
    "ExecuteTime": {
     "end_time": "2019-05-04T07:23:53.617610Z",
     "start_time": "2019-05-04T07:23:53.603675Z"
    }
   },
   "outputs": [
    {
     "data": {
      "text/plain": [
       "49"
      ]
     },
     "execution_count": 88,
     "metadata": {},
     "output_type": "execute_result"
    }
   ],
   "source": [
    "# Solution1 : 超出时间限制\n",
    "class Solution:\n",
    "    def maxArea(self, height):\n",
    "        \"\"\"\n",
    "        height_type: List[int]\n",
    "        r_type: int\n",
    "        \"\"\"\n",
    "        sorted_height = sorted(height, reverse=True)\n",
    "        index = []\n",
    "        for i, value1 in enumerate(height):\n",
    "            for j, value2 in enumerate(sorted_height[:int(len(height)/2)+1]):\n",
    "                if value1 == value2:\n",
    "                    index.append((i,value2))\n",
    "        index = list(set(index))\n",
    "        \n",
    "        area = []\n",
    "        for k, value3 in enumerate(index):\n",
    "            for h, value4 in enumerate(index):\n",
    "                area.append(abs(value3[0]-value4[0]) * min(value3[1], value4[1]))\n",
    "        return max(area)\n",
    "\n",
    "# Error : 超出时间限制\n",
    "height = [1,8,6,2,5,4,8,3,7]\n",
    "solution = Solution()\n",
    "solution.maxArea(height)\n",
    "\n",
    "# 暴力解法\n",
    "# 时间复杂度：O(n^2)\n",
    "# 空间复杂度:"
   ]
  },
  {
   "cell_type": "code",
   "execution_count": 99,
   "metadata": {
    "ExecuteTime": {
     "end_time": "2019-05-04T07:46:29.463837Z",
     "start_time": "2019-05-04T07:46:29.454581Z"
    }
   },
   "outputs": [
    {
     "data": {
      "text/plain": [
       "49"
      ]
     },
     "execution_count": 99,
     "metadata": {},
     "output_type": "execute_result"
    }
   ],
   "source": [
    "class Solution:\n",
    "    def maxArea(self, height):\n",
    "        \"\"\"\n",
    "        height_type: List[int]\n",
    "        r_type: int\n",
    "        \"\"\"\n",
    "        area = []\n",
    "        for i,value1 in enumerate(height):\n",
    "            for j, value2 in enumerate(height):\n",
    "                area.append(abs(i-j)*min(value1, value2))\n",
    "        return max(area)\n",
    "\n",
    "# Error : 超出时间限制\n",
    "height = [1,8,6,2,5,4,8,3,7]\n",
    "solution = Solution()\n",
    "solution.maxArea(height)  \n",
    "\n",
    "\n",
    "# 时间复杂度：\n",
    "# 空间复杂度:"
   ]
  },
  {
   "cell_type": "code",
   "execution_count": null,
   "metadata": {},
   "outputs": [],
   "source": [
    "# Not solution "
   ]
  }
 ],
 "metadata": {
  "kernelspec": {
   "display_name": "python pratice",
   "language": "python",
   "name": "env_name"
  },
  "language_info": {
   "codemirror_mode": {
    "name": "ipython",
    "version": 3
   },
   "file_extension": ".py",
   "mimetype": "text/x-python",
   "name": "python",
   "nbconvert_exporter": "python",
   "pygments_lexer": "ipython3",
   "version": "3.7.1"
  },
  "toc": {
   "base_numbering": 1,
   "nav_menu": {},
   "number_sections": true,
   "sideBar": true,
   "skip_h1_title": false,
   "title_cell": "Table of Contents",
   "title_sidebar": "Contents",
   "toc_cell": false,
   "toc_position": {},
   "toc_section_display": true,
   "toc_window_display": false
  }
 },
 "nbformat": 4,
 "nbformat_minor": 2
}
