{
 "cells": [
  {
   "cell_type": "markdown",
   "metadata": {},
   "source": [
    "#### 题目描述\n",
    "写一个 RecentCounter 类来计算最近的请求。\n",
    "\n",
    "它只有一个方法：ping(int t)，其中 t 代表以毫秒为单位的某个时间。\n",
    "\n",
    "返回从 3000 毫秒前到现在的 ping 数。\n",
    "\n",
    "任何处于 [t - 3000, t] 时间范围之内的 ping 都将会被计算在内，包括当前（指 t 时刻）的 ping。\n",
    "\n",
    "保证每次对 ping 的调用都使用比之前更大的 t 值。\n",
    "\n",
    " \n",
    "\n",
    "示例：\n",
    "\n",
    "- 输入：inputs = [\"RecentCounter\",\"ping\",\"ping\",\"ping\",\"ping\"], inputs = [[],[1],[100],[3001],[3002]]\n",
    "- 输出：[null,1,2,3,3]\n",
    " \n",
    "\n",
    "提示：\n",
    "\n",
    "- 每个测试用例最多调用 10000 次 ping。\n",
    "- 每个测试用例会使用严格递增的 t 值来调用 ping。\n",
    "- 每次调用 ping 都有 1 <= t <= 10^9。\n",
    "\n",
    "#### 思路\n",
    "使用栈和队列"
   ]
  },
  {
   "cell_type": "code",
   "execution_count": 16,
   "metadata": {
    "ExecuteTime": {
     "end_time": "2019-07-01T05:25:31.760087Z",
     "start_time": "2019-07-01T05:25:31.740870Z"
    }
   },
   "outputs": [
    {
     "data": {
      "text/plain": [
       "1"
      ]
     },
     "execution_count": 16,
     "metadata": {},
     "output_type": "execute_result"
    }
   ],
   "source": [
    "class RecentCounter(object):\n",
    "\n",
    "    def __init__(self):\n",
    "        self.stack = []\n",
    "\n",
    "    def ping(self, t):\n",
    "        \"\"\"\n",
    "        :type t: int\n",
    "        :rtype: int\n",
    "        \"\"\"\n",
    "        self.stack.append(t)\n",
    "        while True:\n",
    "            if self.stack and self.stack[0] + 3000 < t:\n",
    "                self.stack.pop(0)\n",
    "            else:\n",
    "                return len(self.stack)\n",
    "\n",
    "t = 3000\n",
    "obj = RecentCounter()\n",
    "obj.ping(t)"
   ]
  },
  {
   "cell_type": "code",
   "execution_count": null,
   "metadata": {},
   "outputs": [],
   "source": []
  }
 ],
 "metadata": {
  "kernelspec": {
   "display_name": "python pratice",
   "language": "python",
   "name": "env_name"
  },
  "language_info": {
   "codemirror_mode": {
    "name": "ipython",
    "version": 3
   },
   "file_extension": ".py",
   "mimetype": "text/x-python",
   "name": "python",
   "nbconvert_exporter": "python",
   "pygments_lexer": "ipython3",
   "version": "3.7.1"
  },
  "toc": {
   "base_numbering": 1,
   "nav_menu": {},
   "number_sections": true,
   "sideBar": true,
   "skip_h1_title": false,
   "title_cell": "Table of Contents",
   "title_sidebar": "Contents",
   "toc_cell": false,
   "toc_position": {},
   "toc_section_display": true,
   "toc_window_display": false
  }
 },
 "nbformat": 4,
 "nbformat_minor": 2
}
