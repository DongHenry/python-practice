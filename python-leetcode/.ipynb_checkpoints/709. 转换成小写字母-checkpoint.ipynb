{
 "cells": [
  {
   "cell_type": "markdown",
   "metadata": {},
   "source": [
    "#### 题目描述\n",
    "实现函数 ToLowerCase()，该函数接收一个字符串参数 str，并将该字符串中的大写字母转换成小写字母，之后返回新的字符串。\n",
    "\n",
    "示例 1：\n",
    "\n",
    "输入: \"Hello\"\n",
    "\n",
    "输出: \"hello\"\n",
    "\n",
    "#### 思路\n",
    "1. 直接使用内置函数\n",
    "2. 使用字典"
   ]
  },
  {
   "cell_type": "code",
   "execution_count": 4,
   "metadata": {
    "ExecuteTime": {
     "end_time": "2019-07-01T07:13:18.693798Z",
     "start_time": "2019-07-01T07:13:18.683899Z"
    }
   },
   "outputs": [
    {
     "data": {
      "text/plain": [
       "'hello'"
      ]
     },
     "execution_count": 4,
     "metadata": {},
     "output_type": "execute_result"
    }
   ],
   "source": [
    "class Solution(object):\n",
    "    def toLowerCase(self, str):\n",
    "        \"\"\"\n",
    "        :type str: str\n",
    "        :rtype: str\n",
    "        \"\"\"\n",
    "        return str.lower()\n",
    "        \n",
    "        \n",
    "str = \"Hello\"\n",
    "solution = Solution()\n",
    "solution.toLowerCase(str)"
   ]
  },
  {
   "cell_type": "code",
   "execution_count": 29,
   "metadata": {
    "ExecuteTime": {
     "end_time": "2019-07-02T00:57:54.821736Z",
     "start_time": "2019-07-02T00:57:54.805132Z"
    }
   },
   "outputs": [
    {
     "data": {
      "text/plain": [
       "'hello'"
      ]
     },
     "execution_count": 29,
     "metadata": {},
     "output_type": "execute_result"
    }
   ],
   "source": [
    "class Solution(object):\n",
    "    def toLowerCase(self, str):\n",
    "        \"\"\"\n",
    "        :type str: str\n",
    "        :rtype: str\n",
    "        \"\"\"\n",
    "        letters = {\n",
    "            'A': 'a',\n",
    "            'B': 'b',\n",
    "            'C': 'c',\n",
    "            'D': 'd',\n",
    "            'E': 'e',\n",
    "            'F': 'f',\n",
    "            'G': 'g',\n",
    "            'H': 'h',\n",
    "            'I': 'i',\n",
    "            'J': 'j',\n",
    "            'K': 'k',\n",
    "            'L': 'l',\n",
    "            'M': 'm',\n",
    "            'N': 'n',\n",
    "            'O': 'o',\n",
    "            'P': 'p',\n",
    "            'Q': 'q',\n",
    "            'R': 'r',\n",
    "            'S': 's',\n",
    "            'T': 't',\n",
    "            'U': 'u',\n",
    "            'V': 'v',\n",
    "            'W': 'w',\n",
    "            'X': 'x',\n",
    "            'Y': 'y',\n",
    "            'Z': 'z'\n",
    "        }\n",
    "        for ele in str:\n",
    "            if ele in letters:\n",
    "                str = str.replace(ele, letters[ele])\n",
    "        return str\n",
    "        \n",
    "str = \"Hello\"\n",
    "solution = Solution()\n",
    "solution.toLowerCase(str)"
   ]
  },
  {
   "cell_type": "code",
   "execution_count": null,
   "metadata": {},
   "outputs": [],
   "source": []
  }
 ],
 "metadata": {
  "kernelspec": {
   "display_name": "python pratice",
   "language": "python",
   "name": "env_name"
  },
  "language_info": {
   "codemirror_mode": {
    "name": "ipython",
    "version": 3
   },
   "file_extension": ".py",
   "mimetype": "text/x-python",
   "name": "python",
   "nbconvert_exporter": "python",
   "pygments_lexer": "ipython3",
   "version": "3.7.1"
  },
  "toc": {
   "base_numbering": 1,
   "nav_menu": {},
   "number_sections": true,
   "sideBar": true,
   "skip_h1_title": false,
   "title_cell": "Table of Contents",
   "title_sidebar": "Contents",
   "toc_cell": false,
   "toc_position": {},
   "toc_section_display": true,
   "toc_window_display": false
  }
 },
 "nbformat": 4,
 "nbformat_minor": 2
}
