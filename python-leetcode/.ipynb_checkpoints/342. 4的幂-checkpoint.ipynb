{
 "cells": [
  {
   "cell_type": "markdown",
   "metadata": {},
   "source": [
    "#### 题目描述\n",
    "给定一个整数 (32 位有符号整数)，请编写一个函数来判断它是否是 4 的幂次方。\n",
    "\n",
    "示例 1:\n",
    "\n",
    "- 输入: 16\n",
    "- 输出: true\n",
    "\n",
    "示例 2:\n",
    "\n",
    "- 输入: 5\n",
    "- 输出: false\n",
    "\n",
    "#### 思路：\n",
    "1. 累乘法\n",
    "2. 使用math的方法\n",
    "\n",
    "#### 注意\n",
    "- 2的幂、3的幂、4的幂为同一类型题解"
   ]
  },
  {
   "cell_type": "code",
   "execution_count": 3,
   "metadata": {
    "ExecuteTime": {
     "end_time": "2019-07-03T09:09:24.237159Z",
     "start_time": "2019-07-03T09:09:24.218220Z"
    }
   },
   "outputs": [
    {
     "data": {
      "text/plain": [
       "False"
      ]
     },
     "execution_count": 3,
     "metadata": {},
     "output_type": "execute_result"
    }
   ],
   "source": [
    "import math\n",
    "class Solution:\n",
    "    def isPowerOfFour(self, num: int) -> bool:\n",
    "        return num >0 and 4**math.ceil(math.log(num, 4)) == num\n",
    "    \n",
    "num = 5\n",
    "solution = Solution()\n",
    "solution.isPowerOfFour(num)"
   ]
  },
  {
   "cell_type": "code",
   "execution_count": 4,
   "metadata": {
    "ExecuteTime": {
     "end_time": "2019-07-03T09:10:03.785519Z",
     "start_time": "2019-07-03T09:10:03.778012Z"
    }
   },
   "outputs": [
    {
     "data": {
      "text/plain": [
       "False"
      ]
     },
     "execution_count": 4,
     "metadata": {},
     "output_type": "execute_result"
    }
   ],
   "source": [
    "class Solution:\n",
    "    def isPowerOfFour(self, num: int) -> bool:\n",
    "        result = 1\n",
    "        while result <= num:\n",
    "            if result == num:\n",
    "                return True\n",
    "            result *= 4\n",
    "        return False\n",
    "    \n",
    "num = 5\n",
    "solution = Solution()\n",
    "solution.isPowerOfFour(num)"
   ]
  },
  {
   "cell_type": "code",
   "execution_count": null,
   "metadata": {},
   "outputs": [],
   "source": []
  }
 ],
 "metadata": {
  "kernelspec": {
   "display_name": "python pratice",
   "language": "python",
   "name": "env_name"
  },
  "language_info": {
   "codemirror_mode": {
    "name": "ipython",
    "version": 3
   },
   "file_extension": ".py",
   "mimetype": "text/x-python",
   "name": "python",
   "nbconvert_exporter": "python",
   "pygments_lexer": "ipython3",
   "version": "3.7.1"
  },
  "toc": {
   "base_numbering": 1,
   "nav_menu": {},
   "number_sections": true,
   "sideBar": true,
   "skip_h1_title": false,
   "title_cell": "Table of Contents",
   "title_sidebar": "Contents",
   "toc_cell": false,
   "toc_position": {},
   "toc_section_display": true,
   "toc_window_display": false
  }
 },
 "nbformat": 4,
 "nbformat_minor": 2
}
