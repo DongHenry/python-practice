{
 "cells": [
  {
   "cell_type": "markdown",
   "metadata": {},
   "source": [
    "#### 题目描述\n",
    "两个整数之间的汉明距离指的是这两个数字对应二进制位不同的位置的数目。\n",
    "\n",
    "给出两个整数 x 和 y，计算它们之间的汉明距离。\n",
    "\n",
    "注意：\n",
    "0 ≤ x, y < 231.\n",
    "\n",
    "示例:\n",
    "\n",
    "- 输入: x = 1, y = 4\n",
    "\n",
    "- 输出: 2\n",
    "\n",
    "解释:\n",
    "- 1   (0 0 0 1)\n",
    "- 4   (0 1 0 0)\n",
    "\n",
    "#### 思路\n",
    "- ^ 按位异或运算符：当两对应的二进位相异时，结果为1\n",
    "- 返回按位异或运算结果中1的个数"
   ]
  },
  {
   "cell_type": "code",
   "execution_count": 8,
   "metadata": {
    "ExecuteTime": {
     "end_time": "2019-07-03T10:45:15.395612Z",
     "start_time": "2019-07-03T10:45:15.366553Z"
    }
   },
   "outputs": [
    {
     "data": {
      "text/plain": [
       "2"
      ]
     },
     "execution_count": 8,
     "metadata": {},
     "output_type": "execute_result"
    }
   ],
   "source": [
    "class Solution(object):\n",
    "    def hammingDistance(self, x, y):\n",
    "        \"\"\"\n",
    "        :type x: int\n",
    "        :type y: int\n",
    "        :rtype: int\n",
    "        \"\"\"\n",
    "        return bin(x^y).count('1')\n",
    "        \n",
    "        \n",
    "x, y = 1, 4\n",
    "solution = Solution()\n",
    "solution.hammingDistance(x, y)"
   ]
  },
  {
   "cell_type": "code",
   "execution_count": 4,
   "metadata": {
    "ExecuteTime": {
     "end_time": "2019-07-03T10:20:12.787762Z",
     "start_time": "2019-07-03T10:20:12.781798Z"
    }
   },
   "outputs": [
    {
     "name": "stdout",
     "output_type": "stream",
     "text": [
      "0b1 0b100 0b10001100\n"
     ]
    }
   ],
   "source": [
    "print(bin(1), bin(4), bin(140))"
   ]
  },
  {
   "cell_type": "code",
   "execution_count": null,
   "metadata": {},
   "outputs": [],
   "source": []
  }
 ],
 "metadata": {
  "kernelspec": {
   "display_name": "python pratice",
   "language": "python",
   "name": "env_name"
  },
  "language_info": {
   "codemirror_mode": {
    "name": "ipython",
    "version": 3
   },
   "file_extension": ".py",
   "mimetype": "text/x-python",
   "name": "python",
   "nbconvert_exporter": "python",
   "pygments_lexer": "ipython3",
   "version": "3.7.1"
  },
  "toc": {
   "base_numbering": 1,
   "nav_menu": {},
   "number_sections": true,
   "sideBar": true,
   "skip_h1_title": false,
   "title_cell": "Table of Contents",
   "title_sidebar": "Contents",
   "toc_cell": false,
   "toc_position": {},
   "toc_section_display": true,
   "toc_window_display": false
  }
 },
 "nbformat": 4,
 "nbformat_minor": 2
}
