{
 "cells": [
  {
   "cell_type": "markdown",
   "metadata": {},
   "source": [
    "#### 题目介绍\n",
    "罗马数字包含以下七种字符： I， V， X， L，C，D 和 M。\n",
    "\n",
    "字符          数值\n",
    "\n",
    "I             1\n",
    "\n",
    "V             5\n",
    "\n",
    "X             10\n",
    "\n",
    "L             50\n",
    "\n",
    "C             100\n",
    "\n",
    "D             500\n",
    "\n",
    "M             1000\n",
    "\n",
    "例如， 罗马数字 2 写做 II ，即为两个并列的 1。12 写做 XII ，即为 X + II 。 27 写做  XXVII, 即为 XX + V + II 。\n",
    "\n",
    "通常情况下，罗马数字中小的数字在大的数字的右边。但也存在特例，例如 4 不写做 IIII，而是 IV。数字 1 在数字 5 的左边，所表示的数等于大数 5 减小数 1 得到的数值 4 。同样地，数字 9 表示为 IX。这个特殊的规则只适用于以下六种情况：\n",
    "\n",
    "I 可以放在 V (5) 和 X (10) 的左边，来表示 4 和 9。\n",
    "\n",
    "X 可以放在 L (50) 和 C (100) 的左边，来表示 40 和 90。 \n",
    "\n",
    "C 可以放在 D (500) 和 M (1000) 的左边，来表示 400 和 900。\n",
    "\n",
    "给定一个整数，将其转为罗马数字。输入确保在 1 到 3999 的范围内。\n",
    "\n",
    "示例 1:\n",
    "\n",
    "输入: 3\n",
    "输出: \"III\"\n",
    "\n",
    "示例 2:\n",
    "\n",
    "输入: 4\n",
    "输出: \"IV\"\n",
    "\n",
    "示例 3:\n",
    "\n",
    "输入: 9\n",
    "输出: \"IX\"\n",
    "\n",
    "示例 4:\n",
    "\n",
    "输入: 58\n",
    "输出: \"LVIII\"\n",
    "解释: L = 50, V = 5, III = 3.\n",
    "\n",
    "示例 5:\n",
    "\n",
    "输入: 1994\n",
    "输出: \"MCMXCIV\"\n",
    "解释: M = 1000, CM = 900, XC = 90, IV = 4."
   ]
  },
  {
   "cell_type": "code",
   "execution_count": 111,
   "metadata": {
    "ExecuteTime": {
     "end_time": "2019-05-04T09:20:27.836997Z",
     "start_time": "2019-05-04T09:20:27.818576Z"
    }
   },
   "outputs": [
    {
     "data": {
      "text/plain": [
       "'DC'"
      ]
     },
     "execution_count": 111,
     "metadata": {},
     "output_type": "execute_result"
    }
   ],
   "source": [
    "class Solution:\n",
    "    def intToRoman(self, num: int) -> str:\n",
    "        dicts = {\n",
    "            0: '',\n",
    "            1: 'I',\n",
    "            2: 'II',\n",
    "            3: 'III',\n",
    "            4: 'IV',\n",
    "            5: 'V',\n",
    "            6: 'VI',\n",
    "            7: 'VII',\n",
    "            8: 'VIII',\n",
    "            9: 'IX',\n",
    "            10: 'X',\n",
    "            40: 'XL',\n",
    "            50: 'L',\n",
    "            60: 'LX',\n",
    "            70: 'LXX',\n",
    "            80: 'LXXX',\n",
    "            90: 'XC',\n",
    "            100: 'C',\n",
    "            400: 'CD',\n",
    "            500: 'D',\n",
    "            600: 'DC',\n",
    "            700: 'DCC',\n",
    "            800: 'DCCC',\n",
    "            900: 'CM',\n",
    "            1000: 'M'\n",
    "        }\n",
    "        bits = num % 10\n",
    "        hundred_bits = (num % 1000) - (num % 100)\n",
    "        ten_place = (num % 100) - bits\n",
    "        \n",
    "        ten = dicts[ten_place] if ten_place in dicts else int(ten_place/10)*dicts[10]\n",
    "        hundred = dicts[hundred_bits] if hundred_bits in dicts else int(hundred_bits/100)*dicts[100]\n",
    "        thousand = int((num - hundred_bits)/1000)*dicts[1000]\n",
    "        return thousand + hundred + ten + dicts[bits]\n",
    "\n",
    "    \n",
    "num = 600\n",
    "solution = Solution()\n",
    "solution.intToRoman(num)\n",
    "\n",
    "# 必须考虑到所有的条件\n",
    "# 执行用时 : 80 ms, 在Integer to Roman的Python3提交中击败了96.39% 的用户\n",
    "# 内存消耗 : 13.2 MB, 在Integer to Roman的Python3提交中击败了90.05% 的用户"
   ]
  },
  {
   "cell_type": "code",
   "execution_count": null,
   "metadata": {},
   "outputs": [],
   "source": [
    "\"MCMXCIV\""
   ]
  }
 ],
 "metadata": {
  "kernelspec": {
   "display_name": "python pratice",
   "language": "python",
   "name": "env_name"
  },
  "language_info": {
   "codemirror_mode": {
    "name": "ipython",
    "version": 3
   },
   "file_extension": ".py",
   "mimetype": "text/x-python",
   "name": "python",
   "nbconvert_exporter": "python",
   "pygments_lexer": "ipython3",
   "version": "3.7.1"
  },
  "toc": {
   "base_numbering": 1,
   "nav_menu": {},
   "number_sections": true,
   "sideBar": true,
   "skip_h1_title": false,
   "title_cell": "Table of Contents",
   "title_sidebar": "Contents",
   "toc_cell": false,
   "toc_position": {},
   "toc_section_display": true,
   "toc_window_display": false
  }
 },
 "nbformat": 4,
 "nbformat_minor": 2
}
