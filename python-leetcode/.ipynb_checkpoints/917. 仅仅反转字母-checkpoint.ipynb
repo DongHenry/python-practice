{
 "cells": [
  {
   "cell_type": "markdown",
   "metadata": {},
   "source": [
    "#### 题目描述\n",
    "给定一个字符串 S，返回 “反转后的” 字符串，其中不是字母的字符都保留在原地，而所有字母的位置发生反转。\n",
    "\n",
    " \n",
    "\n",
    "示例 1：\n",
    "\n",
    "- 输入：\"ab-cd\"\n",
    "- 输出：\"dc-ba\"\n",
    "\n",
    "示例 2：\n",
    "\n",
    "- 输入：\"a-bC-dEf-ghIj\"\n",
    "- 输出：\"j-Ih-gfE-dCba\"\n",
    "\n",
    "示例 3:\n",
    "\n",
    "- 输入：\"Test1ng-Leet=code-Q!\"\n",
    "- 输出：\"Qedo1ct-eeLg=ntse-T!\"\n",
    "\n",
    "#### 思路\n",
    "\n",
    "双指针：\n",
    "- 双指针，指向首部和尾部\n",
    "- 遇到非字母保持不变,指针向前或向后移动一位\n",
    "- 遇到字母，首部和尾部交换数据，指针向前或向后移动一位"
   ]
  },
  {
   "cell_type": "code",
   "execution_count": 6,
   "metadata": {
    "ExecuteTime": {
     "end_time": "2019-07-03T13:09:07.655759Z",
     "start_time": "2019-07-03T13:09:07.640340Z"
    }
   },
   "outputs": [
    {
     "data": {
      "text/plain": [
       "'Qedo1ct-eeLg=ntse-T!'"
      ]
     },
     "execution_count": 6,
     "metadata": {},
     "output_type": "execute_result"
    }
   ],
   "source": [
    "class Solution(object):\n",
    "    def reverseOnlyLetters(self, S):\n",
    "        \"\"\"\n",
    "        :type S: str\n",
    "        :rtype: str\n",
    "        \"\"\"\n",
    "        S = list(S)\n",
    "        front, end = 0, len(S) - 1\n",
    "        while front < end:\n",
    "            if not S[front].isalpha():\n",
    "                front += 1\n",
    "            elif not S[end].isalpha():\n",
    "                end -= 1\n",
    "            else:\n",
    "                S[front], S[end] = S[end], S[front]\n",
    "                front += 1\n",
    "                end -= 1\n",
    "        return \"\".join(S)\n",
    "                \n",
    "        \n",
    "# S = \"a-bC-dEf-ghIj\"\n",
    "S = \"Test1ng-Leet=code-Q!\"\n",
    "solution = Solution()\n",
    "solution.reverseOnlyLetters(S)"
   ]
  },
  {
   "cell_type": "code",
   "execution_count": null,
   "metadata": {},
   "outputs": [],
   "source": []
  }
 ],
 "metadata": {
  "kernelspec": {
   "display_name": "python pratice",
   "language": "python",
   "name": "env_name"
  },
  "language_info": {
   "codemirror_mode": {
    "name": "ipython",
    "version": 3
   },
   "file_extension": ".py",
   "mimetype": "text/x-python",
   "name": "python",
   "nbconvert_exporter": "python",
   "pygments_lexer": "ipython3",
   "version": "3.7.1"
  },
  "toc": {
   "base_numbering": 1,
   "nav_menu": {},
   "number_sections": true,
   "sideBar": true,
   "skip_h1_title": false,
   "title_cell": "Table of Contents",
   "title_sidebar": "Contents",
   "toc_cell": false,
   "toc_position": {},
   "toc_section_display": true,
   "toc_window_display": false
  }
 },
 "nbformat": 4,
 "nbformat_minor": 2
}
