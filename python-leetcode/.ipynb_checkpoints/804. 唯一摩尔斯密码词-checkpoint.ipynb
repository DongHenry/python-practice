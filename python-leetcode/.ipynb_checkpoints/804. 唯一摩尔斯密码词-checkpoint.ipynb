{
 "cells": [
  {
   "cell_type": "markdown",
   "metadata": {},
   "source": [
    "#### 题目描述\n",
    "国际摩尔斯密码定义一种标准编码方式，将每个字母对应于一个由一系列点和短线组成的字符串， 比如: \"a\" 对应 \".-\", \"b\" 对应 \"-...\", \"c\" 对应 \"-.-.\", 等等。\n",
    "\n",
    "为了方便，所有26个英文字母对应摩尔斯密码表如下：\n",
    "\n",
    "[\".-\",\"-...\",\"-.-.\",\"-..\",\".\",\"..-.\",\"--.\",\"....\",\"..\",\".---\",\"-.-\",\".-..\",\"--\",\"-.\",\"---\",\".--.\",\"--.-\",\".-.\",\"...\",\"-\",\"..-\",\"...-\",\".--\",\"-..-\",\"-.--\",\"--..\"]\n",
    "\n",
    "给定一个单词列表，每个单词可以写成每个字母对应摩尔斯密码的组合。\n",
    "\n",
    "例如，\"cab\" 可以写成 \"-.-..--...\"，(即 \"-.-.\" + \"-...\" + \".-\"字符串的结合)。我们将这样一个连接过程称作单词翻译。\n",
    "\n",
    "返回我们可以获得所有词不同单词翻译的数量。\n",
    "\n",
    "----\n",
    "例如:\n",
    "输入: words = [\"gin\", \"zen\", \"gig\", \"msg\"]\n",
    "输出: 2\n",
    "\n",
    "---\n",
    "注意:\n",
    "\n",
    "- 单词列表words 的长度不会超过 100。\n",
    "- 每个单词 words[i]的长度范围为 [1, 12]。\n",
    "- 每个单词 words[i]只包含小写字母。\n",
    "\n",
    "#### 思路\n",
    "1. 利用dict写英文字母与摩尔密码映射关系\n",
    "2. 遍历列表英文字母，输出对应摩尔密码\n",
    "3. 返回列表长度"
   ]
  },
  {
   "cell_type": "code",
   "execution_count": 10,
   "metadata": {
    "ExecuteTime": {
     "end_time": "2019-07-02T01:29:52.692416Z",
     "start_time": "2019-07-02T01:29:52.667916Z"
    }
   },
   "outputs": [
    {
     "data": {
      "text/plain": [
       "2"
      ]
     },
     "execution_count": 10,
     "metadata": {},
     "output_type": "execute_result"
    }
   ],
   "source": [
    "class Solution(object):\n",
    "    def uniqueMorseRepresentations(self, words):\n",
    "        \"\"\"\n",
    "        :type words: List[str]\n",
    "        :rtype: int\n",
    "        \"\"\"\n",
    "        dicts = {\n",
    "            \"a\": \".-\",\n",
    "            \"b\": \"-...\" ,\n",
    "            \"c\": \"-.-.\",\n",
    "            \"d\": \"-..\",\n",
    "            \"e\": \".\",\n",
    "            \"f\": \"..-.\",\n",
    "            \"g\": \"--.\",\n",
    "            \"h\": \"....\",\n",
    "            \"i\": \"..\",\n",
    "            \"j\": \".---\",\n",
    "            \"k\": \"-.-\",\n",
    "            \"l\": \".-..\",\n",
    "            \"m\": \"--\",\n",
    "            \"n\": \"-.\",\n",
    "            \"o\": \"---\",\n",
    "            \"p\": \".--.\",\n",
    "            \"q\": \"--.-\",\n",
    "            \"r\": \".-.\",\n",
    "            \"s\": \"...\",\n",
    "            \"t\": \"-\",\n",
    "            \"u\": \"..-\",\n",
    "            \"v\": \"...-\",\n",
    "            \"w\": \".--\",\n",
    "            \"x\": \"-..-\",\n",
    "            \"y\": \"-.--\",\n",
    "            \"z\": \"--..\"\n",
    "        }\n",
    "        result = []\n",
    "        for element in words:\n",
    "            str = \"\"\n",
    "            for w in element:\n",
    "                if w in dicts:\n",
    "                    str += dicts[w]\n",
    "            \n",
    "            if str not in result:\n",
    "                result.append(str)\n",
    "        return len(result)\n",
    "                    \n",
    "        \n",
    "words =  [\"gin\", \"zen\", \"gig\", \"msg\"] \n",
    "solution = Solution()\n",
    "solution.uniqueMorseRepresentations(words)"
   ]
  },
  {
   "cell_type": "code",
   "execution_count": null,
   "metadata": {},
   "outputs": [],
   "source": []
  }
 ],
 "metadata": {
  "kernelspec": {
   "display_name": "python pratice",
   "language": "python",
   "name": "env_name"
  },
  "language_info": {
   "codemirror_mode": {
    "name": "ipython",
    "version": 3
   },
   "file_extension": ".py",
   "mimetype": "text/x-python",
   "name": "python",
   "nbconvert_exporter": "python",
   "pygments_lexer": "ipython3",
   "version": "3.7.1"
  },
  "toc": {
   "base_numbering": 1,
   "nav_menu": {},
   "number_sections": true,
   "sideBar": true,
   "skip_h1_title": false,
   "title_cell": "Table of Contents",
   "title_sidebar": "Contents",
   "toc_cell": false,
   "toc_position": {},
   "toc_section_display": true,
   "toc_window_display": false
  }
 },
 "nbformat": 4,
 "nbformat_minor": 2
}
