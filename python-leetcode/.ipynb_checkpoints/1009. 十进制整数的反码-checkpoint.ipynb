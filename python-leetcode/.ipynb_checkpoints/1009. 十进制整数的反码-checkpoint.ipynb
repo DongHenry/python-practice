{
 "cells": [
  {
   "cell_type": "markdown",
   "metadata": {},
   "source": [
    "#### 题目描述\n",
    "每个非负整数 N 都有其二进制表示。例如， 5 可以被表示为二进制 \"101\"，11 可以用二进制 \"1011\" 表示，依此类推。注意，除 N = 0 外，任何二进制表示中都不含前导零。\n",
    "\n",
    "二进制的反码表示是将每个 1 改为 0 且每个 0 变为 1。例如，二进制数 \"101\" 的二进制反码为 \"010\"。\n",
    "\n",
    "给定十进制数 N，返回其二进制表示的反码所对应的十进制整数。\n",
    "\n",
    " \n",
    "\n",
    "示例 1：\n",
    "\n",
    "- 输入：5\n",
    "- 输出：2\n",
    "- 解释：5 的二进制表示为 \"101\"，其二进制反码为 \"010\"，也就是十进制中的 2 。\n",
    "\n",
    "#### 思路\n",
    "- 十进制转化为二进制\n",
    "- 二进制遍历转化为反码\n",
    "- 反码结果转化为十进制"
   ]
  },
  {
   "cell_type": "code",
   "execution_count": 20,
   "metadata": {
    "ExecuteTime": {
     "end_time": "2019-07-03T04:06:31.572554Z",
     "start_time": "2019-07-03T04:06:31.554224Z"
    }
   },
   "outputs": [
    {
     "data": {
      "text/plain": [
       "5"
      ]
     },
     "execution_count": 20,
     "metadata": {},
     "output_type": "execute_result"
    }
   ],
   "source": [
    "class Solution:\n",
    "    def bitwiseComplement(self, N: int) -> int:\n",
    "        result = 0\n",
    "        temp = list(bin(N)[2:][::-1])\n",
    "        for i, v in enumerate(temp):\n",
    "            if v == '1':\n",
    "                temp[i] = '0'\n",
    "            else:\n",
    "                temp[i] = '1'\n",
    "            result += int(temp[i])*(2**i)\n",
    "        return result\n",
    "                \n",
    "N = 10\n",
    "solution = Solution()\n",
    "solution.bitwiseComplement(N)"
   ]
  },
  {
   "cell_type": "code",
   "execution_count": 24,
   "metadata": {
    "ExecuteTime": {
     "end_time": "2019-07-03T04:16:04.067626Z",
     "start_time": "2019-07-03T04:16:04.053568Z"
    }
   },
   "outputs": [
    {
     "data": {
      "text/plain": [
       "5"
      ]
     },
     "execution_count": 24,
     "metadata": {},
     "output_type": "execute_result"
    }
   ],
   "source": [
    "class Solution:\n",
    "    def bitwiseComplement(self, N: int) -> int:\n",
    "        return int(\"\".join(['0' if i == '1' else '1' for i in bin(N)[2:]]), 2)\n",
    "        \n",
    "N = 10\n",
    "solution = Solution()\n",
    "solution.bitwiseComplement(N)"
   ]
  },
  {
   "cell_type": "code",
   "execution_count": null,
   "metadata": {},
   "outputs": [],
   "source": []
  }
 ],
 "metadata": {
  "kernelspec": {
   "display_name": "python pratice",
   "language": "python",
   "name": "env_name"
  },
  "language_info": {
   "codemirror_mode": {
    "name": "ipython",
    "version": 3
   },
   "file_extension": ".py",
   "mimetype": "text/x-python",
   "name": "python",
   "nbconvert_exporter": "python",
   "pygments_lexer": "ipython3",
   "version": "3.7.1"
  },
  "toc": {
   "base_numbering": 1,
   "nav_menu": {},
   "number_sections": true,
   "sideBar": true,
   "skip_h1_title": false,
   "title_cell": "Table of Contents",
   "title_sidebar": "Contents",
   "toc_cell": false,
   "toc_position": {},
   "toc_section_display": true,
   "toc_window_display": false
  }
 },
 "nbformat": 4,
 "nbformat_minor": 2
}
