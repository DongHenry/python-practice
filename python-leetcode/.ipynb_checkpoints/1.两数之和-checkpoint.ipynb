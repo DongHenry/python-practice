{
 "cells": [
  {
   "cell_type": "markdown",
   "metadata": {},
   "source": [
    "#### 题目介绍\n",
    "给定一个整数数组 nums 和一个目标值 target，请你在该数组中找出和为目标值的那 两个 整数，并返回他们的数组下标。\n",
    "\n",
    "你可以假设每种输入只会对应一个答案。但是，你不能重复利用这个数组中同样的元素。\n",
    "\n",
    "示例:\n",
    "\n",
    "给定 nums = [2, 7, 11, 15], target = 9\n",
    "\n",
    "因为 nums[0] + nums[1] = 2 + 7 = 9\n",
    "所以返回 [0, 1]"
   ]
  },
  {
   "cell_type": "code",
   "execution_count": 1,
   "metadata": {
    "ExecuteTime": {
     "end_time": "2019-04-29T11:11:00.173083Z",
     "start_time": "2019-04-29T11:11:00.159858Z"
    }
   },
   "outputs": [
    {
     "name": "stdout",
     "output_type": "stream",
     "text": [
      "[0, 1]\n",
      "[2, 3]\n"
     ]
    }
   ],
   "source": [
    "# Solution1：用list\n",
    "class Solution1(object):\n",
    "    def twoSum(self, nums, target):\n",
    "        \"\"\"\n",
    "        :type nums:List[int]\n",
    "        :type target: int\n",
    "        :rtype : List[int]\n",
    "        \"\"\"\n",
    "        output = []\n",
    "        for i, num in enumerate(nums):\n",
    "            if (target-num) in nums and i != nums.index(target-num):\n",
    "                output.extend((i,nums.index(target-num)))\n",
    "                return output\n",
    "\n",
    "# test case1：\n",
    "nums = [2, 7, 11, 15]\n",
    "target = 9\n",
    "print(Solution1().twoSum(nums, target))\n",
    "\n",
    "# test case2:\n",
    "nums = [1,9,11,3,4]\n",
    "target = 14\n",
    "print(Solution1().twoSum(nums, target))"
   ]
  },
  {
   "cell_type": "code",
   "execution_count": 2,
   "metadata": {
    "ExecuteTime": {
     "end_time": "2019-04-29T11:11:11.820641Z",
     "start_time": "2019-04-29T11:11:11.811694Z"
    }
   },
   "outputs": [
    {
     "name": "stdout",
     "output_type": "stream",
     "text": [
      "[0, 1]\n",
      "[2, 3]\n"
     ]
    }
   ],
   "source": [
    "# Solution1：用dict\n",
    "class Solution1(object):\n",
    "    def twoSum(self, nums, target):\n",
    "        \"\"\"\n",
    "        :type nums: List[int]\n",
    "        :type target: int\n",
    "        :rtype: List[int]\n",
    "        \"\"\"\n",
    "        output = {}\n",
    "        for i, num in enumerate(nums):\n",
    "            if target-num in output:\n",
    "                return [output[target-num],i]\n",
    "            output[num] = i\n",
    "\n",
    "            \n",
    "# test case1：\n",
    "nums = [2,7,11,15]\n",
    "target = 9\n",
    "print(Solution1().twoSum(nums, target))\n",
    "\n",
    "# test case2:\n",
    "nums = [1,9,11,3,4]\n",
    "target = 14\n",
    "print(Solution1().twoSum(nums, target))"
   ]
  },
  {
   "cell_type": "code",
   "execution_count": null,
   "metadata": {},
   "outputs": [],
   "source": []
  }
 ],
 "metadata": {
  "kernelspec": {
   "display_name": "python pratice",
   "language": "python",
   "name": "env_name"
  },
  "language_info": {
   "codemirror_mode": {
    "name": "ipython",
    "version": 3
   },
   "file_extension": ".py",
   "mimetype": "text/x-python",
   "name": "python",
   "nbconvert_exporter": "python",
   "pygments_lexer": "ipython3",
   "version": "3.7.1"
  },
  "toc": {
   "base_numbering": 1,
   "nav_menu": {},
   "number_sections": true,
   "sideBar": true,
   "skip_h1_title": false,
   "title_cell": "Table of Contents",
   "title_sidebar": "Contents",
   "toc_cell": false,
   "toc_position": {},
   "toc_section_display": true,
   "toc_window_display": false
  }
 },
 "nbformat": 4,
 "nbformat_minor": 2
}
