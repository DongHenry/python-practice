{
 "cells": [
  {
   "cell_type": "markdown",
   "metadata": {},
   "source": [
    "#### 题目描述\n",
    "给定一个正整数 N，找到并返回 N 的二进制表示中两个连续的 1 之间的最长距离。 \n",
    "\n",
    "如果没有两个连续的 1，返回 0 。\n",
    "\n",
    " \n",
    "\n",
    "示例 1：\n",
    "\n",
    "- 输入：22\n",
    "- 输出：2\n",
    "\n",
    "解释：\n",
    "- 22 的二进制是 0b10110 。\n",
    "- 在 22 的二进制表示中，有三个 1，组成两对连续的 1 。\n",
    "- 第一对连续的 1 中，两个 1 之间的距离为 2 。\n",
    "- 第二对连续的 1 中，两个 1 之间的距离为 1 。\n",
    "- 答案取两个距离之中最大的，也就是 2 。\n",
    "\n",
    "---\n",
    "#### 思路\n",
    "正常解法\n",
    "- 遍历，记录两个连续的1之间的距离\n",
    "- 比较记录的距离的最大值"
   ]
  },
  {
   "cell_type": "code",
   "execution_count": 12,
   "metadata": {
    "ExecuteTime": {
     "end_time": "2019-07-03T03:36:17.949541Z",
     "start_time": "2019-07-03T03:36:17.935767Z"
    }
   },
   "outputs": [
    {
     "data": {
      "text/plain": [
       "2"
      ]
     },
     "execution_count": 12,
     "metadata": {},
     "output_type": "execute_result"
    }
   ],
   "source": [
    "class Solution:\n",
    "    def binaryGap(self, N: int) -> int:\n",
    "        result, last_one = 0, 0\n",
    "        for i, v in enumerate(bin(N)[2:]):\n",
    "            if v == '1':\n",
    "                result = max(result, i - last_one)\n",
    "                last_one = i\n",
    "        return result\n",
    "                      \n",
    "N = 22\n",
    "solution = Solution()\n",
    "solution.binaryGap(N)"
   ]
  },
  {
   "cell_type": "code",
   "execution_count": null,
   "metadata": {},
   "outputs": [],
   "source": []
  }
 ],
 "metadata": {
  "kernelspec": {
   "display_name": "python pratice",
   "language": "python",
   "name": "env_name"
  },
  "language_info": {
   "codemirror_mode": {
    "name": "ipython",
    "version": 3
   },
   "file_extension": ".py",
   "mimetype": "text/x-python",
   "name": "python",
   "nbconvert_exporter": "python",
   "pygments_lexer": "ipython3",
   "version": "3.7.1"
  },
  "toc": {
   "base_numbering": 1,
   "nav_menu": {},
   "number_sections": true,
   "sideBar": true,
   "skip_h1_title": false,
   "title_cell": "Table of Contents",
   "title_sidebar": "Contents",
   "toc_cell": false,
   "toc_position": {},
   "toc_section_display": true,
   "toc_window_display": false
  }
 },
 "nbformat": 4,
 "nbformat_minor": 2
}
