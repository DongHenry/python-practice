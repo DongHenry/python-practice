{
 "cells": [
  {
   "cell_type": "markdown",
   "metadata": {},
   "source": [
    "给定一个整数，写一个函数来判断它是否是 3 的幂次方。\n",
    "\n",
    "示例 1:\n",
    "\n",
    "- 输入: 27\n",
    "- 输出: true\n",
    "\n",
    "示例 2:\n",
    "\n",
    "- 输入: 0\n",
    "- 输出: false\n",
    "\n",
    "示例 3:\n",
    "\n",
    "- 输入: 9\n",
    "- 输出: true"
   ]
  },
  {
   "cell_type": "code",
   "execution_count": 11,
   "metadata": {
    "ExecuteTime": {
     "end_time": "2019-07-03T08:58:17.995007Z",
     "start_time": "2019-07-03T08:58:17.986856Z"
    }
   },
   "outputs": [
    {
     "data": {
      "text/plain": [
       "True"
      ]
     },
     "execution_count": 11,
     "metadata": {},
     "output_type": "execute_result"
    }
   ],
   "source": [
    "import math\n",
    "class Solution:\n",
    "    def isPowerOfThree(self, n: int) -> bool:\n",
    "        return n >0 and 3**math.ceil(math.log(n, 3)) == n\n",
    "    \n",
    "n = 243\n",
    "solution = Solution()\n",
    "solution.isPowerOfThree(n)"
   ]
  },
  {
   "cell_type": "markdown",
   "metadata": {},
   "source": [
    "#### 累乘法"
   ]
  },
  {
   "cell_type": "code",
   "execution_count": 16,
   "metadata": {
    "ExecuteTime": {
     "end_time": "2019-07-03T09:02:26.159541Z",
     "start_time": "2019-07-03T09:02:26.146349Z"
    }
   },
   "outputs": [
    {
     "data": {
      "text/plain": [
       "False"
      ]
     },
     "execution_count": 16,
     "metadata": {},
     "output_type": "execute_result"
    }
   ],
   "source": [
    "\n",
    "class Solution:\n",
    "    def isPowerOfThree(self, n: int) -> bool:\n",
    "        result = 1\n",
    "        while result <= n:\n",
    "            if result == n:\n",
    "                return True\n",
    "            result *= 3\n",
    "        return False   \n",
    "        \n",
    "n = 0\n",
    "solution = Solution()\n",
    "solution.isPowerOfThree(n)"
   ]
  },
  {
   "cell_type": "code",
   "execution_count": null,
   "metadata": {},
   "outputs": [],
   "source": []
  }
 ],
 "metadata": {
  "kernelspec": {
   "display_name": "python pratice",
   "language": "python",
   "name": "env_name"
  },
  "language_info": {
   "codemirror_mode": {
    "name": "ipython",
    "version": 3
   },
   "file_extension": ".py",
   "mimetype": "text/x-python",
   "name": "python",
   "nbconvert_exporter": "python",
   "pygments_lexer": "ipython3",
   "version": "3.7.1"
  },
  "toc": {
   "base_numbering": 1,
   "nav_menu": {},
   "number_sections": true,
   "sideBar": true,
   "skip_h1_title": false,
   "title_cell": "Table of Contents",
   "title_sidebar": "Contents",
   "toc_cell": false,
   "toc_position": {},
   "toc_section_display": true,
   "toc_window_display": false
  }
 },
 "nbformat": 4,
 "nbformat_minor": 2
}
