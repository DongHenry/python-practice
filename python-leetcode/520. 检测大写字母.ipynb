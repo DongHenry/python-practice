{
 "cells": [
  {
   "cell_type": "markdown",
   "metadata": {},
   "source": [
    "#### 题目描述\n",
    "给定一个单词，你需要判断单词的大写使用是否正确。\n",
    "\n",
    "我们定义，在以下情况时，单词的大写用法是正确的：\n",
    "\n",
    "- 全部字母都是大写，比如\"USA\"。\n",
    "- 单词中所有字母都不是大写，比如\"leetcode\"。\n",
    "- 如果单词不只含有一个字母，只有首字母大写， 比如 \"Google\"。\n",
    "- 否则，我们定义这个单词没有正确使用大写字母。\n",
    "\n",
    "示例 1:\n",
    "\n",
    "- 输入: \"USA\"\n",
    "- 输出: True\n",
    "\n",
    "示例 2:\n",
    "\n",
    "- 输入: \"FlaG\"\n",
    "- 输出: False\n",
    "\n",
    "注意: 输入是由大写和小写拉丁字母组成的非空单词。\n",
    "#### 思路\n",
    "---\n",
    "Python title() 方法返回\"标题化\"的字符串,就是说所有单词都是以大写开始，其余字母均为小写\n",
    "\n",
    "字符串方法\n",
    "- string.islower() 判断字符串是否全部小写\n",
    "- string.upper() 判断字符串是否全部大写\n",
    "- string.istitle() 判断字符串是否为‘标题华字符串’"
   ]
  },
  {
   "cell_type": "code",
   "execution_count": 4,
   "metadata": {
    "ExecuteTime": {
     "end_time": "2019-07-02T06:07:45.650435Z",
     "start_time": "2019-07-02T06:07:45.641576Z"
    }
   },
   "outputs": [
    {
     "data": {
      "text/plain": [
       "True"
      ]
     },
     "execution_count": 4,
     "metadata": {},
     "output_type": "execute_result"
    }
   ],
   "source": [
    "class Solution(object):\n",
    "    def detectCapitalUse(self, word):\n",
    "        \"\"\"\n",
    "        :type word: str\n",
    "        :rtype: bool\n",
    "        \"\"\"\n",
    "        if word.islower() or word.isupper():\n",
    "            return True\n",
    "        elif word[0].isupper() and word[1:].islower():\n",
    "            return True\n",
    "        else:\n",
    "            return False\n",
    "        \n",
    "word = \"Flag\"\n",
    "solution = Solution()\n",
    "solution.detectCapitalUse(word)"
   ]
  },
  {
   "cell_type": "code",
   "execution_count": 9,
   "metadata": {
    "ExecuteTime": {
     "end_time": "2019-07-02T06:17:20.339244Z",
     "start_time": "2019-07-02T06:17:20.329269Z"
    }
   },
   "outputs": [
    {
     "data": {
      "text/plain": [
       "True"
      ]
     },
     "execution_count": 9,
     "metadata": {},
     "output_type": "execute_result"
    }
   ],
   "source": [
    "class Solution(object):\n",
    "    def detectCapitalUse(self, word):\n",
    "        \"\"\"\n",
    "        :type word: str\n",
    "        :rtype: bool\n",
    "        \"\"\"\n",
    "        return True if word.islower() or word.isupper() or word.istitle() else False\n",
    "    \n",
    "word = \"Flag\"\n",
    "solution = Solution()\n",
    "solution.detectCapitalUse(word)"
   ]
  },
  {
   "cell_type": "code",
   "execution_count": null,
   "metadata": {},
   "outputs": [],
   "source": []
  }
 ],
 "metadata": {
  "kernelspec": {
   "display_name": "python pratice",
   "language": "python",
   "name": "env_name"
  },
  "language_info": {
   "codemirror_mode": {
    "name": "ipython",
    "version": 3
   },
   "file_extension": ".py",
   "mimetype": "text/x-python",
   "name": "python",
   "nbconvert_exporter": "python",
   "pygments_lexer": "ipython3",
   "version": "3.7.1"
  },
  "toc": {
   "base_numbering": 1,
   "nav_menu": {},
   "number_sections": true,
   "sideBar": true,
   "skip_h1_title": false,
   "title_cell": "Table of Contents",
   "title_sidebar": "Contents",
   "toc_cell": false,
   "toc_position": {},
   "toc_section_display": true,
   "toc_window_display": false
  }
 },
 "nbformat": 4,
 "nbformat_minor": 2
}
