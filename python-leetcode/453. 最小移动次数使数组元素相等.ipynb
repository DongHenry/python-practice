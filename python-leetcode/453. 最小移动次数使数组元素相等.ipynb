{
 "cells": [
  {
   "cell_type": "markdown",
   "metadata": {},
   "source": [
    "#### 题目描述\n",
    "给定一个长度为 n 的非空整数数组，找到让数组所有元素相等的最小移动次数。每次移动可以使 n - 1 个元素增加 1。\n",
    "\n",
    "示例:\n",
    "\n",
    "输入:\n",
    "[1,2,3]\n",
    "\n",
    "输出:\n",
    "3\n",
    "\n",
    "解释:\n",
    "- 只需要3次移动（注意每次移动会增加两个元素的值）：\n",
    "\n",
    "- [1,2,3]  =>  [2,3,3]  =>  [3,4,3]  =>  [4,4,4]\n",
    "\n",
    "\n",
    "#### 思路\n",
    "注意： n-1个数同时加一"
   ]
  },
  {
   "cell_type": "code",
   "execution_count": 13,
   "metadata": {
    "ExecuteTime": {
     "end_time": "2019-07-03T06:16:49.474960Z",
     "start_time": "2019-07-03T06:16:49.455461Z"
    }
   },
   "outputs": [
    {
     "data": {
      "text/plain": [
       "1"
      ]
     },
     "execution_count": 13,
     "metadata": {},
     "output_type": "execute_result"
    }
   ],
   "source": [
    "# 此解法为错误解法，会超时\n",
    "# 输入 nums = [1,2147483647]\n",
    "class Solution(object):\n",
    "    def minMoves(self, nums):\n",
    "        \"\"\"\n",
    "        :type nums: List[int]\n",
    "        :rtype: int\n",
    "        \"\"\"\n",
    "        # 记录操作次数\n",
    "        count = 0\n",
    "        while True:\n",
    "            nums = sorted(nums)\n",
    "            # 判断数组元素值是否相等\n",
    "            if nums.count(nums[0]) == len(nums):\n",
    "                break\n",
    "            else:\n",
    "                for i,v  in enumerate(nums[:-1]):\n",
    "                    nums[i] += 1\n",
    "                count += 1\n",
    "                continue\n",
    "        return count\n",
    "    \n",
    "nums = [1, 2]\n",
    "solution = Solution()\n",
    "solution.minMoves(nums)"
   ]
  },
  {
   "cell_type": "markdown",
   "metadata": {},
   "source": [
    "#### 思路2\n",
    "n-1个数同时加一，就好比每次有一个数自身减一，因为只能做减法，所以数组最后的数只能是最小值。这样的话每个元素减去最小值求其和就是答案。"
   ]
  },
  {
   "cell_type": "code",
   "execution_count": 14,
   "metadata": {
    "ExecuteTime": {
     "end_time": "2019-07-03T06:30:16.320865Z",
     "start_time": "2019-07-03T06:30:16.306692Z"
    }
   },
   "outputs": [
    {
     "data": {
      "text/plain": [
       "1"
      ]
     },
     "execution_count": 14,
     "metadata": {},
     "output_type": "execute_result"
    }
   ],
   "source": [
    "class Solution(object):\n",
    "    def minMoves(self, nums):\n",
    "        \"\"\"\n",
    "        :type nums: List[int]\n",
    "        :rtype: int\n",
    "        \"\"\"\n",
    "        sums = 0\n",
    "        min_value = min(nums)\n",
    "        for i in nums:\n",
    "            sums += i - min_value\n",
    "        return sums\n",
    "        \n",
    "nums = [1, 2]\n",
    "solution = Solution()\n",
    "solution.minMoves(nums)"
   ]
  },
  {
   "cell_type": "code",
   "execution_count": null,
   "metadata": {},
   "outputs": [],
   "source": []
  }
 ],
 "metadata": {
  "kernelspec": {
   "display_name": "python pratice",
   "language": "python",
   "name": "env_name"
  },
  "language_info": {
   "codemirror_mode": {
    "name": "ipython",
    "version": 3
   },
   "file_extension": ".py",
   "mimetype": "text/x-python",
   "name": "python",
   "nbconvert_exporter": "python",
   "pygments_lexer": "ipython3",
   "version": "3.7.1"
  },
  "toc": {
   "base_numbering": 1,
   "nav_menu": {},
   "number_sections": true,
   "sideBar": true,
   "skip_h1_title": false,
   "title_cell": "Table of Contents",
   "title_sidebar": "Contents",
   "toc_cell": false,
   "toc_position": {},
   "toc_section_display": true,
   "toc_window_display": false
  }
 },
 "nbformat": 4,
 "nbformat_minor": 2
}
