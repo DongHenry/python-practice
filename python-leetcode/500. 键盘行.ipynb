{
 "cells": [
  {
   "cell_type": "markdown",
   "metadata": {},
   "source": [
    "#### 题目描述\n",
    "\n",
    "给定一个单词列表，只返回可以使用在键盘同一行的字母打印出来的单词。键盘如下图所示。\n",
    "\n",
    "示例：\n",
    "\n",
    "- 输入: [\"Hello\", \"Alaska\", \"Dad\", \"Peace\"]\n",
    "- 输出: [\"Alaska\", \"Dad\"]\n",
    " \n",
    "\n",
    "注意：\n",
    "\n",
    "- 你可以重复使用键盘上同一字符。\n",
    "- 你可以假设输入的字符串将只包含字母。"
   ]
  },
  {
   "cell_type": "code",
   "execution_count": 1,
   "metadata": {
    "ExecuteTime": {
     "end_time": "2019-07-03T15:46:54.204022Z",
     "start_time": "2019-07-03T15:46:54.198215Z"
    }
   },
   "outputs": [],
   "source": [
    "class Solution(object):\n",
    "    def findWords(self, words):\n",
    "        \"\"\"\n",
    "        :type words: List[str]\n",
    "        :rtype: List[str]\n",
    "        \"\"\"\n",
    "        first = set('QWERTYUIOPqwertyuiop')\n",
    "        second = set('ASDFGHJKLasdfghjkl')\n",
    "        third = set('ZXCVBNMzxcvbnm')\n",
    "        \n",
    "        result = []\n",
    "        for value in words:\n",
    "            temp = set(value)\n",
    "            if temp <= first or temp <= second or temp <= third:\n",
    "                result.append(value)\n",
    "        return result"
   ]
  },
  {
   "cell_type": "code",
   "execution_count": null,
   "metadata": {},
   "outputs": [],
   "source": []
  }
 ],
 "metadata": {
  "kernelspec": {
   "display_name": "python pratice",
   "language": "python",
   "name": "env_name"
  },
  "language_info": {
   "codemirror_mode": {
    "name": "ipython",
    "version": 3
   },
   "file_extension": ".py",
   "mimetype": "text/x-python",
   "name": "python",
   "nbconvert_exporter": "python",
   "pygments_lexer": "ipython3",
   "version": "3.7.1"
  },
  "toc": {
   "base_numbering": 1,
   "nav_menu": {},
   "number_sections": true,
   "sideBar": true,
   "skip_h1_title": false,
   "title_cell": "Table of Contents",
   "title_sidebar": "Contents",
   "toc_cell": false,
   "toc_position": {},
   "toc_section_display": true,
   "toc_window_display": false
  }
 },
 "nbformat": 4,
 "nbformat_minor": 2
}
