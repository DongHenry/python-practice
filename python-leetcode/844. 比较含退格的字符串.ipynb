{
 "cells": [
  {
   "cell_type": "markdown",
   "metadata": {},
   "source": [
    "#### 题目描述\n",
    "给定 S 和 T 两个字符串，当它们分别被输入到空白的文本编辑器后，判断二者是否相等，并返回结果。 # 代表退格字符。\n",
    "\n",
    "示例 1：\n",
    "\n",
    "输入：S = \"ab#c\", T = \"ad#c\"\n",
    "\n",
    "输出：true\n",
    "\n",
    "解释：S 和 T 都会变成 “ac”。\n",
    "\n",
    "#### 思路\n",
    "使用栈的思想\n",
    "- 初始化两个栈\n",
    "- 遇到“#”字符，出栈\n",
    "- 其他的字符，入栈\n",
    "- 最后比较两个栈的值"
   ]
  },
  {
   "cell_type": "code",
   "execution_count": 5,
   "metadata": {
    "ExecuteTime": {
     "end_time": "2019-07-01T01:57:15.012515Z",
     "start_time": "2019-07-01T01:57:14.996510Z"
    }
   },
   "outputs": [
    {
     "data": {
      "text/plain": [
       "True"
      ]
     },
     "execution_count": 5,
     "metadata": {},
     "output_type": "execute_result"
    }
   ],
   "source": [
    "class Solution(object):\n",
    "    def backspaceCompare(self, S, T):\n",
    "        \"\"\"\n",
    "        :type S: str\n",
    "        :type T: str\n",
    "        :rtype: bool\n",
    "        \"\"\"\n",
    "        stack1 = []\n",
    "        stack2 = []\n",
    "        for s1 in S:\n",
    "            if s1 == \"#\":\n",
    "                if stack1:stack1.pop()\n",
    "            else:\n",
    "                stack1.append(s1)\n",
    "        \n",
    "        for s2 in T:\n",
    "            if s2 == \"#\":\n",
    "                if stack2:stack2.pop()\n",
    "            else:\n",
    "                stack2.append(s2)\n",
    "        if stack1 == stack2:\n",
    "            return True\n",
    "        else:\n",
    "            return False\n",
    "        \n",
    "\n",
    "# S = \"ab#c\"\n",
    "# T = \"ad#c\"\n",
    "S = \"ab##\"\n",
    "T = \"c#d#\"\n",
    "solution = Solution()\n",
    "solution.backspaceCompare(S, T)"
   ]
  },
  {
   "cell_type": "code",
   "execution_count": null,
   "metadata": {},
   "outputs": [],
   "source": []
  }
 ],
 "metadata": {
  "kernelspec": {
   "display_name": "python pratice",
   "language": "python",
   "name": "env_name"
  },
  "language_info": {
   "codemirror_mode": {
    "name": "ipython",
    "version": 3
   },
   "file_extension": ".py",
   "mimetype": "text/x-python",
   "name": "python",
   "nbconvert_exporter": "python",
   "pygments_lexer": "ipython3",
   "version": "3.7.1"
  },
  "toc": {
   "base_numbering": 1,
   "nav_menu": {},
   "number_sections": true,
   "sideBar": true,
   "skip_h1_title": false,
   "title_cell": "Table of Contents",
   "title_sidebar": "Contents",
   "toc_cell": false,
   "toc_position": {},
   "toc_section_display": true,
   "toc_window_display": false
  }
 },
 "nbformat": 4,
 "nbformat_minor": 2
}
