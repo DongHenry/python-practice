{
 "cells": [
  {
   "cell_type": "markdown",
   "metadata": {},
   "source": [
    "将两个有序链表合并为一个新的有序链表并返回。新链表是通过拼接给定的两个链表的所有节点组成的。 \n",
    "\n",
    "示例：\n",
    "\n",
    "输入：1->2->4, 1->3->4\n",
    "\n",
    "输出：1->1->2->3->4->4"
   ]
  },
  {
   "cell_type": "code",
   "execution_count": 20,
   "metadata": {
    "ExecuteTime": {
     "end_time": "2019-05-31T10:28:08.043497Z",
     "start_time": "2019-05-31T10:28:08.031205Z"
    }
   },
   "outputs": [],
   "source": [
    "# Definition for singly-linked list.\n",
    "class ListNode:\n",
    "    def __init__(self, x):\n",
    "        self.val = x\n",
    "        self.next = None\n",
    "\n",
    "class Solution:\n",
    "    def mergeTwoLists(self, l1, l2):\n",
    "        \"\"\"\n",
    "        l1_type: ListNode\n",
    "        l2_type: ListNode\n",
    "        r_type: ListNode\n",
    "        \"\"\"\n",
    "        if l1 is None:\n",
    "            return l2\n",
    "        if l2 is None:\n",
    "            return l1\n",
    "        \n",
    "        all_elements = []\n",
    "        while(l1 or l2 != None):\n",
    "            val1 = 0\n",
    "            val2 = 0\n",
    "            if l1:\n",
    "                val1 = l1.val\n",
    "                all_elements.append(val1)\n",
    "                l1 = l1.next\n",
    "            if l2:\n",
    "                val2 = l2.val\n",
    "                all_elements.append(val2)\n",
    "                l2 = l2.next\n",
    "        \n",
    "        is_first = True\n",
    "        head = None\n",
    "        current_node = None\n",
    "        for node in sorted(all_elements):\n",
    "            node = ListNode(node)\n",
    "            if is_first:\n",
    "                current_node = node\n",
    "                head = current_node\n",
    "                is_first = False\n",
    "            else:\n",
    "                current_node.next = node\n",
    "                current_node = current_node.next\n",
    "        return head\n",
    "                \n",
    "if __name__ == '__main__':\n",
    "    solution = Solution()\n",
    "    l1 = ListNode(1)\n",
    "    e1 = ListNode(2)\n",
    "    e2 = ListNode(3)\n",
    "    l1.next = e1\n",
    "    e1.next = e2\n",
    "    \n",
    "    l2 = ListNode(1)\n",
    "    e3 = ListNode(3)\n",
    "    e4 = ListNode(4)\n",
    "    l2.next = e3\n",
    "    e3.next = e4\n",
    "    \n",
    "    solution.mergeTwoLists(l1, l2)"
   ]
  },
  {
   "cell_type": "code",
   "execution_count": null,
   "metadata": {},
   "outputs": [],
   "source": []
  }
 ],
 "metadata": {
  "kernelspec": {
   "display_name": "python pratice",
   "language": "python",
   "name": "env_name"
  },
  "language_info": {
   "codemirror_mode": {
    "name": "ipython",
    "version": 3
   },
   "file_extension": ".py",
   "mimetype": "text/x-python",
   "name": "python",
   "nbconvert_exporter": "python",
   "pygments_lexer": "ipython3",
   "version": "3.7.1"
  },
  "toc": {
   "base_numbering": 1,
   "nav_menu": {},
   "number_sections": true,
   "sideBar": true,
   "skip_h1_title": false,
   "title_cell": "Table of Contents",
   "title_sidebar": "Contents",
   "toc_cell": false,
   "toc_position": {},
   "toc_section_display": true,
   "toc_window_display": false
  }
 },
 "nbformat": 4,
 "nbformat_minor": 2
}
