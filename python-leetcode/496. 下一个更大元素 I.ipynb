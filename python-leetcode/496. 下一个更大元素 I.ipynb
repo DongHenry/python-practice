{
 "cells": [
  {
   "cell_type": "markdown",
   "metadata": {},
   "source": [
    "#### 题目描述\n",
    "给定两个没有重复元素的数组 nums1 和 nums2 ，其中nums1 是 nums2 的子集。找到 nums1 中每个元素在 nums2 中的下一个比其大的值。\n",
    "\n",
    "nums1 中数字 x 的下一个更大元素是指 x 在 nums2 中对应位置的右边的第一个比 x 大的元素。如果不存在，对应位置输出-1。\n",
    "\n",
    "示例 1:\n",
    "\n",
    "输入: nums1 = [4,1,2], nums2 = [1,3,4,2].\n",
    "\n",
    "输出: [-1,3,-1]\n",
    "\n",
    "解释:\n",
    "- 对于num1中的数字4，你无法在第二个数组中找到下一个更大的数字，因此输出 -1。\n",
    "- 对于num1中的数字1，第二个数组中数字1右边的下一个较大数字是 3。\n",
    "- 对于num1中的数字2，第二个数组中没有下一个更大的数字，因此输出 -1。"
   ]
  },
  {
   "cell_type": "code",
   "execution_count": 11,
   "metadata": {
    "ExecuteTime": {
     "end_time": "2019-07-01T01:22:13.105993Z",
     "start_time": "2019-07-01T01:22:13.093989Z"
    }
   },
   "outputs": [
    {
     "data": {
      "text/plain": [
       "[-1, 3, -1]"
      ]
     },
     "execution_count": 11,
     "metadata": {},
     "output_type": "execute_result"
    }
   ],
   "source": [
    "class Solution(object):\n",
    "    def nextGreaterElement(self, nums1, nums2):\n",
    "        \"\"\"\n",
    "        :type nums1: List[int]\n",
    "        :type nums2: List[int]\n",
    "        :rtype: List[int]\n",
    "        \"\"\"\n",
    "        result = []\n",
    "        for i, n1 in enumerate(nums1):\n",
    "            if nums2.index(n1) +1 >= len(nums2):\n",
    "                result.append(-1)\n",
    "            for n2 in nums2[nums2.index(n1)+1:]:\n",
    "                if n2 > n1:\n",
    "                    result.append(n2)\n",
    "                    break\n",
    "            if len(result) != i+1:\n",
    "                result.append(-1)\n",
    "        return result\n",
    "                    \n",
    "                    \n",
    "nums1 = [4, 1, 2]\n",
    "nums2 = [1, 3, 4, 2]\n",
    "solution = Solution()\n",
    "solution.nextGreaterElement(nums1, nums2)"
   ]
  },
  {
   "cell_type": "code",
   "execution_count": null,
   "metadata": {},
   "outputs": [],
   "source": []
  }
 ],
 "metadata": {
  "kernelspec": {
   "display_name": "python pratice",
   "language": "python",
   "name": "env_name"
  },
  "language_info": {
   "codemirror_mode": {
    "name": "ipython",
    "version": 3
   },
   "file_extension": ".py",
   "mimetype": "text/x-python",
   "name": "python",
   "nbconvert_exporter": "python",
   "pygments_lexer": "ipython3",
   "version": "3.7.1"
  },
  "toc": {
   "base_numbering": 1,
   "nav_menu": {},
   "number_sections": true,
   "sideBar": true,
   "skip_h1_title": false,
   "title_cell": "Table of Contents",
   "title_sidebar": "Contents",
   "toc_cell": false,
   "toc_position": {},
   "toc_section_display": true,
   "toc_window_display": false
  }
 },
 "nbformat": 4,
 "nbformat_minor": 2
}
