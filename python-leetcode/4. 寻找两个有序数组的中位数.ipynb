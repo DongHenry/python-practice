{
 "cells": [
  {
   "cell_type": "markdown",
   "metadata": {},
   "source": [
    "#### 题目描述\n",
    "给定两个大小为 m 和 n 的有序数组 nums1 和 nums2。\n",
    "\n",
    "请你找出这两个有序数组的中位数，并且要求算法的时间复杂度为 O(log(m + n))。\n",
    "\n",
    "你可以假设 nums1 和 nums2 不会同时为空。\n",
    "\n",
    "示例 1:\n",
    "\n",
    "nums1 = [1, 3]\n",
    "nums2 = [2]\n",
    "\n",
    "则中位数是 2.0\n",
    "\n",
    "示例 2:\n",
    "\n",
    "nums1 = [1, 2]\n",
    "nums2 = [3, 4]\n",
    "\n",
    "则中位数是 (2 + 3)/2 = 2.5"
   ]
  },
  {
   "cell_type": "code",
   "execution_count": 16,
   "metadata": {
    "ExecuteTime": {
     "end_time": "2019-05-01T10:32:14.974436Z",
     "start_time": "2019-05-01T10:32:14.963332Z"
    }
   },
   "outputs": [
    {
     "name": "stdout",
     "output_type": "stream",
     "text": [
      "5.0\n",
      "5.5\n"
     ]
    }
   ],
   "source": [
    "class Solution:\n",
    "    def findMedianSortedArrays(self, nums1, nums2):\n",
    "        \"\"\"\n",
    "        :num1_type :List[int]\n",
    "        :num2_type :List[int]\n",
    "        :r_type :float\n",
    "        \"\"\"\n",
    "        nums = sorted(nums1 + nums2)\n",
    "        length = len(nums)/2\n",
    "        if len(nums) % 2 == 0:\n",
    "            return sum(nums[int(length)-1:int(length)+1])/2\n",
    "        else:\n",
    "            return float(nums[int(length-0.5)])\n",
    "        \n",
    "        \n",
    "\n",
    "# test case1:\n",
    "nums1 = [1,3,5,6]\n",
    "nums2 = [4,7,9,13,3]\n",
    "solution1 = Solution()\n",
    "print(solution1.findMedianSortedArrays(nums1, nums2))\n",
    "\n",
    "# test case2:\n",
    "nums1 = [1,3,5,6]\n",
    "nums2 = [4,7,9,13]\n",
    "solution1 = Solution()\n",
    "print(solution1.findMedianSortedArrays(nums1, nums2))"
   ]
  },
  {
   "cell_type": "code",
   "execution_count": null,
   "metadata": {},
   "outputs": [],
   "source": []
  }
 ],
 "metadata": {
  "kernelspec": {
   "display_name": "python pratice",
   "language": "python",
   "name": "env_name"
  },
  "language_info": {
   "codemirror_mode": {
    "name": "ipython",
    "version": 3
   },
   "file_extension": ".py",
   "mimetype": "text/x-python",
   "name": "python",
   "nbconvert_exporter": "python",
   "pygments_lexer": "ipython3",
   "version": "3.7.1"
  },
  "toc": {
   "base_numbering": 1,
   "nav_menu": {},
   "number_sections": true,
   "sideBar": true,
   "skip_h1_title": false,
   "title_cell": "Table of Contents",
   "title_sidebar": "Contents",
   "toc_cell": false,
   "toc_position": {},
   "toc_section_display": true,
   "toc_window_display": false
  }
 },
 "nbformat": 4,
 "nbformat_minor": 2
}
