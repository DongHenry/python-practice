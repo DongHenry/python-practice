{
 "cells": [
  {
   "cell_type": "markdown",
   "metadata": {},
   "source": [
    "给定一个二叉树，检查它是否是镜像对称的。\n",
    "\n",
    "如果通知满足下面的条件： 两个树互为镜像：\n",
    "1. 他们的根节点具有相同的值\n",
    "2. 每个树的右子树与另一个树的左子树镜像对称。"
   ]
  },
  {
   "cell_type": "markdown",
   "metadata": {},
   "source": [
    "#### 思路：\n",
    "两颗树进行对比\n",
    "一棵树同一个根节点下的左子树与另一颗树的右子树进行比较\n",
    "\n",
    "1. 先判断两棵树是否全为空\n",
    "2. 判断两个数是否有一个为空\n",
    "3. 判断两棵树的根节点，一个树的左子树与另一颗树的右子树是否相同"
   ]
  },
  {
   "cell_type": "code",
   "execution_count": null,
   "metadata": {},
   "outputs": [],
   "source": [
    "# Definition for a binary tree node.\n",
    "# class TreeNode(object):\n",
    "#     def __init__(self, x):\n",
    "#         self.val = x\n",
    "#         self.left = None\n",
    "#         self.right = None\n",
    "\n",
    "class Solution(object):\n",
    "    def isSymmetric(self, root):\n",
    "        \"\"\"\n",
    "        :type root: TreeNode\n",
    "        :rtype: bool\n",
    "        \"\"\"\n",
    "        return self.is_mirror(root, root)\n",
    "    \n",
    "    \n",
    "    def is_mirror(self, root1, root2):\n",
    "        if not root1 and not root2:\n",
    "            return True\n",
    "        elif root1 is None or root2 is None:\n",
    "            return False\n",
    "        else:\n",
    "            return root1.data == root2.data and self.is_mirror(root1.left, root2.right) and self.is_mirror(root1.right, root2.left)"
   ]
  }
 ],
 "metadata": {
  "kernelspec": {
   "display_name": "python pratice",
   "language": "python",
   "name": "env_name"
  },
  "language_info": {
   "codemirror_mode": {
    "name": "ipython",
    "version": 3
   },
   "file_extension": ".py",
   "mimetype": "text/x-python",
   "name": "python",
   "nbconvert_exporter": "python",
   "pygments_lexer": "ipython3",
   "version": "3.7.1"
  },
  "toc": {
   "base_numbering": 1,
   "nav_menu": {},
   "number_sections": true,
   "sideBar": true,
   "skip_h1_title": false,
   "title_cell": "Table of Contents",
   "title_sidebar": "Contents",
   "toc_cell": false,
   "toc_position": {},
   "toc_section_display": true,
   "toc_window_display": false
  }
 },
 "nbformat": 4,
 "nbformat_minor": 2
}
