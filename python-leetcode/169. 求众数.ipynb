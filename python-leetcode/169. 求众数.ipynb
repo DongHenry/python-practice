{
 "cells": [
  {
   "cell_type": "markdown",
   "metadata": {},
   "source": [
    "#### 题目描述\n",
    "给定一个大小为 n 的数组，找到其中的众数。众数是指在数组中出现次数大于 ⌊ n/2 ⌋ 的元素。\n",
    "\n",
    "你可以假设数组是非空的，并且给定的数组总是存在众数。\n",
    "\n",
    "示例 1:\n",
    "\n",
    "- 输入: [3,2,3]\n",
    "- 输出: 3\n",
    "\n",
    "示例 2:\n",
    "\n",
    "- 输入: [2,2,1,1,1,2,2]\n",
    "- 输出: 2\n",
    "\n",
    "---\n",
    "#### 思路\n",
    "##### Solution1 排序， 返回[n/2]下标元素的值\n",
    "由题意: 数组大小为n， 且众数为出现次数大于 n/ 2的元素,则使用Python内置函数sorted对数组进行排序，排序后中间的数一定为众数\n",
    "\n",
    "复杂度分析：\n",
    "- 时间复杂度：O(nlogn): 用Python对数组排序开销都为O(nlogn),占据了运行的主要时间\n",
    "- 空间复杂度: O(1) 或者O（n）: \n",
    "    - 若能就地排序，O（1）； \n",
    "    - 若不能就地排序，需要开辟线性空间拷贝存储数组num,然后再排序O（n）"
   ]
  },
  {
   "cell_type": "code",
   "execution_count": 1,
   "metadata": {
    "ExecuteTime": {
     "end_time": "2019-07-04T12:40:13.287325Z",
     "start_time": "2019-07-04T12:40:13.271212Z"
    }
   },
   "outputs": [
    {
     "data": {
      "text/plain": [
       "3"
      ]
     },
     "execution_count": 1,
     "metadata": {},
     "output_type": "execute_result"
    }
   ],
   "source": [
    "class Solution(object):\n",
    "    def majorityElement(self, nums):\n",
    "        \"\"\"\n",
    "        :type nums: List[int]\n",
    "        :rtype: int\n",
    "        \"\"\"\n",
    "        return sorted(nums)[len(nums) // 2]\n",
    "\n",
    "nums = [3, 2, 3]\n",
    "solution = Solution()\n",
    "solution.majorityElement(nums)    "
   ]
  },
  {
   "cell_type": "markdown",
   "metadata": {},
   "source": [
    "##### Solution2  暴力穷举法   : 未通过\n",
    "使用自己的方法未通过\n",
    "- 使用循环，通过判定条件nums.count(n) > len(nums) // 2来找到众数\n",
    "- 未通过，执行结果超出时间限制\n",
    "\n",
    "复杂度分析：\n",
    "- 时间复杂度：O(n**2)\n",
    "- 空间复杂度: O(1)"
   ]
  },
  {
   "cell_type": "code",
   "execution_count": 8,
   "metadata": {
    "ExecuteTime": {
     "end_time": "2019-07-04T12:58:13.676739Z",
     "start_time": "2019-07-04T12:58:13.665767Z"
    }
   },
   "outputs": [
    {
     "data": {
      "text/plain": [
       "3"
      ]
     },
     "execution_count": 8,
     "metadata": {},
     "output_type": "execute_result"
    }
   ],
   "source": [
    "class Solution(object):\n",
    "    def majorityElement(self, nums):\n",
    "        \"\"\"\n",
    "        :type nums: List[int]\n",
    "        :rtype: int\n",
    "        \"\"\"\n",
    "        length = len(nums) // 2\n",
    "        for n in nums:\n",
    "            if nums.count(n) > length:\n",
    "                return n\n",
    "            \n",
    "nums = [3, 2, 3]\n",
    "solution = Solution()\n",
    "solution.majorityElement(nums)    "
   ]
  },
  {
   "cell_type": "markdown",
   "metadata": {},
   "source": [
    "暴力穷举-使用官方解法 ： 未通过，原因：超出时间限制"
   ]
  },
  {
   "cell_type": "code",
   "execution_count": 9,
   "metadata": {
    "ExecuteTime": {
     "end_time": "2019-07-04T12:58:14.556552Z",
     "start_time": "2019-07-04T12:58:14.547114Z"
    }
   },
   "outputs": [
    {
     "data": {
      "text/plain": [
       "3"
      ]
     },
     "execution_count": 9,
     "metadata": {},
     "output_type": "execute_result"
    }
   ],
   "source": [
    "class Solution(object):\n",
    "    def majorityElement(self, nums):\n",
    "        \"\"\"\n",
    "        :type nums: List[int]\n",
    "        :rtype: int\n",
    "        \"\"\"\n",
    "        length = len(nums) // 2\n",
    "        for n in nums:\n",
    "            count = sum(1 for i in nums if n == i)\n",
    "            if count > length:\n",
    "                return n\n",
    "        \n",
    "        \n",
    "nums = [3, 2, 3]\n",
    "solution = Solution()\n",
    "solution.majorityElement(nums)    "
   ]
  },
  {
   "cell_type": "markdown",
   "metadata": {},
   "source": []
  },
  {
   "cell_type": "code",
   "execution_count": null,
   "metadata": {},
   "outputs": [],
   "source": []
  }
 ],
 "metadata": {
  "kernelspec": {
   "display_name": "python pratice",
   "language": "python",
   "name": "env_name"
  },
  "language_info": {
   "codemirror_mode": {
    "name": "ipython",
    "version": 3
   },
   "file_extension": ".py",
   "mimetype": "text/x-python",
   "name": "python",
   "nbconvert_exporter": "python",
   "pygments_lexer": "ipython3",
   "version": "3.7.1"
  },
  "toc": {
   "base_numbering": 1,
   "nav_menu": {},
   "number_sections": true,
   "sideBar": true,
   "skip_h1_title": false,
   "title_cell": "Table of Contents",
   "title_sidebar": "Contents",
   "toc_cell": false,
   "toc_position": {},
   "toc_section_display": true,
   "toc_window_display": false
  }
 },
 "nbformat": 4,
 "nbformat_minor": 2
}
