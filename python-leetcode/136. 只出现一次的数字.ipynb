{
 "cells": [
  {
   "cell_type": "markdown",
   "metadata": {},
   "source": [
    "#### 题目描述\n",
    "\n",
    "给定一个非空整数数组，除了某个元素只出现一次以外，其余每个元素均出现两次。找出那个只出现了一次的元素。\n",
    "\n",
    "说明：\n",
    "\n",
    "你的算法应该具有线性时间复杂度。 你可以不使用额外空间来实现吗？\n",
    "\n",
    "示例 1:\n",
    "\n",
    "- 输入: [2,2,1]\n",
    "- 输出: 1\n",
    "\n",
    "示例 2:\n",
    "\n",
    "- 输入: [4,1,2,1,2]\n",
    "- 输出: 4\n",
    "\n",
    "----\n",
    "#### Solution1 暴力查找 （未通过 超出时间限制）\n"
   ]
  },
  {
   "cell_type": "code",
   "execution_count": 3,
   "metadata": {
    "ExecuteTime": {
     "end_time": "2019-07-08T05:59:57.636664Z",
     "start_time": "2019-07-08T05:59:57.621238Z"
    }
   },
   "outputs": [
    {
     "data": {
      "text/plain": [
       "4"
      ]
     },
     "execution_count": 3,
     "metadata": {},
     "output_type": "execute_result"
    }
   ],
   "source": [
    "# 超出时间限制 \n",
    "\n",
    "class Solution(object):\n",
    "    def singleNumber(self, nums):\n",
    "        \"\"\"\n",
    "        :type nums: List[int]\n",
    "        :rtype: int\n",
    "        \"\"\"\n",
    "        for i in nums:\n",
    "            if nums.count(i) == 1:\n",
    "                return i\n",
    "    \n",
    "nums = [4, 1, 2, 1, 2]\n",
    "solution = Solution()\n",
    "solution.singleNumber(nums)"
   ]
  },
  {
   "cell_type": "code",
   "execution_count": 6,
   "metadata": {
    "ExecuteTime": {
     "end_time": "2019-07-08T06:19:52.245784Z",
     "start_time": "2019-07-08T06:19:52.210174Z"
    }
   },
   "outputs": [
    {
     "data": {
      "text/plain": [
       "4"
      ]
     },
     "execution_count": 6,
     "metadata": {},
     "output_type": "execute_result"
    }
   ],
   "source": [
    "# 超出时间限制\n",
    "\n",
    "class Solution(object):\n",
    "    def singleNumber(self, nums):\n",
    "        \"\"\"\n",
    "        :type nums: List[int]\n",
    "        :rtype: int\n",
    "        \"\"\"\n",
    "        sets = set(nums)\n",
    "        for s in sets:\n",
    "            if nums.count(s) == 1:\n",
    "                return s\n",
    "        \n",
    "nums = [4, 1, 2, 1, 2]\n",
    "solution = Solution()\n",
    "solution.singleNumber(nums)"
   ]
  },
  {
   "cell_type": "code",
   "execution_count": 14,
   "metadata": {
    "ExecuteTime": {
     "end_time": "2019-07-08T06:47:32.491309Z",
     "start_time": "2019-07-08T06:47:32.470421Z"
    }
   },
   "outputs": [
    {
     "data": {
      "text/plain": [
       "4"
      ]
     },
     "execution_count": 14,
     "metadata": {},
     "output_type": "execute_result"
    }
   ],
   "source": [
    "class Solution(object):\n",
    "    def singleNumber(self, nums):\n",
    "        \"\"\"\n",
    "        :type nums: List[int]\n",
    "        :rtype: int\n",
    "        \"\"\"\n",
    "        dicts = {}\n",
    "        for num in nums:\n",
    "            if num in dicts:\n",
    "                dicts[num] += 1\n",
    "            else:\n",
    "                dicts[num] = 1\n",
    "        \n",
    "        for k, v in dicts.items():\n",
    "            if v == 1:\n",
    "                return k\n",
    "        \n",
    "        \n",
    "nums = [4, 1, 2, 1, 2]\n",
    "solution = Solution()\n",
    "solution.singleNumber(nums)"
   ]
  },
  {
   "cell_type": "markdown",
   "metadata": {},
   "source": [
    "#### Solution2 数学法 通过不重复元素和的2倍减去原来列表的和 ，其结果就是只出现一次的那个元素\n",
    "如[4,1,2,1,2]\n",
    "因只有一个元素出现一次，其他元素都出现两次，则假设所有元素均出现两次，然后求不重复元素和的2倍减去原来列表的和。"
   ]
  },
  {
   "cell_type": "code",
   "execution_count": 7,
   "metadata": {
    "ExecuteTime": {
     "end_time": "2019-07-08T06:26:04.230897Z",
     "start_time": "2019-07-08T06:26:04.215261Z"
    }
   },
   "outputs": [
    {
     "data": {
      "text/plain": [
       "4"
      ]
     },
     "execution_count": 7,
     "metadata": {},
     "output_type": "execute_result"
    }
   ],
   "source": [
    "class Solution(object):\n",
    "    def singleNumber(self, nums):\n",
    "        \"\"\"\n",
    "        :type nums: List[int]\n",
    "        :rtype: int\n",
    "        \"\"\"\n",
    "        sets = set(nums)\n",
    "        return sum(sets)*2 - sum(nums)\n",
    "        \n",
    "        \n",
    "nums = [4, 1, 2, 1, 2]\n",
    "solution = Solution()\n",
    "solution.singleNumber(nums)"
   ]
  },
  {
   "cell_type": "markdown",
   "metadata": {},
   "source": [
    "#### Solution3 异或运算 \n",
    "- 一个数和0做异或运算等于本身\n",
    "- 一个数和本身做异或运算等于0\n",
    "\n",
    "二进制对应位相同为0，不同为1；\n",
    "将所有数字按照顺序做异或运算，最后剩下的结果即为唯一的数字\n",
    "\n",
    "复杂度分析：\n",
    "- 时间复杂度:O(n)\n",
    "- 空间复杂度:O(1)"
   ]
  },
  {
   "cell_type": "code",
   "execution_count": 8,
   "metadata": {
    "ExecuteTime": {
     "end_time": "2019-07-08T06:40:19.235458Z",
     "start_time": "2019-07-08T06:40:19.204296Z"
    }
   },
   "outputs": [
    {
     "data": {
      "text/plain": [
       "4"
      ]
     },
     "execution_count": 8,
     "metadata": {},
     "output_type": "execute_result"
    }
   ],
   "source": [
    "class Solution(object):\n",
    "    def singleNumber(self, nums):\n",
    "        \"\"\"\n",
    "        :type nums: List[int]\n",
    "        :rtype: int\n",
    "        \"\"\"\n",
    "        temp = 0\n",
    "        for num in nums:\n",
    "            temp ^= num\n",
    "        return temp\n",
    "        \n",
    "        \n",
    "nums = [4, 1, 2, 1, 2]\n",
    "solution = Solution()\n",
    "solution.singleNumber(nums)"
   ]
  },
  {
   "cell_type": "code",
   "execution_count": null,
   "metadata": {},
   "outputs": [],
   "source": []
  }
 ],
 "metadata": {
  "kernelspec": {
   "display_name": "python pratice",
   "language": "python",
   "name": "env_name"
  },
  "language_info": {
   "codemirror_mode": {
    "name": "ipython",
    "version": 3
   },
   "file_extension": ".py",
   "mimetype": "text/x-python",
   "name": "python",
   "nbconvert_exporter": "python",
   "pygments_lexer": "ipython3",
   "version": "3.7.1"
  },
  "toc": {
   "base_numbering": 1,
   "nav_menu": {},
   "number_sections": true,
   "sideBar": true,
   "skip_h1_title": false,
   "title_cell": "Table of Contents",
   "title_sidebar": "Contents",
   "toc_cell": false,
   "toc_position": {},
   "toc_section_display": true,
   "toc_window_display": false
  }
 },
 "nbformat": 4,
 "nbformat_minor": 2
}
