{
 "cells": [
  {
   "cell_type": "markdown",
   "metadata": {},
   "source": [
    "#### 题目描述\n",
    "给定一个整数，编写一个函数来判断它是否是 2 的幂次方。\n",
    "\n",
    "示例 1:\n",
    "\n",
    "- 输入: 1\n",
    "- 输出: true\n",
    "- 解释: 2**0 = 1\n",
    "\n",
    "示例 2:\n",
    "\n",
    "- 输入: 16\n",
    "- 输出: true\n",
    "- 解释: 2**4 = 16\n",
    "\n",
    "#### 思路\n",
    "\n",
    "- 二进制下，2的幂只会有一位为‘1’"
   ]
  },
  {
   "cell_type": "code",
   "execution_count": 15,
   "metadata": {
    "ExecuteTime": {
     "end_time": "2019-07-03T08:14:10.285720Z",
     "start_time": "2019-07-03T08:14:10.275166Z"
    }
   },
   "outputs": [
    {
     "data": {
      "text/plain": [
       "True"
      ]
     },
     "execution_count": 15,
     "metadata": {},
     "output_type": "execute_result"
    }
   ],
   "source": [
    "class Solution(object):\n",
    "    def isPowerOfTwo(self, n):\n",
    "        \"\"\"\n",
    "        :type n: int\n",
    "        :rtype: bool\n",
    "        \"\"\"\n",
    "        # 二进制下，2的幂只会有一个为1\n",
    "        return bin(n).count('1') == 1 and n > 0\n",
    "\n",
    "n = 16\n",
    "solution = Solution()\n",
    "solution.isPowerOfTwo(n)"
   ]
  },
  {
   "cell_type": "code",
   "execution_count": 14,
   "metadata": {
    "ExecuteTime": {
     "end_time": "2019-07-03T08:14:02.125396Z",
     "start_time": "2019-07-03T08:14:02.115716Z"
    }
   },
   "outputs": [
    {
     "data": {
      "text/plain": [
       "True"
      ]
     },
     "execution_count": 14,
     "metadata": {},
     "output_type": "execute_result"
    }
   ],
   "source": [
    "#### 常规思路\n",
    "import math\n",
    "class Solution(object):\n",
    "    def isPowerOfTwo(self, n):\n",
    "        \"\"\"\n",
    "        :type n: int\n",
    "        :rtype: bool\n",
    "        \"\"\"\n",
    "        return n > 0 and 2**int(math.log2(n)) == n \n",
    "        \n",
    "n = 16\n",
    "solution = Solution()\n",
    "solution.isPowerOfTwo(n)"
   ]
  }
 ],
 "metadata": {
  "kernelspec": {
   "display_name": "python pratice",
   "language": "python",
   "name": "env_name"
  },
  "language_info": {
   "codemirror_mode": {
    "name": "ipython",
    "version": 3
   },
   "file_extension": ".py",
   "mimetype": "text/x-python",
   "name": "python",
   "nbconvert_exporter": "python",
   "pygments_lexer": "ipython3",
   "version": "3.7.1"
  },
  "toc": {
   "base_numbering": 1,
   "nav_menu": {},
   "number_sections": true,
   "sideBar": true,
   "skip_h1_title": false,
   "title_cell": "Table of Contents",
   "title_sidebar": "Contents",
   "toc_cell": false,
   "toc_position": {},
   "toc_section_display": true,
   "toc_window_display": false
  }
 },
 "nbformat": 4,
 "nbformat_minor": 2
}
