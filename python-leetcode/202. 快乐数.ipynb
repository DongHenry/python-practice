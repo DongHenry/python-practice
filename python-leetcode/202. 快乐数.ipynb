{
 "cells": [
  {
   "cell_type": "markdown",
   "metadata": {},
   "source": [
    "#### 题目描述\n",
    "编写一个算法来判断一个数是不是“快乐数”。\n",
    "\n",
    "一个“快乐数”定义为：对于一个正整数，每一次将该数替换为它每个位置上的数字的平方和，然后重复这个过程直到这个数变为 1，也可能是无限循环但始终变不到 1。如果可以变为 1，那么这个数就是快乐数。\n",
    "\n",
    "示例: \n",
    "\n",
    "输入: 19\n",
    "输出: true\n",
    "解释: \n",
    "- 12 + 92 = 82\n",
    "- 82 + 22 = 68\n",
    "- 62 + 82 = 100\n",
    "- 12 + 02 + 02 = 1\n",
    "\n",
    "#### 思路\n",
    "- 注意，非快乐树会进入结果为4的死循环"
   ]
  },
  {
   "cell_type": "code",
   "execution_count": 25,
   "metadata": {
    "ExecuteTime": {
     "end_time": "2019-07-03T05:19:27.505676Z",
     "start_time": "2019-07-03T05:19:27.490526Z"
    }
   },
   "outputs": [
    {
     "data": {
      "text/plain": [
       "False"
      ]
     },
     "execution_count": 25,
     "metadata": {},
     "output_type": "execute_result"
    }
   ],
   "source": [
    "class Solution:\n",
    "    def isHappy(self, n: int) -> bool:\n",
    "        result = 0\n",
    "        for i in str(n):\n",
    "            result += int(i)**2\n",
    "        if result == 1:\n",
    "            return True\n",
    "        elif result == 4:\n",
    "            return False\n",
    "        else:\n",
    "            return self.isHappy(result)\n",
    "    \n",
    "n = 6\n",
    "solution = Solution()\n",
    "solution.isHappy(n)"
   ]
  },
  {
   "cell_type": "code",
   "execution_count": null,
   "metadata": {},
   "outputs": [],
   "source": []
  }
 ],
 "metadata": {
  "kernelspec": {
   "display_name": "python pratice",
   "language": "python",
   "name": "env_name"
  },
  "language_info": {
   "codemirror_mode": {
    "name": "ipython",
    "version": 3
   },
   "file_extension": ".py",
   "mimetype": "text/x-python",
   "name": "python",
   "nbconvert_exporter": "python",
   "pygments_lexer": "ipython3",
   "version": "3.7.1"
  },
  "toc": {
   "base_numbering": 1,
   "nav_menu": {},
   "number_sections": true,
   "sideBar": true,
   "skip_h1_title": false,
   "title_cell": "Table of Contents",
   "title_sidebar": "Contents",
   "toc_cell": false,
   "toc_position": {},
   "toc_section_display": true,
   "toc_window_display": false
  }
 },
 "nbformat": 4,
 "nbformat_minor": 2
}
