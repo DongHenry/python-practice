{
 "cells": [
  {
   "cell_type": "markdown",
   "metadata": {},
   "source": [
    "#### 题目描述\n",
    "给出一个 32 位的有符号整数，你需要将这个整数中每位上的数字进行反转。\n",
    "\n",
    "示例 1:\n",
    "输入: 123\n",
    "输出: 321\n",
    "\n",
    "示例 2:\n",
    "输入: -123\n",
    "输出: -321\n",
    "\n",
    "示例 3:\n",
    "输入: 120\n",
    "输出: 21\n",
    "\n",
    "注意:\n",
    "假设我们的环境只能存储得下 32 位的有符号整数，请根据这个假设，如果反转后整数溢出那么就返回 0。"
   ]
  },
  {
   "cell_type": "code",
   "execution_count": 16,
   "metadata": {
    "ExecuteTime": {
     "end_time": "2019-04-30T12:28:42.542324Z",
     "start_time": "2019-04-30T12:28:42.527477Z"
    }
   },
   "outputs": [
    {
     "name": "stdout",
     "output_type": "stream",
     "text": [
      "321\n",
      "-321\n",
      "21\n"
     ]
    }
   ],
   "source": [
    "class Solution:\n",
    "    def reverse(self, x):\n",
    "        \"\"\"\n",
    "        :xtype: int\n",
    "        :rtype: int\n",
    "        \"\"\"\n",
    "        if x >= 0:\n",
    "            over_zero_result = int(str(x)[::-1])\n",
    "            output = 0 if over_zero_result > (2**31 -1) else over_zero_result\n",
    "            return output\n",
    "        else:\n",
    "            low_zero_result = int('-'+str(x)[1:][::-1])\n",
    "            output = 0 if abs(low_zero_result) > (2**31) else low_zero_result\n",
    "            return output\n",
    "            \n",
    "\n",
    "# Python三元表达式 condition_is_true if condition else condition_is_false\n",
    "# test case1:\n",
    "input = 123\n",
    "solution1 = Solution().reverse(input)\n",
    "print(solution1)\n",
    "\n",
    "# test case2:\n",
    "input = -123\n",
    "solution1 = Solution().reverse(input)\n",
    "print(solution1)\n",
    "\n",
    "# test case3:\n",
    "input = 120\n",
    "solution1 = Solution().reverse(input)\n",
    "print(solution1)\n"
   ]
  },
  {
   "cell_type": "code",
   "execution_count": null,
   "metadata": {},
   "outputs": [],
   "source": []
  }
 ],
 "metadata": {
  "kernelspec": {
   "display_name": "python pratice",
   "language": "python",
   "name": "env_name"
  },
  "language_info": {
   "codemirror_mode": {
    "name": "ipython",
    "version": 3
   },
   "file_extension": ".py",
   "mimetype": "text/x-python",
   "name": "python",
   "nbconvert_exporter": "python",
   "pygments_lexer": "ipython3",
   "version": "3.7.1"
  },
  "toc": {
   "base_numbering": 1,
   "nav_menu": {},
   "number_sections": true,
   "sideBar": true,
   "skip_h1_title": false,
   "title_cell": "Table of Contents",
   "title_sidebar": "Contents",
   "toc_cell": false,
   "toc_position": {},
   "toc_section_display": true,
   "toc_window_display": false
  }
 },
 "nbformat": 4,
 "nbformat_minor": 2
}
