{
 "cells": [
  {
   "cell_type": "markdown",
   "metadata": {},
   "source": [
    "合并 k 个排序链表，返回合并后的排序链表。请分析和描述算法的复杂度。\n",
    "\n",
    "示例:\n",
    "\n",
    "输入:\n",
    "\n",
    "[\n",
    "\n",
    "  1->4->5,\n",
    "  \n",
    "  1->3->4,\n",
    "  \n",
    "  2->6\n",
    "  \n",
    "]\n",
    "\n",
    "输出: 1->1->2->3->4->4->5->6"
   ]
  },
  {
   "cell_type": "code",
   "execution_count": 1,
   "metadata": {
    "ExecuteTime": {
     "end_time": "2019-06-28T07:01:10.634812Z",
     "start_time": "2019-06-28T07:01:10.602506Z"
    }
   },
   "outputs": [
    {
     "name": "stdout",
     "output_type": "stream",
     "text": [
      "<__main__.ListNode object at 0x10f5dbc18>\n"
     ]
    }
   ],
   "source": [
    "# Definition for singly-linked list.\n",
    "\n",
    "class ListNode:\n",
    "    def __init__(self, x):\n",
    "        self.val = x\n",
    "        self.next = None\n",
    "\n",
    "class Solution:\n",
    "    def mergeKLists(self, lists):\n",
    "        \"\"\"\n",
    "        lists_type: List[ListNode]\n",
    "        r_type: ListNode\n",
    "        \"\"\"\n",
    "        if not lists:return         \n",
    "        temp = []\n",
    "        for li in lists:\n",
    "            while li:\n",
    "                temp.append(li.val)\n",
    "                li = li.next\n",
    "        temp = sorted(temp)\n",
    "        if not temp: return\n",
    "        result = ListNode(temp[0])\n",
    "        p = result\n",
    "        for li in temp[1:]:\n",
    "            p.next = ListNode(li)\n",
    "            p = p.next\n",
    "        return result\n",
    "    \n",
    "\n",
    "if __name__ == \"__main__\":\n",
    "    solution = Solution()\n",
    "    lists = []\n",
    "    ln_1 = ListNode(1)\n",
    "    e1 = ListNode(4)\n",
    "    e2 = ListNode(5)\n",
    "    ln_1.next = e1\n",
    "    e1.next = e2\n",
    "    lists.append(ln_1)\n",
    "    \n",
    "    ln_2 = ListNode(1)\n",
    "    e3 = ListNode(3)\n",
    "    e4 = ListNode(4)\n",
    "    e5 = ListNode(5)\n",
    "    ln_2.next = e3\n",
    "    e3.next = e4\n",
    "    e4.next = e5\n",
    "    lists.append(ln_2)\n",
    "    \n",
    "    ln_3 = ListNode(2)\n",
    "    e6 = ListNode(6)\n",
    "    ln_3.next = e6\n",
    "    lists.append(ln_3)\n",
    "    \n",
    "    result = solution.mergeKLists(lists)       \n",
    "    print(result)"
   ]
  },
  {
   "cell_type": "code",
   "execution_count": null,
   "metadata": {},
   "outputs": [],
   "source": []
  }
 ],
 "metadata": {
  "kernelspec": {
   "display_name": "python pratice",
   "language": "python",
   "name": "env_name"
  },
  "language_info": {
   "codemirror_mode": {
    "name": "ipython",
    "version": 3
   },
   "file_extension": ".py",
   "mimetype": "text/x-python",
   "name": "python",
   "nbconvert_exporter": "python",
   "pygments_lexer": "ipython3",
   "version": "3.7.1"
  },
  "toc": {
   "base_numbering": 1,
   "nav_menu": {},
   "number_sections": true,
   "sideBar": true,
   "skip_h1_title": false,
   "title_cell": "Table of Contents",
   "title_sidebar": "Contents",
   "toc_cell": false,
   "toc_position": {},
   "toc_section_display": true,
   "toc_window_display": false
  }
 },
 "nbformat": 4,
 "nbformat_minor": 2
}
