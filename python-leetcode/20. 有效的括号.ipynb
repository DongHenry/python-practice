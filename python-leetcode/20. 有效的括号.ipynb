{
 "cells": [
  {
   "cell_type": "markdown",
   "metadata": {},
   "source": [
    "#### 题目描述\n",
    "给定一个只包括 '('，')'，'{'，'}'，'['，']' 的字符串，判断字符串是否有效。\n",
    "\n",
    "有效字符串需满足：\n",
    "\n",
    "左括号必须用相同类型的右括号闭合。\n",
    "左括号必须以正确的顺序闭合。\n",
    "注意空字符串可被认为是有效字符串。\n",
    "\n",
    "示例 1:\n",
    "\n",
    "输入: \"()\"\n",
    "\n",
    "输出: true\n",
    "\n",
    "---\n",
    "示例 2:\n",
    "\n",
    "输入: \"()[]{}\"\n",
    "\n",
    "输出: true\n",
    "\n",
    "---\n",
    "示例 3:\n",
    "\n",
    "输入: \"(]\"\n",
    "\n",
    "输出: false\n",
    "\n",
    "---\n",
    "示例 4:\n",
    "\n",
    "输入: \"([)]\"\n",
    "\n",
    "输出: false\n",
    "\n",
    "---\n",
    "示例 5:\n",
    "\n",
    "输入: \"{[]}\"\n",
    "输出: true\n",
    "\n",
    "#### 思路\n",
    "使用栈的思想：\n",
    "- 初始化一个stack list\n",
    "- 循环遍历stack，判断元素\n",
    "    - 如果是左括号，压栈；\n",
    "    - 其他的看stack是否为空，并比较该元素与栈顶元素是否匹配，若匹配，则栈顶元素出栈\n",
    "    - 若遍历过程中stack已为空，则不匹配，\n",
    "- 遍历完后，判断栈是否为空。"
   ]
  },
  {
   "cell_type": "code",
   "execution_count": 19,
   "metadata": {
    "ExecuteTime": {
     "end_time": "2019-06-30T10:54:10.964544Z",
     "start_time": "2019-06-30T10:54:10.949042Z"
    }
   },
   "outputs": [
    {
     "data": {
      "text/plain": [
       "False"
      ]
     },
     "execution_count": 19,
     "metadata": {},
     "output_type": "execute_result"
    }
   ],
   "source": [
    "class Solution(object):\n",
    "    def isValid(self, s):\n",
    "        \"\"\"\n",
    "        :type s: str\n",
    "        :rtype: bool\n",
    "        \"\"\"\n",
    "        # 空字符串为有效字符串\n",
    "        if not s:return True\n",
    "        \n",
    "        # 初始化栈\n",
    "        stack = []\n",
    "        # 匹配项\n",
    "        match = {\n",
    "            \"(\": \")\",\n",
    "            \"[\": \"]\",\n",
    "            \"{\": \"}\"\n",
    "        }\n",
    "        for e in s:\n",
    "            if e in match:\n",
    "                stack.append(e)\n",
    "            elif stack and match[stack[-1]] == e:\n",
    "                stack.pop()\n",
    "            else:\n",
    "                return False\n",
    "        return False if stack else True\n",
    "    \n",
    "s = \"(])\"\n",
    "solution = Solution()\n",
    "solution.isValid(s)"
   ]
  },
  {
   "cell_type": "code",
   "execution_count": null,
   "metadata": {},
   "outputs": [],
   "source": []
  }
 ],
 "metadata": {
  "kernelspec": {
   "display_name": "python pratice",
   "language": "python",
   "name": "env_name"
  },
  "language_info": {
   "codemirror_mode": {
    "name": "ipython",
    "version": 3
   },
   "file_extension": ".py",
   "mimetype": "text/x-python",
   "name": "python",
   "nbconvert_exporter": "python",
   "pygments_lexer": "ipython3",
   "version": "3.7.1"
  },
  "toc": {
   "base_numbering": 1,
   "nav_menu": {},
   "number_sections": true,
   "sideBar": true,
   "skip_h1_title": false,
   "title_cell": "Table of Contents",
   "title_sidebar": "Contents",
   "toc_cell": false,
   "toc_position": {},
   "toc_section_display": true,
   "toc_window_display": false
  }
 },
 "nbformat": 4,
 "nbformat_minor": 2
}
