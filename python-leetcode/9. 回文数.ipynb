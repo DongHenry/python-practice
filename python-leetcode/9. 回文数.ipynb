{
 "cells": [
  {
   "cell_type": "markdown",
   "metadata": {},
   "source": [
    "#### 题目介绍\n",
    "判断一个整数是否是回文数。回文数是指正序（从左向右）和倒序（从右向左）读都是一样的整数。\n",
    "\n",
    "示例 1:\n",
    "\n",
    "输入: 121\n",
    "输出: true\n",
    "\n",
    "示例 2:\n",
    "\n",
    "输入: -121\n",
    "输出: false\n",
    "解释: 从左向右读, 为 -121 。 从右向左读, 为 121- 。因此它不是一个回文数。\n",
    "\n",
    "示例 3:\n",
    "\n",
    "输入: 10\n",
    "输出: false\n",
    "解释: 从右向左读, 为 01 。因此它不是一个回文数。\n",
    "\n",
    "进阶:\n",
    "\n",
    "你能不将整数转为字符串来解决这个问题吗？\n",
    "\n",
    "注意：\n",
    "\n",
    "Beware of overflow when you reverse the integer."
   ]
  },
  {
   "cell_type": "code",
   "execution_count": 24,
   "metadata": {
    "ExecuteTime": {
     "end_time": "2019-05-02T07:21:06.762211Z",
     "start_time": "2019-05-02T07:21:06.751352Z"
    }
   },
   "outputs": [
    {
     "data": {
      "text/plain": [
       "False"
      ]
     },
     "execution_count": 24,
     "metadata": {},
     "output_type": "execute_result"
    }
   ],
   "source": [
    "# 数字转化为字符串\n",
    "class Solution:\n",
    "    def isPalindrome(self, x: int):\n",
    "        \"\"\"\n",
    "        xtype: int\n",
    "        rtype: bool\n",
    "        \"\"\"\n",
    "        return str(x)[::-1] == str(x)\n",
    "              \n",
    "solution = Solution()\n",
    "solution.isPalindrome(-1)"
   ]
  },
  {
   "cell_type": "code",
   "execution_count": null,
   "metadata": {},
   "outputs": [],
   "source": []
  }
 ],
 "metadata": {
  "kernelspec": {
   "display_name": "python pratice",
   "language": "python",
   "name": "env_name"
  },
  "language_info": {
   "codemirror_mode": {
    "name": "ipython",
    "version": 3
   },
   "file_extension": ".py",
   "mimetype": "text/x-python",
   "name": "python",
   "nbconvert_exporter": "python",
   "pygments_lexer": "ipython3",
   "version": "3.7.1"
  },
  "toc": {
   "base_numbering": 1,
   "nav_menu": {},
   "number_sections": true,
   "sideBar": true,
   "skip_h1_title": false,
   "title_cell": "Table of Contents",
   "title_sidebar": "Contents",
   "toc_cell": false,
   "toc_position": {},
   "toc_section_display": true,
   "toc_window_display": false
  }
 },
 "nbformat": 4,
 "nbformat_minor": 2
}
