{
 "cells": [
  {
   "cell_type": "markdown",
   "metadata": {},
   "source": [
    "#### 题目描述\n",
    "在二维平面上，有一个机器人从原点 (0, 0) 开始。给出它的移动顺序，判断这个机器人在完成移动后是否在 (0, 0) 处结束。\n",
    "\n",
    "移动顺序由字符串表示。字符 move[i] 表示其第 i 次移动。机器人的有效动作有 R（右），L（左），U（上）和 D（下）。如果机器人在完成所有动作后返回原点，则返回 true。否则，返回 false。\n",
    "\n",
    "注意：机器人“面朝”的方向无关紧要。 “R” 将始终使机器人向右移动一次，“L” 将始终向左移动等。此外，假设每次移动机器人的移动幅度相同。\n",
    "\n",
    " \n",
    "\n",
    "示例 1:\n",
    "\n",
    "- 输入: \"UD\"\n",
    "- 输出: true\n",
    "- 解释：机器人向上移动一次，然后向下移动一次。所有动作都具有相同的幅度，因此它最终回到它开始的原点。因此，我们返回 true。\n",
    "\n",
    "示例 2:\n",
    "\n",
    "- 输入: \"LL\"\n",
    "- 输出: false\n",
    "- 解释：机器人向左移动两次。它最终位于原点的左侧，距原点有两次 “移动” 的距离。我们返回 false，因为它在移动结束时没有返回原点。\n",
    "\n",
    "#### 思路1\n",
    "用一个列表表示动作：\n",
    "- \"R\": [1, 0],\n",
    "- \"L\": [-1, 0],\n",
    "- \"U\": [0, 1],\n",
    "- \"D\": [0,-1]\n",
    "\n",
    "计算列表的和即可，若为[0,0]，则返回True，否则返回False\n",
    "\n",
    "#### 思路2：\n",
    "回到原点，则向左和向右的位移要相同，同时，向上和向下的位移也要相同"
   ]
  },
  {
   "cell_type": "code",
   "execution_count": 8,
   "metadata": {
    "ExecuteTime": {
     "end_time": "2019-07-02T01:59:33.815334Z",
     "start_time": "2019-07-02T01:59:33.802606Z"
    }
   },
   "outputs": [
    {
     "data": {
      "text/plain": [
       "True"
      ]
     },
     "execution_count": 8,
     "metadata": {},
     "output_type": "execute_result"
    }
   ],
   "source": [
    "class Solution(object):\n",
    "    def judgeCircle(self, moves):\n",
    "        \"\"\"\n",
    "        :type moves: str\n",
    "        :rtype: bool\n",
    "        \"\"\"\n",
    "        dicts = {\n",
    "            \"R\": [1, 0],\n",
    "            \"L\": [-1, 0],\n",
    "            \"U\": [0, 1],\n",
    "            \"D\": [0,-1]\n",
    "        }\n",
    "        temp = [0, 0]\n",
    "        for locat in moves:\n",
    "            temp[0] += dicts[locat][0]\n",
    "            temp[1] += dicts[locat][1]\n",
    "        if temp == [0,0]:\n",
    "            return True\n",
    "        else:\n",
    "            return False\n",
    "        \n",
    "moves = \"UD\"\n",
    "solution = Solution()\n",
    "solution.judgeCircle(moves)"
   ]
  },
  {
   "cell_type": "code",
   "execution_count": 11,
   "metadata": {
    "ExecuteTime": {
     "end_time": "2019-07-02T02:04:34.778470Z",
     "start_time": "2019-07-02T02:04:34.766617Z"
    }
   },
   "outputs": [
    {
     "data": {
      "text/plain": [
       "True"
      ]
     },
     "execution_count": 11,
     "metadata": {},
     "output_type": "execute_result"
    }
   ],
   "source": [
    "class Solution(object):\n",
    "    def judgeCircle(self, moves):\n",
    "        \"\"\"\n",
    "        :type moves: str\n",
    "        :rtype: bool\n",
    "        \"\"\"\n",
    "        return moves.count(\"R\") == moves.count(\"L\") and moves.count(\"U\") == moves.count(\"D\")\n",
    "    \n",
    "moves = \"UD\"\n",
    "solution = Solution()\n",
    "solution.judgeCircle(moves)      "
   ]
  },
  {
   "cell_type": "code",
   "execution_count": null,
   "metadata": {},
   "outputs": [],
   "source": []
  }
 ],
 "metadata": {
  "kernelspec": {
   "display_name": "python pratice",
   "language": "python",
   "name": "env_name"
  },
  "language_info": {
   "codemirror_mode": {
    "name": "ipython",
    "version": 3
   },
   "file_extension": ".py",
   "mimetype": "text/x-python",
   "name": "python",
   "nbconvert_exporter": "python",
   "pygments_lexer": "ipython3",
   "version": "3.7.1"
  },
  "toc": {
   "base_numbering": 1,
   "nav_menu": {},
   "number_sections": true,
   "sideBar": true,
   "skip_h1_title": false,
   "title_cell": "Table of Contents",
   "title_sidebar": "Contents",
   "toc_cell": false,
   "toc_position": {},
   "toc_section_display": true,
   "toc_window_display": false
  }
 },
 "nbformat": 4,
 "nbformat_minor": 2
}
