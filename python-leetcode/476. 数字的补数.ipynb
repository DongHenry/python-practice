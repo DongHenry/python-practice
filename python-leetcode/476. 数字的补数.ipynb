{
 "cells": [
  {
   "cell_type": "markdown",
   "metadata": {
    "ExecuteTime": {
     "end_time": "2019-07-03T16:30:38.573204Z",
     "start_time": "2019-07-03T16:30:38.564064Z"
    }
   },
   "source": [
    "#### 题目描述\n",
    "给定一个正整数，输出它的补数。补数是对该数的二进制表示取反。\n",
    "\n",
    "注意:\n",
    "\n",
    "- 给定的整数保证在32位带符号整数的范围内。\n",
    "- 你可以假定二进制数不包含前导零位。\n",
    "\n",
    "示例 1:\n",
    "\n",
    "- 输入: 5\n",
    "- 输出: 2\n",
    "- 解释: 5的二进制表示为101（没有前导零位），其补数为010。所以你需要输出2。\n",
    "\n",
    "示例 2:\n",
    "\n",
    "- 输入: 1\n",
    "- 输出: 0\n",
    "- 解释: 1的二进制表示为1（没有前导零位），其补数为0。所以你需要输出0。"
   ]
  },
  {
   "cell_type": "markdown",
   "metadata": {},
   "source": [
    "#### Solution1"
   ]
  },
  {
   "cell_type": "code",
   "execution_count": 28,
   "metadata": {
    "ExecuteTime": {
     "end_time": "2019-07-04T09:50:13.949402Z",
     "start_time": "2019-07-04T09:50:13.941919Z"
    }
   },
   "outputs": [
    {
     "data": {
      "text/plain": [
       "2"
      ]
     },
     "execution_count": 28,
     "metadata": {},
     "output_type": "execute_result"
    }
   ],
   "source": [
    "class Solution:\n",
    "    def findComplement(self, num):\n",
    "        result = ''\n",
    "        for n in bin(num)[2:]:\n",
    "            result += '0' if n == '1' else '1'\n",
    "        return int(result, 2)\n",
    "    \n",
    "    \n",
    "num = 5\n",
    "solution = Solution()\n",
    "solution.findComplement(num)"
   ]
  },
  {
   "cell_type": "markdown",
   "metadata": {},
   "source": [
    "#### Solution2 移位和异或运算\n",
    "- 首先移位，找到与num二进制位数相同且全为1的数temp\n",
    "- temp与num作异或运算即为结果\n",
    "\n",
    "如下：\n",
    "- 5的二进制是 0101, 7的二进制是 0111, 它们的异或运算为: 0010, 异或运算的结果即为5的补数\n",
    "- a : 1110 0101 ; b: 1111 1111  a^b : 0001 1010 则此结果即为a的补数"
   ]
  },
  {
   "cell_type": "code",
   "execution_count": 54,
   "metadata": {
    "ExecuteTime": {
     "end_time": "2019-07-04T12:12:38.222243Z",
     "start_time": "2019-07-04T12:12:38.214292Z"
    }
   },
   "outputs": [
    {
     "data": {
      "text/plain": [
       "2"
      ]
     },
     "execution_count": 54,
     "metadata": {},
     "output_type": "execute_result"
    }
   ],
   "source": [
    "class Solution(object):\n",
    "    def findComplement(self, num):\n",
    "        \"\"\"\n",
    "        :type num: int\n",
    "        :rtype: int\n",
    "        \"\"\"\n",
    "        # 首先移位，len(temp) == len(num) 且 temp二进制全为1\n",
    "        temp = 1\n",
    "        while temp < num:\n",
    "            temp <<= 1\n",
    "            temp += 1\n",
    "        \n",
    "        # 异或运算\n",
    "        return temp^num\n",
    "        \n",
    "num = 5\n",
    "solution = Solution()\n",
    "solution.findComplement(num)"
   ]
  },
  {
   "cell_type": "code",
   "execution_count": null,
   "metadata": {},
   "outputs": [],
   "source": []
  }
 ],
 "metadata": {
  "kernelspec": {
   "display_name": "python pratice",
   "language": "python",
   "name": "env_name"
  },
  "language_info": {
   "codemirror_mode": {
    "name": "ipython",
    "version": 3
   },
   "file_extension": ".py",
   "mimetype": "text/x-python",
   "name": "python",
   "nbconvert_exporter": "python",
   "pygments_lexer": "ipython3",
   "version": "3.7.1"
  },
  "toc": {
   "base_numbering": 1,
   "nav_menu": {},
   "number_sections": true,
   "sideBar": true,
   "skip_h1_title": false,
   "title_cell": "Table of Contents",
   "title_sidebar": "Contents",
   "toc_cell": false,
   "toc_position": {},
   "toc_section_display": true,
   "toc_window_display": false
  }
 },
 "nbformat": 4,
 "nbformat_minor": 2
}
