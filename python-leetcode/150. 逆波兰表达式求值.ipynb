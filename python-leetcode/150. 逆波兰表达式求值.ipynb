{
 "cells": [
  {
   "cell_type": "markdown",
   "metadata": {},
   "source": [
    "逆波兰式（Reverse Polish notation，RPN，或逆波兰记法），也叫后缀表达式（将运算符写在操作数之后）\n"
   ]
  },
  {
   "cell_type": "markdown",
   "metadata": {},
   "source": [
    "#### 题目藐视\n",
    "有效的运算符包括 +, -, *, / 。每个运算对象可以是整数，也可以是另一个逆波兰表达式。\n",
    "\n",
    "说明：\n",
    "\n",
    "整数除法只保留整数部分。\n",
    "给定逆波兰表达式总是有效的。换句话说，表达式总会得出有效数值且不存在除数为 0 的情况。\n",
    "示例 1：\n",
    "\n",
    "输入: [\"2\", \"1\", \"+\", \"3\", \"*\"]\n",
    "\n",
    "输出: 9\n",
    "\n",
    "解释: ((2 + 1) * 3) = 9\n",
    "\n",
    "---\n",
    "示例 2：\n",
    "\n",
    "输入: [\"4\", \"13\", \"5\", \"/\", \"+\"]\n",
    "\n",
    "输出: 6\n",
    "\n",
    "解释: (4 + (13 / 5)) = 6\n",
    "\n",
    "---\n",
    "示例 3：\n",
    "\n",
    "输入: [\"10\", \"6\", \"9\", \"3\", \"+\", \"-11\", \"*\", \"/\", \"*\", \"17\", \"+\", \"5\", \"+\"]\n",
    "\n",
    "输出: 22\n",
    "\n",
    "解释: \n",
    "  ((10 * (6 / ((9 + 3) * -11))) + 17) + 5\n",
    "  \n",
    "= ((10 * (6 / (12 * -11))) + 17) + 5\n",
    "\n",
    "= ((10 * (6 / -132)) + 17) + 5\n",
    "\n",
    "= ((10 * 0) + 17) + 5\n",
    "\n",
    "= (0 + 17) + 5\n",
    "\n",
    "= 17 + 5\n",
    "\n",
    "= 22\n",
    "\n",
    "-----\n",
    "#### 思路：\n",
    "采用栈的思想\n",
    "- 遇到数字，直接将数字压栈\n",
    "- 遇到运算符，将栈顶的两个元素出栈，并根据运算符计算出结果d\n",
    "- 将运算的结果d再次入栈\n",
    "- 继续上述操作"
   ]
  },
  {
   "cell_type": "code",
   "execution_count": 23,
   "metadata": {
    "ExecuteTime": {
     "end_time": "2019-06-30T14:46:12.820963Z",
     "start_time": "2019-06-30T14:46:12.797310Z"
    }
   },
   "outputs": [
    {
     "data": {
      "text/plain": [
       "6"
      ]
     },
     "execution_count": 23,
     "metadata": {},
     "output_type": "execute_result"
    }
   ],
   "source": [
    "class Solution(object):\n",
    "    def evalRPN(self, tokens):\n",
    "        \"\"\"\n",
    "        :type tokens: List[str]\n",
    "        :rtype: int\n",
    "        \"\"\"\n",
    "        # 初始化栈\n",
    "        stack = []\n",
    "        for item in tokens:\n",
    "            if item not in '+-*/':\n",
    "                # 元素压栈\n",
    "                stack.append(int(item))\n",
    "            else:\n",
    "                # 栈，后进先出\n",
    "                stack.append(self.cal(stack.pop(), stack.pop(), item))\n",
    "            \n",
    "        return stack.pop()\n",
    "    \n",
    "    # 栈，后进先出,这里要注意顺序，应为 rear2 oper rear1\n",
    "    def cal(self, rear1, rear2, oper):\n",
    "        if oper == \"+\":\n",
    "            return rear2 + rear1\n",
    "        elif oper == \"-\":\n",
    "            return rear2 - rear1\n",
    "        elif oper == \"*\":\n",
    "            return rear2 * rear1\n",
    "        else:\n",
    "            return int(rear2 / rear1)\n",
    "            \n",
    "        \n",
    "\n",
    "# tokens = [\"10\",\"6\",\"9\",\"3\",\"+\",\"-11\",\"*\",\"/\",\"*\",\"17\",\"+\",\"5\",\"+\"]\n",
    "tokens =  [\"4\", \"13\", \"5\", \"/\", \"+\"]\n",
    "solution = Solution()\n",
    "solution.evalRPN(tokens)"
   ]
  },
  {
   "cell_type": "code",
   "execution_count": null,
   "metadata": {},
   "outputs": [],
   "source": []
  }
 ],
 "metadata": {
  "kernelspec": {
   "display_name": "python pratice",
   "language": "python",
   "name": "env_name"
  },
  "language_info": {
   "codemirror_mode": {
    "name": "ipython",
    "version": 3
   },
   "file_extension": ".py",
   "mimetype": "text/x-python",
   "name": "python",
   "nbconvert_exporter": "python",
   "pygments_lexer": "ipython3",
   "version": "3.7.1"
  },
  "toc": {
   "base_numbering": 1,
   "nav_menu": {},
   "number_sections": true,
   "sideBar": true,
   "skip_h1_title": false,
   "title_cell": "Table of Contents",
   "title_sidebar": "Contents",
   "toc_cell": false,
   "toc_position": {},
   "toc_section_display": true,
   "toc_window_display": false
  }
 },
 "nbformat": 4,
 "nbformat_minor": 2
}
