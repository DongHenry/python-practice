{
 "cells": [
  {
   "cell_type": "markdown",
   "metadata": {},
   "source": [
    "#### 题目描述\n",
    "以 Unix 风格给出一个文件的绝对路径，你需要简化它。或者换句话说，将其转换为规范路径。\n",
    "\n",
    "在 Unix 风格的文件系统中，一个点（.）表示当前目录本身；此外，两个点 （..） 表示将目录切换到上一级（指向父目录）；两者都可以是复杂相对路径的组成部分。\n",
    "\n",
    "\n",
    "请注意，返回的规范路径必须始终以斜杠 / 开头，并且两个目录名之间必须只有一个斜杠 /。最后一个目录名（如果存在）不能以 / 结尾。此外，规范路径必须是表示绝对路径的最短字符串。\n",
    "\n",
    " \n",
    "\n",
    "示例 1：\n",
    "\n",
    "输入：\"/home/\"\n",
    "输出：\"/home\"\n",
    "解释：注意，最后一个目录名后面没有斜杠。\n",
    "\n",
    "---\n",
    "示例 2：\n",
    "\n",
    "输入：\"/../\"\n",
    "输出：\"/\"\n",
    "解释：从根目录向上一级是不可行的，因为根是你可以到达的最高级。\n",
    "\n",
    "---\n",
    "示例 3：\n",
    "\n",
    "输入：\"/home//foo/\"\n",
    "输出：\"/home/foo\"\n",
    "解释：在规范路径中，多个连续斜杠需要用一个斜杠替换。\n",
    "\n",
    "---\n",
    "示例 4：\n",
    "\n",
    "输入：\"/a/./b/../../c/\"\n",
    "输出：\"/c\"\n",
    "\n",
    "---\n",
    "示例 5：\n",
    "\n",
    "输入：\"/a/../../b/../c//.//\"\n",
    "输出：\"/c\"\n",
    "\n",
    "---\n",
    "示例 6：\n",
    "\n",
    "输入：\"/a//b////c/d//././/..\"\n",
    "输出：\"/a/b/c\"\n",
    "\n",
    "\n",
    "#### 思路\n",
    "使用栈的思想\n",
    "- 把当前目录压入栈底，遇到“..”从栈顶弹出。最后返回栈中元素"
   ]
  },
  {
   "cell_type": "code",
   "execution_count": 5,
   "metadata": {
    "ExecuteTime": {
     "end_time": "2019-06-30T12:46:27.920161Z",
     "start_time": "2019-06-30T12:46:27.903095Z"
    }
   },
   "outputs": [
    {
     "data": {
      "text/plain": [
       "'/'"
      ]
     },
     "execution_count": 5,
     "metadata": {},
     "output_type": "execute_result"
    }
   ],
   "source": [
    "class Solution(object):\n",
    "    def simplifyPath(self, path):\n",
    "        \"\"\"\n",
    "        :type path: str\n",
    "        :rtype: str\n",
    "        \"\"\"\n",
    "        stack = []\n",
    "        path = path.split(\"/\")\n",
    "        \n",
    "        for item in path:\n",
    "            if not item or item == \".\":\n",
    "                continue\n",
    "            elif item == \"..\":\n",
    "                if stack:stack.pop()\n",
    "            else:\n",
    "                stack.append(item)\n",
    "                \n",
    "        return '/'+\"/\".join(stack)\n",
    "        \n",
    "path = \"/../\"\n",
    "solution = Solution()\n",
    "solution.simplifyPath(path)"
   ]
  },
  {
   "cell_type": "code",
   "execution_count": null,
   "metadata": {},
   "outputs": [],
   "source": []
  }
 ],
 "metadata": {
  "kernelspec": {
   "display_name": "python pratice",
   "language": "python",
   "name": "env_name"
  },
  "language_info": {
   "codemirror_mode": {
    "name": "ipython",
    "version": 3
   },
   "file_extension": ".py",
   "mimetype": "text/x-python",
   "name": "python",
   "nbconvert_exporter": "python",
   "pygments_lexer": "ipython3",
   "version": "3.7.1"
  },
  "toc": {
   "base_numbering": 1,
   "nav_menu": {},
   "number_sections": true,
   "sideBar": true,
   "skip_h1_title": false,
   "title_cell": "Table of Contents",
   "title_sidebar": "Contents",
   "toc_cell": false,
   "toc_position": {},
   "toc_section_display": true,
   "toc_window_display": false
  }
 },
 "nbformat": 4,
 "nbformat_minor": 2
}
