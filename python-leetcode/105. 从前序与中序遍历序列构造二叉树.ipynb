{
 "cells": [
  {
   "cell_type": "markdown",
   "metadata": {},
   "source": [
    "#### 题目描述\n",
    "根据一棵树的前序遍历与中序遍历构造二叉树。\n",
    "\n",
    "注意:\n",
    "你可以假设树中没有重复的元素。\n",
    "\n",
    "例如，给出\n",
    "\n",
    "前序遍历 preorder = [3,9,20,15,7]\n",
    "\n",
    "中序遍历 inorder = [9,3,15,20,7]\n"
   ]
  },
  {
   "cell_type": "markdown",
   "metadata": {},
   "source": [
    "#### 先了解一下二叉树的前序遍历和中序遍历的顺序：\n",
    "- 前序遍历：根节点->左子树节点->右子树节点\n",
    "- 中序遍历：左子树节点 -> 根节点 -> 右子树节点\n",
    "\n",
    "从前序遍历和中序遍历的顺序可以得出：前序遍历的第一个节点为二叉树的根节点，而该根节点在中序遍历的左侧为\n",
    "左子树，在其右侧为右子树。\n",
    "\n",
    "如下所示：\n",
    "- 前序遍历：【5,6,2,3,7,8】\n",
    "- 中序遍历: [2,6,3,5,8,7]\n",
    "\n",
    "前序遍历的第一个元素[5]是该二叉树的根节点。而在中序遍历中[5]之前的元素[2,6,3]为该二叉树的左子树，[8,7]为该二叉树的右子树\n",
    "\n",
    "由二叉树的前序遍历和中序遍历重建二叉树变为：\n",
    "1. 找到每个子树的根节点\n",
    "2. 构造该根节点的左子树\n",
    "3. 构造该根几点的右子树"
   ]
  },
  {
   "cell_type": "code",
   "execution_count": null,
   "metadata": {},
   "outputs": [],
   "source": [
    "# Definition for a binary tree node.\n",
    "# class TreeNode(object):\n",
    "#     def __init__(self, x):\n",
    "#         self.val = x\n",
    "#         self.left = None\n",
    "#         self.right = None\n",
    "\n",
    "class Solution(object):\n",
    "    def buildTree(self, preorder, inorder):\n",
    "        \"\"\"\n",
    "        :type preorder: List[int]\n",
    "        :type inorder: List[int]\n",
    "        :rtype: TreeNode\n",
    "        \"\"\"\n",
    "        if not preorder:\n",
    "            return None\n",
    "        # 前序遍历的第一个节点为该二叉树的根节点\n",
    "        root = TreeNode(preorder[0])\n",
    "        # 在中序遍历中查找根节点的位置\n",
    "        location = inorder.index(preorder[0])\n",
    "        \n",
    "        # 递归左子树\n",
    "        root.left = self.buildTree(preorder[1:location+1], inorder[:location])\n",
    "        \n",
    "        # 递归右子树\n",
    "        root.right = self.buildTree(preorder[location+1:], inorder[location+1:])\n",
    "        \n",
    "        return root\n",
    "        "
   ]
  },
  {
   "cell_type": "code",
   "execution_count": 14,
   "metadata": {
    "ExecuteTime": {
     "end_time": "2019-06-18T04:29:11.904480Z",
     "start_time": "2019-06-18T04:29:11.897354Z"
    }
   },
   "outputs": [
    {
     "name": "stdout",
     "output_type": "stream",
     "text": [
      "二叉树根节点在中序遍历中的位置: 3\n",
      "在中序遍历中5节点之前的为左子树:[2, 6, 3]\n",
      "在中序遍历中5节点之后的为右子树:[8, 7]\n",
      "在前序遍历中左子树节点:[6, 2, 3]\n",
      "在前序遍历中右子树节点:[7, 8]\n"
     ]
    }
   ],
   "source": [
    "pre_order = [5,6,2,3,7,8]\n",
    "in_order = [2,6,3,5,8,7]\n",
    "location = in_order.index(pre_order[0])\n",
    "print(f\"二叉树根节点在中序遍历中的位置: {location}\")\n",
    "print(f\"在中序遍历中5节点之前的为左子树:{in_order[:location]}\")\n",
    "print(f\"在中序遍历中5节点之后的为右子树:{in_order[location+1:]}\")\n",
    "print(f\"在前序遍历中左子树节点:{pre_order[1:location+1]}\")\n",
    "print(f\"在前序遍历中右子树节点:{pre_order[location+1:]}\")"
   ]
  },
  {
   "cell_type": "code",
   "execution_count": null,
   "metadata": {},
   "outputs": [],
   "source": []
  }
 ],
 "metadata": {
  "kernelspec": {
   "display_name": "python pratice",
   "language": "python",
   "name": "env_name"
  },
  "language_info": {
   "codemirror_mode": {
    "name": "ipython",
    "version": 3
   },
   "file_extension": ".py",
   "mimetype": "text/x-python",
   "name": "python",
   "nbconvert_exporter": "python",
   "pygments_lexer": "ipython3",
   "version": "3.7.1"
  },
  "toc": {
   "base_numbering": 1,
   "nav_menu": {},
   "number_sections": true,
   "sideBar": true,
   "skip_h1_title": false,
   "title_cell": "Table of Contents",
   "title_sidebar": "Contents",
   "toc_cell": false,
   "toc_position": {},
   "toc_section_display": true,
   "toc_window_display": false
  }
 },
 "nbformat": 4,
 "nbformat_minor": 2
}
