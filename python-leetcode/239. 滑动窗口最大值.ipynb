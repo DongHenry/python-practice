{
 "cells": [
  {
   "cell_type": "markdown",
   "metadata": {},
   "source": [
    "给定一个数组 nums，有一个大小为 k 的滑动窗口从数组的最左侧移动到数组的最右侧。你只可以看到在滑动窗口 k 内的数字。滑动窗口每次只向右移动一位。\n",
    "\n",
    "返回滑动窗口最大值。\n",
    "\n",
    "示例:\n",
    "\n",
    "输入: nums = [1,3,-1,-3,5,3,6,7], 和 k = 3\n",
    "输出: [3,3,5,5,6,7] \n",
    "解释: \n",
    "\n",
    "  滑动窗口的位置                最大值\n",
    "---------------               -----\n",
    "[1  3  -1] -3  5  3  6  7       3\n",
    "\n",
    " 1 [3  -1  -3] 5  3  6  7       3\n",
    " \n",
    " 1  3 [-1  -3  5] 3  6  7       5\n",
    " \n",
    " 1  3  -1 [-3  5  3] 6  7       5\n",
    " \n",
    " 1  3  -1  -3 [5  3  6] 7       6\n",
    " \n",
    " 1  3  -1  -3  5 [3  6  7]      7\n",
    " \n",
    " 你可以假设 k 总是有效的，1 ≤ k ≤ 输入数组的大小，且输入数组不为空。\n"
   ]
  },
  {
   "cell_type": "code",
   "execution_count": 15,
   "metadata": {
    "ExecuteTime": {
     "end_time": "2019-06-28T08:09:14.053797Z",
     "start_time": "2019-06-28T08:09:14.044247Z"
    }
   },
   "outputs": [
    {
     "data": {
      "text/plain": [
       "[7, 4]"
      ]
     },
     "execution_count": 15,
     "metadata": {},
     "output_type": "execute_result"
    }
   ],
   "source": [
    "class Solution(object):\n",
    "    def maxSlidingWindow(self, nums, k):\n",
    "        \"\"\"\n",
    "        :type nums: List[int]\n",
    "        :type k: int\n",
    "        :rtype: List[int]\n",
    "        \"\"\"\n",
    "        result = []\n",
    "        for i,_ in enumerate(nums):\n",
    "            result.append(max(nums[i:k+i]))\n",
    "            if i == (len(nums)-k):\n",
    "                return result\n",
    "\n",
    "# nums = [1,3,-1,-3,5,3,6,7]\n",
    "# k = 4\n",
    "# solution = Solution()\n",
    "# solution.maxSlidingWindow(nums, k)\n",
    "\n",
    "nums = [7, 2, 4]\n",
    "k = 2\n",
    "solution = Solution()\n",
    "solution.maxSlidingWindow(nums, k)"
   ]
  },
  {
   "cell_type": "code",
   "execution_count": null,
   "metadata": {},
   "outputs": [],
   "source": []
  }
 ],
 "metadata": {
  "kernelspec": {
   "display_name": "python pratice",
   "language": "python",
   "name": "env_name"
  },
  "language_info": {
   "codemirror_mode": {
    "name": "ipython",
    "version": 3
   },
   "file_extension": ".py",
   "mimetype": "text/x-python",
   "name": "python",
   "nbconvert_exporter": "python",
   "pygments_lexer": "ipython3",
   "version": "3.7.1"
  },
  "toc": {
   "base_numbering": 1,
   "nav_menu": {},
   "number_sections": true,
   "sideBar": true,
   "skip_h1_title": false,
   "title_cell": "Table of Contents",
   "title_sidebar": "Contents",
   "toc_cell": false,
   "toc_position": {},
   "toc_section_display": true,
   "toc_window_display": false
  }
 },
 "nbformat": 4,
 "nbformat_minor": 2
}
